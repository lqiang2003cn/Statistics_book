{
 "nbformat": 4,
 "nbformat_minor": 0,
 "metadata": {
  "colab": {
   "private_outputs": true,
   "provenance": []
  },
  "kernelspec": {
   "name": "python3",
   "display_name": "Python 3 (ipykernel)",
   "language": "python"
  },
  "language_info": {
   "name": "python"
  }
 },
 "cells": [
  {
   "cell_type": "markdown",
   "metadata": {
    "id": "view-in-github"
   },
   "source": [
    "<a href=\"https://colab.research.google.com/github/mikexcohen/Statistics_book/blob/main/stats_ch03_visualization.ipynb\" target=\"_parent\"><img src=\"https://colab.research.google.com/assets/colab-badge.svg\" alt=\"Open In Colab\"/></a>"
   ]
  },
  {
   "cell_type": "markdown",
   "source": [
    "# Modern statistics: Intuition, Math, Python, R\n",
    "## Mike X Cohen (sincxpress.com)\n",
    "#### https://www.amazon.com/dp/B0CQRGWGLY\n",
    "#### Code for chapter 3 (visualization)\n",
    "\n",
    "---\n",
    "\n",
    "# About this code file:\n",
    "\n",
    "### This notebook will reproduce most of the figures in this chapter (some figures were made in Inkscape), and illustrate the statistical concepts explained in the text. The point of providing the code is not just for you to recreate the figures, but for you to modify, adapt, explore, and experiment with the code.\n",
    "\n",
    "### Solutions to all exercises are at the bottom of the notebook.\n",
    "\n",
    "#### This code was written in google-colab. The notebook may require some modifications if you use a different IDE."
   ],
   "metadata": {
    "id": "yeVh6hm2ezCO"
   }
  },
  {
   "cell_type": "code",
   "metadata": {
    "id": "oYWhHwGQ9OdD",
    "ExecuteTime": {
     "end_time": "2024-09-10T11:04:44.187810Z",
     "start_time": "2024-09-10T11:04:44.172384Z"
    }
   },
   "source": [
    "# import libraries and define global settings\n",
    "import numpy as np\n",
    "import pandas as pd\n",
    "import seaborn as sns\n",
    "\n",
    "import matplotlib.pyplot as plt\n",
    "from matplotlib.patches import Polygon # to create patches\n",
    "\n",
    "# define global figure properties used for publication\n",
    "import matplotlib_inline.backend_inline\n",
    "matplotlib_inline.backend_inline.set_matplotlib_formats('svg') # display figures in vector format\n",
    "plt.rcParams.update({'font.size':14,             # font size\n",
    "                     'savefig.dpi':300,          # output resolution\n",
    "                     'axes.titlelocation':'left',# title location\n",
    "                     'axes.spines.right':False,  # remove axis bounding box\n",
    "                     'axes.spines.top':False,    # remove axis bounding box\n",
    "                     })"
   ],
   "outputs": [],
   "execution_count": 1
  },
  {
   "cell_type": "code",
   "source": [],
   "metadata": {
    "id": "Ls2d_er6jq2u"
   },
   "execution_count": null,
   "outputs": []
  },
  {
   "cell_type": "markdown",
   "source": [
    "# Figure 3.2: The math of the heart :)"
   ],
   "metadata": {
    "id": "qDfibMxpjqzm"
   }
  },
  {
   "cell_type": "code",
   "source": [
    "import sympy as sym\n",
    "\n",
    "x,y = sym.symbols('x,y')\n",
    "expr = (x**2 + y**2 - 1)**3 - x**2 * y**3\n",
    "\n",
    "# just need the output, not the plot\n",
    "h = sym.plot_implicit(expr,show=False)\n",
    "\n",
    "# grab midpoints of intervals and plot those\n",
    "data = np.array([(x_int.mid, y_int.mid) for x_int, y_int in h[0].get_points()[0]])\n",
    "plt.plot(data[:,0],data[:,1],'k.',markersize=2)\n",
    "plt.yticks([-1,0,1])\n",
    "plt.axis('square')\n",
    "\n",
    "plt.savefig('vis_heart.png')\n",
    "plt.show()"
   ],
   "metadata": {
    "id": "5mhmQCFOkC40",
    "ExecuteTime": {
     "end_time": "2024-09-10T11:05:19.079429Z",
     "start_time": "2024-09-10T11:05:18.084224Z"
    }
   },
   "outputs": [
    {
     "data": {
      "text/plain": [
       "<Figure size 640x480 with 1 Axes>"
      ],
      "image/svg+xml": "<?xml version=\"1.0\" encoding=\"utf-8\" standalone=\"no\"?>\n<!DOCTYPE svg PUBLIC \"-//W3C//DTD SVG 1.1//EN\"\n  \"http://www.w3.org/Graphics/SVG/1.1/DTD/svg11.dtd\">\n<svg xmlns:xlink=\"http://www.w3.org/1999/xlink\" width=\"303.474187pt\" height=\"300.315437pt\" viewBox=\"0 0 303.474187 300.315437\" xmlns=\"http://www.w3.org/2000/svg\" version=\"1.1\">\n <metadata>\n  <rdf:RDF xmlns:dc=\"http://purl.org/dc/elements/1.1/\" xmlns:cc=\"http://creativecommons.org/ns#\" xmlns:rdf=\"http://www.w3.org/1999/02/22-rdf-syntax-ns#\">\n   <cc:Work>\n    <dc:type rdf:resource=\"http://purl.org/dc/dcmitype/StillImage\"/>\n    <dc:date>2024-09-10T19:05:18.922705</dc:date>\n    <dc:format>image/svg+xml</dc:format>\n    <dc:creator>\n     <cc:Agent>\n      <dc:title>Matplotlib v3.8.0, https://matplotlib.org/</dc:title>\n     </cc:Agent>\n    </dc:creator>\n   </cc:Work>\n  </rdf:RDF>\n </metadata>\n <defs>\n  <style type=\"text/css\">*{stroke-linejoin: round; stroke-linecap: butt}</style>\n </defs>\n <g id=\"figure_1\">\n  <g id=\"patch_1\">\n   <path d=\"M 0 300.315437 \nL 303.474187 300.315437 \nL 303.474187 0 \nL 0 0 \nz\n\" style=\"fill: #ffffff\"/>\n  </g>\n  <g id=\"axes_1\">\n   <g id=\"patch_2\">\n    <path d=\"M 30.162188 273.312 \nL 296.274187 273.312 \nL 296.274187 7.2 \nL 30.162188 7.2 \nz\n\" style=\"fill: #eaeaf2\"/>\n   </g>\n   <g id=\"matplotlib.axis_1\">\n    <g id=\"xtick_1\">\n     <g id=\"line2d_1\">\n      <path d=\"M 57.802436 273.312 \nL 57.802436 7.2 \n\" clip-path=\"url(#pd97a7ac792)\" style=\"fill: none; stroke: #ffffff; stroke-width: 0.8; stroke-linecap: round\"/>\n     </g>\n     <g id=\"text_1\">\n      <!-- −1.0 -->\n      <g style=\"fill: #262626\" transform=\"translate(43.983999 290.332937) scale(0.14 -0.14)\">\n       <defs>\n        <path id=\"ArialMT-2212\" d=\"M 3381 1997 \nL 356 1997 \nL 356 2522 \nL 3381 2522 \nL 3381 1997 \nz\n\" transform=\"scale(0.015625)\"/>\n        <path id=\"ArialMT-31\" d=\"M 2384 0 \nL 1822 0 \nL 1822 3584 \nQ 1619 3391 1289 3197 \nQ 959 3003 697 2906 \nL 697 3450 \nQ 1169 3672 1522 3987 \nQ 1875 4303 2022 4600 \nL 2384 4600 \nL 2384 0 \nz\n\" transform=\"scale(0.015625)\"/>\n        <path id=\"ArialMT-2e\" d=\"M 581 0 \nL 581 641 \nL 1222 641 \nL 1222 0 \nL 581 0 \nz\n\" transform=\"scale(0.015625)\"/>\n        <path id=\"ArialMT-30\" d=\"M 266 2259 \nQ 266 3072 433 3567 \nQ 600 4063 929 4331 \nQ 1259 4600 1759 4600 \nQ 2128 4600 2406 4451 \nQ 2684 4303 2865 4023 \nQ 3047 3744 3150 3342 \nQ 3253 2941 3253 2259 \nQ 3253 1453 3087 958 \nQ 2922 463 2592 192 \nQ 2263 -78 1759 -78 \nQ 1097 -78 719 397 \nQ 266 969 266 2259 \nz\nM 844 2259 \nQ 844 1131 1108 757 \nQ 1372 384 1759 384 \nQ 2147 384 2411 759 \nQ 2675 1134 2675 2259 \nQ 2675 3391 2411 3762 \nQ 2147 4134 1753 4134 \nQ 1366 4134 1134 3806 \nQ 844 3388 844 2259 \nz\n\" transform=\"scale(0.015625)\"/>\n       </defs>\n       <use xlink:href=\"#ArialMT-2212\"/>\n       <use xlink:href=\"#ArialMT-31\" x=\"58.398438\"/>\n       <use xlink:href=\"#ArialMT-2e\" x=\"114.013672\"/>\n       <use xlink:href=\"#ArialMT-30\" x=\"141.796875\"/>\n      </g>\n     </g>\n    </g>\n    <g id=\"xtick_2\">\n     <g id=\"line2d_2\">\n      <path d=\"M 110.510144 273.312 \nL 110.510144 7.2 \n\" clip-path=\"url(#pd97a7ac792)\" style=\"fill: none; stroke: #ffffff; stroke-width: 0.8; stroke-linecap: round\"/>\n     </g>\n     <g id=\"text_2\">\n      <!-- −0.5 -->\n      <g style=\"fill: #262626\" transform=\"translate(96.691707 290.332937) scale(0.14 -0.14)\">\n       <defs>\n        <path id=\"ArialMT-35\" d=\"M 266 1200 \nL 856 1250 \nQ 922 819 1161 601 \nQ 1400 384 1738 384 \nQ 2144 384 2425 690 \nQ 2706 997 2706 1503 \nQ 2706 1984 2436 2262 \nQ 2166 2541 1728 2541 \nQ 1456 2541 1237 2417 \nQ 1019 2294 894 2097 \nL 366 2166 \nL 809 4519 \nL 3088 4519 \nL 3088 3981 \nL 1259 3981 \nL 1013 2750 \nQ 1425 3038 1878 3038 \nQ 2478 3038 2890 2622 \nQ 3303 2206 3303 1553 \nQ 3303 931 2941 478 \nQ 2500 -78 1738 -78 \nQ 1113 -78 717 272 \nQ 322 622 266 1200 \nz\n\" transform=\"scale(0.015625)\"/>\n       </defs>\n       <use xlink:href=\"#ArialMT-2212\"/>\n       <use xlink:href=\"#ArialMT-30\" x=\"58.398438\"/>\n       <use xlink:href=\"#ArialMT-2e\" x=\"114.013672\"/>\n       <use xlink:href=\"#ArialMT-35\" x=\"141.796875\"/>\n      </g>\n     </g>\n    </g>\n    <g id=\"xtick_3\">\n     <g id=\"line2d_3\">\n      <path d=\"M 163.217853 273.312 \nL 163.217853 7.2 \n\" clip-path=\"url(#pd97a7ac792)\" style=\"fill: none; stroke: #ffffff; stroke-width: 0.8; stroke-linecap: round\"/>\n     </g>\n     <g id=\"text_3\">\n      <!-- 0.0 -->\n      <g style=\"fill: #262626\" transform=\"translate(153.487853 290.332937) scale(0.14 -0.14)\">\n       <use xlink:href=\"#ArialMT-30\"/>\n       <use xlink:href=\"#ArialMT-2e\" x=\"55.615234\"/>\n       <use xlink:href=\"#ArialMT-30\" x=\"83.398438\"/>\n      </g>\n     </g>\n    </g>\n    <g id=\"xtick_4\">\n     <g id=\"line2d_4\">\n      <path d=\"M 215.925561 273.312 \nL 215.925561 7.2 \n\" clip-path=\"url(#pd97a7ac792)\" style=\"fill: none; stroke: #ffffff; stroke-width: 0.8; stroke-linecap: round\"/>\n     </g>\n     <g id=\"text_4\">\n      <!-- 0.5 -->\n      <g style=\"fill: #262626\" transform=\"translate(206.195561 290.332937) scale(0.14 -0.14)\">\n       <use xlink:href=\"#ArialMT-30\"/>\n       <use xlink:href=\"#ArialMT-2e\" x=\"55.615234\"/>\n       <use xlink:href=\"#ArialMT-35\" x=\"83.398438\"/>\n      </g>\n     </g>\n    </g>\n    <g id=\"xtick_5\">\n     <g id=\"line2d_5\">\n      <path d=\"M 268.633269 273.312 \nL 268.633269 7.2 \n\" clip-path=\"url(#pd97a7ac792)\" style=\"fill: none; stroke: #ffffff; stroke-width: 0.8; stroke-linecap: round\"/>\n     </g>\n     <g id=\"text_5\">\n      <!-- 1.0 -->\n      <g style=\"fill: #262626\" transform=\"translate(258.903269 290.332937) scale(0.14 -0.14)\">\n       <use xlink:href=\"#ArialMT-31\"/>\n       <use xlink:href=\"#ArialMT-2e\" x=\"55.615234\"/>\n       <use xlink:href=\"#ArialMT-30\" x=\"83.398438\"/>\n      </g>\n     </g>\n    </g>\n   </g>\n   <g id=\"matplotlib.axis_2\">\n    <g id=\"ytick_1\">\n     <g id=\"line2d_6\">\n      <path d=\"M 30.162188 261.369919 \nL 296.274187 261.369919 \n\" clip-path=\"url(#pd97a7ac792)\" style=\"fill: none; stroke: #ffffff; stroke-width: 0.8; stroke-linecap: round\"/>\n     </g>\n     <g id=\"text_6\">\n      <!-- −1 -->\n      <g style=\"fill: #262626\" transform=\"translate(7.2 266.380387) scale(0.14 -0.14)\">\n       <use xlink:href=\"#ArialMT-2212\"/>\n       <use xlink:href=\"#ArialMT-31\" x=\"58.398438\"/>\n      </g>\n     </g>\n    </g>\n    <g id=\"ytick_2\">\n     <g id=\"line2d_7\">\n      <path d=\"M 30.162188 155.954502 \nL 296.274187 155.954502 \n\" clip-path=\"url(#pd97a7ac792)\" style=\"fill: none; stroke: #ffffff; stroke-width: 0.8; stroke-linecap: round\"/>\n     </g>\n     <g id=\"text_7\">\n      <!-- 0 -->\n      <g style=\"fill: #262626\" transform=\"translate(15.376875 160.964971) scale(0.14 -0.14)\">\n       <use xlink:href=\"#ArialMT-30\"/>\n      </g>\n     </g>\n    </g>\n    <g id=\"ytick_3\">\n     <g id=\"line2d_8\">\n      <path d=\"M 30.162188 50.539086 \nL 296.274187 50.539086 \n\" clip-path=\"url(#pd97a7ac792)\" style=\"fill: none; stroke: #ffffff; stroke-width: 0.8; stroke-linecap: round\"/>\n     </g>\n     <g id=\"text_8\">\n      <!-- 1 -->\n      <g style=\"fill: #262626\" transform=\"translate(15.376875 55.549555) scale(0.14 -0.14)\">\n       <use xlink:href=\"#ArialMT-31\"/>\n      </g>\n     </g>\n    </g>\n   </g>\n   <g id=\"line2d_9\">\n    <defs>\n     <path id=\"mc32d7dc3f1\" d=\"M 0 0.5 \nC 0.132602 0.5 0.25979 0.447317 0.353553 0.353553 \nC 0.447317 0.25979 0.5 0.132602 0.5 0 \nC 0.5 -0.132602 0.447317 -0.25979 0.353553 -0.353553 \nC 0.25979 -0.447317 0.132602 -0.5 0 -0.5 \nC -0.132602 -0.5 -0.25979 -0.447317 -0.353553 -0.353553 \nC -0.447317 -0.25979 -0.5 -0.132602 -0.5 0 \nC -0.5 0.132602 -0.447317 0.25979 -0.353553 0.353553 \nC -0.25979 0.447317 -0.132602 0.5 0 0.5 \nz\n\" style=\"stroke: #000000\"/>\n    </defs>\n    <g clip-path=\"url(#pd97a7ac792)\">\n     <use xlink:href=\"#mc32d7dc3f1\" x=\"61.817226\" y=\"164.705075\" style=\"stroke: #000000\"/>\n     <use xlink:href=\"#mc32d7dc3f1\" x=\"63.876072\" y=\"167.793476\" style=\"stroke: #000000\"/>\n     <use xlink:href=\"#mc32d7dc3f1\" x=\"63.876072\" y=\"166.764009\" style=\"stroke: #000000\"/>\n     <use xlink:href=\"#mc32d7dc3f1\" x=\"62.846649\" y=\"165.734542\" style=\"stroke: #000000\"/>\n     <use xlink:href=\"#mc32d7dc3f1\" x=\"62.846649\" y=\"164.705075\" style=\"stroke: #000000\"/>\n     <use xlink:href=\"#mc32d7dc3f1\" x=\"63.876072\" y=\"165.734542\" style=\"stroke: #000000\"/>\n     <use xlink:href=\"#mc32d7dc3f1\" x=\"59.75838\" y=\"160.587206\" style=\"stroke: #000000\"/>\n     <use xlink:href=\"#mc32d7dc3f1\" x=\"57.699534\" y=\"156.469337\" style=\"stroke: #000000\"/>\n     <use xlink:href=\"#mc32d7dc3f1\" x=\"58.728957\" y=\"158.528271\" style=\"stroke: #000000\"/>\n     <use xlink:href=\"#mc32d7dc3f1\" x=\"59.75838\" y=\"159.557739\" style=\"stroke: #000000\"/>\n     <use xlink:href=\"#mc32d7dc3f1\" x=\"59.75838\" y=\"158.528271\" style=\"stroke: #000000\"/>\n     <use xlink:href=\"#mc32d7dc3f1\" x=\"58.728957\" y=\"157.498804\" style=\"stroke: #000000\"/>\n     <use xlink:href=\"#mc32d7dc3f1\" x=\"58.728957\" y=\"156.469337\" style=\"stroke: #000000\"/>\n     <use xlink:href=\"#mc32d7dc3f1\" x=\"60.787803\" y=\"162.64614\" style=\"stroke: #000000\"/>\n     <use xlink:href=\"#mc32d7dc3f1\" x=\"61.817226\" y=\"163.675608\" style=\"stroke: #000000\"/>\n     <use xlink:href=\"#mc32d7dc3f1\" x=\"61.817226\" y=\"162.64614\" style=\"stroke: #000000\"/>\n     <use xlink:href=\"#mc32d7dc3f1\" x=\"60.787803\" y=\"161.616673\" style=\"stroke: #000000\"/>\n     <use xlink:href=\"#mc32d7dc3f1\" x=\"60.787803\" y=\"160.587206\" style=\"stroke: #000000\"/>\n     <use xlink:href=\"#mc32d7dc3f1\" x=\"47.405303\" y=\"131.762642\" style=\"stroke: #000000\"/>\n     <use xlink:href=\"#mc32d7dc3f1\" x=\"47.405303\" y=\"130.733197\" style=\"stroke: #000000\"/>\n     <use xlink:href=\"#mc32d7dc3f1\" x=\"47.405303\" y=\"129.703752\" style=\"stroke: #000000\"/>\n     <use xlink:href=\"#mc32d7dc3f1\" x=\"46.37588\" y=\"128.674307\" style=\"stroke: #000000\"/>\n     <use xlink:href=\"#mc32d7dc3f1\" x=\"46.37588\" y=\"127.644862\" style=\"stroke: #000000\"/>\n     <use xlink:href=\"#mc32d7dc3f1\" x=\"47.405303\" y=\"128.674307\" style=\"stroke: #000000\"/>\n     <use xlink:href=\"#mc32d7dc3f1\" x=\"47.405303\" y=\"127.644862\" style=\"stroke: #000000\"/>\n     <use xlink:href=\"#mc32d7dc3f1\" x=\"45.346457\" y=\"124.556526\" style=\"stroke: #000000\"/>\n     <use xlink:href=\"#mc32d7dc3f1\" x=\"45.346457\" y=\"123.527081\" style=\"stroke: #000000\"/>\n     <use xlink:href=\"#mc32d7dc3f1\" x=\"46.37588\" y=\"126.615417\" style=\"stroke: #000000\"/>\n     <use xlink:href=\"#mc32d7dc3f1\" x=\"46.37588\" y=\"125.585971\" style=\"stroke: #000000\"/>\n     <use xlink:href=\"#mc32d7dc3f1\" x=\"47.405303\" y=\"126.615417\" style=\"stroke: #000000\"/>\n     <use xlink:href=\"#mc32d7dc3f1\" x=\"47.405303\" y=\"125.585971\" style=\"stroke: #000000\"/>\n     <use xlink:href=\"#mc32d7dc3f1\" x=\"46.37588\" y=\"124.556526\" style=\"stroke: #000000\"/>\n     <use xlink:href=\"#mc32d7dc3f1\" x=\"46.37588\" y=\"123.527081\" style=\"stroke: #000000\"/>\n     <use xlink:href=\"#mc32d7dc3f1\" x=\"55.640688\" y=\"152.351545\" style=\"stroke: #000000\"/>\n     <use xlink:href=\"#mc32d7dc3f1\" x=\"53.581841\" y=\"148.233765\" style=\"stroke: #000000\"/>\n     <use xlink:href=\"#mc32d7dc3f1\" x=\"54.611264\" y=\"150.292655\" style=\"stroke: #000000\"/>\n     <use xlink:href=\"#mc32d7dc3f1\" x=\"55.640688\" y=\"151.3221\" style=\"stroke: #000000\"/>\n     <use xlink:href=\"#mc32d7dc3f1\" x=\"55.640688\" y=\"150.292655\" style=\"stroke: #000000\"/>\n     <use xlink:href=\"#mc32d7dc3f1\" x=\"54.611264\" y=\"149.26321\" style=\"stroke: #000000\"/>\n     <use xlink:href=\"#mc32d7dc3f1\" x=\"54.611264\" y=\"148.233765\" style=\"stroke: #000000\"/>\n     <use xlink:href=\"#mc32d7dc3f1\" x=\"51.522995\" y=\"143.086539\" style=\"stroke: #000000\"/>\n     <use xlink:href=\"#mc32d7dc3f1\" x=\"51.522995\" y=\"142.057094\" style=\"stroke: #000000\"/>\n     <use xlink:href=\"#mc32d7dc3f1\" x=\"50.493572\" y=\"141.027649\" style=\"stroke: #000000\"/>\n     <use xlink:href=\"#mc32d7dc3f1\" x=\"50.493572\" y=\"139.998203\" style=\"stroke: #000000\"/>\n     <use xlink:href=\"#mc32d7dc3f1\" x=\"51.522995\" y=\"141.027649\" style=\"stroke: #000000\"/>\n     <use xlink:href=\"#mc32d7dc3f1\" x=\"51.522995\" y=\"139.998203\" style=\"stroke: #000000\"/>\n     <use xlink:href=\"#mc32d7dc3f1\" x=\"52.552418\" y=\"146.174874\" style=\"stroke: #000000\"/>\n     <use xlink:href=\"#mc32d7dc3f1\" x=\"53.581841\" y=\"147.204319\" style=\"stroke: #000000\"/>\n     <use xlink:href=\"#mc32d7dc3f1\" x=\"53.581841\" y=\"146.174874\" style=\"stroke: #000000\"/>\n     <use xlink:href=\"#mc32d7dc3f1\" x=\"52.552418\" y=\"145.145429\" style=\"stroke: #000000\"/>\n     <use xlink:href=\"#mc32d7dc3f1\" x=\"52.552418\" y=\"144.115984\" style=\"stroke: #000000\"/>\n     <use xlink:href=\"#mc32d7dc3f1\" x=\"53.581841\" y=\"145.145429\" style=\"stroke: #000000\"/>\n     <use xlink:href=\"#mc32d7dc3f1\" x=\"52.552418\" y=\"143.086539\" style=\"stroke: #000000\"/>\n     <use xlink:href=\"#mc32d7dc3f1\" x=\"52.552418\" y=\"142.057094\" style=\"stroke: #000000\"/>\n     <use xlink:href=\"#mc32d7dc3f1\" x=\"56.670111\" y=\"154.410435\" style=\"stroke: #000000\"/>\n     <use xlink:href=\"#mc32d7dc3f1\" x=\"57.699534\" y=\"155.439881\" style=\"stroke: #000000\"/>\n     <use xlink:href=\"#mc32d7dc3f1\" x=\"57.699534\" y=\"154.410435\" style=\"stroke: #000000\"/>\n     <use xlink:href=\"#mc32d7dc3f1\" x=\"56.670111\" y=\"153.38099\" style=\"stroke: #000000\"/>\n     <use xlink:href=\"#mc32d7dc3f1\" x=\"56.670111\" y=\"152.351545\" style=\"stroke: #000000\"/>\n     <use xlink:href=\"#mc32d7dc3f1\" x=\"49.464149\" y=\"137.939313\" style=\"stroke: #000000\"/>\n     <use xlink:href=\"#mc32d7dc3f1\" x=\"49.464149\" y=\"136.909868\" style=\"stroke: #000000\"/>\n     <use xlink:href=\"#mc32d7dc3f1\" x=\"49.464149\" y=\"135.880423\" style=\"stroke: #000000\"/>\n     <use xlink:href=\"#mc32d7dc3f1\" x=\"50.493572\" y=\"138.968758\" style=\"stroke: #000000\"/>\n     <use xlink:href=\"#mc32d7dc3f1\" x=\"50.493572\" y=\"137.939313\" style=\"stroke: #000000\"/>\n     <use xlink:href=\"#mc32d7dc3f1\" x=\"50.493572\" y=\"136.909868\" style=\"stroke: #000000\"/>\n     <use xlink:href=\"#mc32d7dc3f1\" x=\"48.434726\" y=\"134.850978\" style=\"stroke: #000000\"/>\n     <use xlink:href=\"#mc32d7dc3f1\" x=\"48.434726\" y=\"133.821533\" style=\"stroke: #000000\"/>\n     <use xlink:href=\"#mc32d7dc3f1\" x=\"49.464149\" y=\"134.850978\" style=\"stroke: #000000\"/>\n     <use xlink:href=\"#mc32d7dc3f1\" x=\"49.464149\" y=\"133.821533\" style=\"stroke: #000000\"/>\n     <use xlink:href=\"#mc32d7dc3f1\" x=\"48.434726\" y=\"132.792087\" style=\"stroke: #000000\"/>\n     <use xlink:href=\"#mc32d7dc3f1\" x=\"48.434726\" y=\"131.762642\" style=\"stroke: #000000\"/>\n     <use xlink:href=\"#mc32d7dc3f1\" x=\"49.464149\" y=\"132.792087\" style=\"stroke: #000000\"/>\n     <use xlink:href=\"#mc32d7dc3f1\" x=\"48.434726\" y=\"130.733197\" style=\"stroke: #000000\"/>\n     <use xlink:href=\"#mc32d7dc3f1\" x=\"48.434726\" y=\"129.703752\" style=\"stroke: #000000\"/>\n     <use xlink:href=\"#mc32d7dc3f1\" x=\"45.346457\" y=\"122.497644\" style=\"stroke: #000000\"/>\n     <use xlink:href=\"#mc32d7dc3f1\" x=\"45.346457\" y=\"121.468215\" style=\"stroke: #000000\"/>\n     <use xlink:href=\"#mc32d7dc3f1\" x=\"44.317034\" y=\"119.409356\" style=\"stroke: #000000\"/>\n     <use xlink:href=\"#mc32d7dc3f1\" x=\"45.346457\" y=\"120.438786\" style=\"stroke: #000000\"/>\n     <use xlink:href=\"#mc32d7dc3f1\" x=\"45.346457\" y=\"119.409356\" style=\"stroke: #000000\"/>\n     <use xlink:href=\"#mc32d7dc3f1\" x=\"46.37588\" y=\"122.497644\" style=\"stroke: #000000\"/>\n     <use xlink:href=\"#mc32d7dc3f1\" x=\"46.37588\" y=\"121.468215\" style=\"stroke: #000000\"/>\n     <use xlink:href=\"#mc32d7dc3f1\" x=\"46.37588\" y=\"120.438786\" style=\"stroke: #000000\"/>\n     <use xlink:href=\"#mc32d7dc3f1\" x=\"44.317034\" y=\"118.379927\" style=\"stroke: #000000\"/>\n     <use xlink:href=\"#mc32d7dc3f1\" x=\"44.317034\" y=\"117.350498\" style=\"stroke: #000000\"/>\n     <use xlink:href=\"#mc32d7dc3f1\" x=\"45.346457\" y=\"118.379927\" style=\"stroke: #000000\"/>\n     <use xlink:href=\"#mc32d7dc3f1\" x=\"45.346457\" y=\"117.350498\" style=\"stroke: #000000\"/>\n     <use xlink:href=\"#mc32d7dc3f1\" x=\"44.317034\" y=\"116.321069\" style=\"stroke: #000000\"/>\n     <use xlink:href=\"#mc32d7dc3f1\" x=\"44.317034\" y=\"115.29164\" style=\"stroke: #000000\"/>\n     <use xlink:href=\"#mc32d7dc3f1\" x=\"45.346457\" y=\"116.321069\" style=\"stroke: #000000\"/>\n     <use xlink:href=\"#mc32d7dc3f1\" x=\"45.346457\" y=\"115.29164\" style=\"stroke: #000000\"/>\n     <use xlink:href=\"#mc32d7dc3f1\" x=\"43.287611\" y=\"114.26221\" style=\"stroke: #000000\"/>\n     <use xlink:href=\"#mc32d7dc3f1\" x=\"43.287611\" y=\"113.232781\" style=\"stroke: #000000\"/>\n     <use xlink:href=\"#mc32d7dc3f1\" x=\"43.287611\" y=\"112.203352\" style=\"stroke: #000000\"/>\n     <use xlink:href=\"#mc32d7dc3f1\" x=\"43.287611\" y=\"111.173923\" style=\"stroke: #000000\"/>\n     <use xlink:href=\"#mc32d7dc3f1\" x=\"43.287611\" y=\"110.144494\" style=\"stroke: #000000\"/>\n     <use xlink:href=\"#mc32d7dc3f1\" x=\"43.287611\" y=\"109.115064\" style=\"stroke: #000000\"/>\n     <use xlink:href=\"#mc32d7dc3f1\" x=\"43.287611\" y=\"108.085635\" style=\"stroke: #000000\"/>\n     <use xlink:href=\"#mc32d7dc3f1\" x=\"43.287611\" y=\"107.056206\" style=\"stroke: #000000\"/>\n     <use xlink:href=\"#mc32d7dc3f1\" x=\"44.317034\" y=\"114.26221\" style=\"stroke: #000000\"/>\n     <use xlink:href=\"#mc32d7dc3f1\" x=\"44.317034\" y=\"113.232781\" style=\"stroke: #000000\"/>\n     <use xlink:href=\"#mc32d7dc3f1\" x=\"45.346457\" y=\"114.26221\" style=\"stroke: #000000\"/>\n     <use xlink:href=\"#mc32d7dc3f1\" x=\"44.317034\" y=\"112.203352\" style=\"stroke: #000000\"/>\n     <use xlink:href=\"#mc32d7dc3f1\" x=\"44.317034\" y=\"111.173923\" style=\"stroke: #000000\"/>\n     <use xlink:href=\"#mc32d7dc3f1\" x=\"44.317034\" y=\"110.144494\" style=\"stroke: #000000\"/>\n     <use xlink:href=\"#mc32d7dc3f1\" x=\"44.317034\" y=\"109.115064\" style=\"stroke: #000000\"/>\n     <use xlink:href=\"#mc32d7dc3f1\" x=\"44.317034\" y=\"108.085635\" style=\"stroke: #000000\"/>\n     <use xlink:href=\"#mc32d7dc3f1\" x=\"44.317034\" y=\"107.056206\" style=\"stroke: #000000\"/>\n     <use xlink:href=\"#mc32d7dc3f1\" x=\"42.258188\" y=\"106.026777\" style=\"stroke: #000000\"/>\n     <use xlink:href=\"#mc32d7dc3f1\" x=\"42.258188\" y=\"104.997348\" style=\"stroke: #000000\"/>\n     <use xlink:href=\"#mc32d7dc3f1\" x=\"43.287611\" y=\"106.026777\" style=\"stroke: #000000\"/>\n     <use xlink:href=\"#mc32d7dc3f1\" x=\"43.287611\" y=\"104.997348\" style=\"stroke: #000000\"/>\n     <use xlink:href=\"#mc32d7dc3f1\" x=\"42.258188\" y=\"103.967918\" style=\"stroke: #000000\"/>\n     <use xlink:href=\"#mc32d7dc3f1\" x=\"42.258188\" y=\"102.938489\" style=\"stroke: #000000\"/>\n     <use xlink:href=\"#mc32d7dc3f1\" x=\"43.287611\" y=\"103.967918\" style=\"stroke: #000000\"/>\n     <use xlink:href=\"#mc32d7dc3f1\" x=\"43.287611\" y=\"102.938489\" style=\"stroke: #000000\"/>\n     <use xlink:href=\"#mc32d7dc3f1\" x=\"42.258188\" y=\"101.90906\" style=\"stroke: #000000\"/>\n     <use xlink:href=\"#mc32d7dc3f1\" x=\"42.258188\" y=\"100.879631\" style=\"stroke: #000000\"/>\n     <use xlink:href=\"#mc32d7dc3f1\" x=\"43.287611\" y=\"101.90906\" style=\"stroke: #000000\"/>\n     <use xlink:href=\"#mc32d7dc3f1\" x=\"43.287611\" y=\"100.879631\" style=\"stroke: #000000\"/>\n     <use xlink:href=\"#mc32d7dc3f1\" x=\"42.258188\" y=\"99.850202\" style=\"stroke: #000000\"/>\n     <use xlink:href=\"#mc32d7dc3f1\" x=\"42.258188\" y=\"98.820772\" style=\"stroke: #000000\"/>\n     <use xlink:href=\"#mc32d7dc3f1\" x=\"43.287611\" y=\"99.850202\" style=\"stroke: #000000\"/>\n     <use xlink:href=\"#mc32d7dc3f1\" x=\"43.287611\" y=\"98.820772\" style=\"stroke: #000000\"/>\n     <use xlink:href=\"#mc32d7dc3f1\" x=\"44.317034\" y=\"106.026777\" style=\"stroke: #000000\"/>\n     <use xlink:href=\"#mc32d7dc3f1\" x=\"44.317034\" y=\"104.997348\" style=\"stroke: #000000\"/>\n     <use xlink:href=\"#mc32d7dc3f1\" x=\"44.317034\" y=\"103.967918\" style=\"stroke: #000000\"/>\n     <use xlink:href=\"#mc32d7dc3f1\" x=\"44.317034\" y=\"102.938489\" style=\"stroke: #000000\"/>\n     <use xlink:href=\"#mc32d7dc3f1\" x=\"44.317034\" y=\"101.90906\" style=\"stroke: #000000\"/>\n     <use xlink:href=\"#mc32d7dc3f1\" x=\"44.317034\" y=\"100.879631\" style=\"stroke: #000000\"/>\n     <use xlink:href=\"#mc32d7dc3f1\" x=\"44.317034\" y=\"99.850202\" style=\"stroke: #000000\"/>\n     <use xlink:href=\"#mc32d7dc3f1\" x=\"44.317034\" y=\"98.820772\" style=\"stroke: #000000\"/>\n     <use xlink:href=\"#mc32d7dc3f1\" x=\"42.258188\" y=\"97.791343\" style=\"stroke: #000000\"/>\n     <use xlink:href=\"#mc32d7dc3f1\" x=\"42.258188\" y=\"96.761914\" style=\"stroke: #000000\"/>\n     <use xlink:href=\"#mc32d7dc3f1\" x=\"43.287611\" y=\"97.791343\" style=\"stroke: #000000\"/>\n     <use xlink:href=\"#mc32d7dc3f1\" x=\"43.287611\" y=\"96.761914\" style=\"stroke: #000000\"/>\n     <use xlink:href=\"#mc32d7dc3f1\" x=\"42.258188\" y=\"95.732485\" style=\"stroke: #000000\"/>\n     <use xlink:href=\"#mc32d7dc3f1\" x=\"42.258188\" y=\"94.703056\" style=\"stroke: #000000\"/>\n     <use xlink:href=\"#mc32d7dc3f1\" x=\"43.287611\" y=\"95.732485\" style=\"stroke: #000000\"/>\n     <use xlink:href=\"#mc32d7dc3f1\" x=\"43.287611\" y=\"94.703056\" style=\"stroke: #000000\"/>\n     <use xlink:href=\"#mc32d7dc3f1\" x=\"42.258188\" y=\"93.673626\" style=\"stroke: #000000\"/>\n     <use xlink:href=\"#mc32d7dc3f1\" x=\"42.258188\" y=\"92.644197\" style=\"stroke: #000000\"/>\n     <use xlink:href=\"#mc32d7dc3f1\" x=\"43.287611\" y=\"93.673626\" style=\"stroke: #000000\"/>\n     <use xlink:href=\"#mc32d7dc3f1\" x=\"43.287611\" y=\"92.644197\" style=\"stroke: #000000\"/>\n     <use xlink:href=\"#mc32d7dc3f1\" x=\"42.258188\" y=\"91.614768\" style=\"stroke: #000000\"/>\n     <use xlink:href=\"#mc32d7dc3f1\" x=\"42.258188\" y=\"90.585339\" style=\"stroke: #000000\"/>\n     <use xlink:href=\"#mc32d7dc3f1\" x=\"43.287611\" y=\"91.614768\" style=\"stroke: #000000\"/>\n     <use xlink:href=\"#mc32d7dc3f1\" x=\"43.287611\" y=\"90.585339\" style=\"stroke: #000000\"/>\n     <use xlink:href=\"#mc32d7dc3f1\" x=\"44.317034\" y=\"97.791343\" style=\"stroke: #000000\"/>\n     <use xlink:href=\"#mc32d7dc3f1\" x=\"44.317034\" y=\"96.761914\" style=\"stroke: #000000\"/>\n     <use xlink:href=\"#mc32d7dc3f1\" x=\"44.317034\" y=\"95.732485\" style=\"stroke: #000000\"/>\n     <use xlink:href=\"#mc32d7dc3f1\" x=\"44.317034\" y=\"94.703056\" style=\"stroke: #000000\"/>\n     <use xlink:href=\"#mc32d7dc3f1\" x=\"44.317034\" y=\"93.673626\" style=\"stroke: #000000\"/>\n     <use xlink:href=\"#mc32d7dc3f1\" x=\"44.317034\" y=\"92.644197\" style=\"stroke: #000000\"/>\n     <use xlink:href=\"#mc32d7dc3f1\" x=\"44.317034\" y=\"91.614768\" style=\"stroke: #000000\"/>\n     <use xlink:href=\"#mc32d7dc3f1\" x=\"44.317034\" y=\"90.585339\" style=\"stroke: #000000\"/>\n     <use xlink:href=\"#mc32d7dc3f1\" x=\"42.258188\" y=\"89.555884\" style=\"stroke: #000000\"/>\n     <use xlink:href=\"#mc32d7dc3f1\" x=\"42.258188\" y=\"88.526403\" style=\"stroke: #000000\"/>\n     <use xlink:href=\"#mc32d7dc3f1\" x=\"43.287611\" y=\"89.555884\" style=\"stroke: #000000\"/>\n     <use xlink:href=\"#mc32d7dc3f1\" x=\"43.287611\" y=\"88.526403\" style=\"stroke: #000000\"/>\n     <use xlink:href=\"#mc32d7dc3f1\" x=\"43.287611\" y=\"87.496922\" style=\"stroke: #000000\"/>\n     <use xlink:href=\"#mc32d7dc3f1\" x=\"43.287611\" y=\"86.46744\" style=\"stroke: #000000\"/>\n     <use xlink:href=\"#mc32d7dc3f1\" x=\"43.287611\" y=\"85.437959\" style=\"stroke: #000000\"/>\n     <use xlink:href=\"#mc32d7dc3f1\" x=\"43.287611\" y=\"84.408478\" style=\"stroke: #000000\"/>\n     <use xlink:href=\"#mc32d7dc3f1\" x=\"43.287611\" y=\"83.378997\" style=\"stroke: #000000\"/>\n     <use xlink:href=\"#mc32d7dc3f1\" x=\"43.287611\" y=\"82.349516\" style=\"stroke: #000000\"/>\n     <use xlink:href=\"#mc32d7dc3f1\" x=\"44.317034\" y=\"89.555884\" style=\"stroke: #000000\"/>\n     <use xlink:href=\"#mc32d7dc3f1\" x=\"44.317034\" y=\"88.526403\" style=\"stroke: #000000\"/>\n     <use xlink:href=\"#mc32d7dc3f1\" x=\"44.317034\" y=\"87.496922\" style=\"stroke: #000000\"/>\n     <use xlink:href=\"#mc32d7dc3f1\" x=\"44.317034\" y=\"86.46744\" style=\"stroke: #000000\"/>\n     <use xlink:href=\"#mc32d7dc3f1\" x=\"44.317034\" y=\"85.437959\" style=\"stroke: #000000\"/>\n     <use xlink:href=\"#mc32d7dc3f1\" x=\"44.317034\" y=\"84.408478\" style=\"stroke: #000000\"/>\n     <use xlink:href=\"#mc32d7dc3f1\" x=\"45.346457\" y=\"85.437959\" style=\"stroke: #000000\"/>\n     <use xlink:href=\"#mc32d7dc3f1\" x=\"45.346457\" y=\"84.408478\" style=\"stroke: #000000\"/>\n     <use xlink:href=\"#mc32d7dc3f1\" x=\"44.317034\" y=\"83.378997\" style=\"stroke: #000000\"/>\n     <use xlink:href=\"#mc32d7dc3f1\" x=\"44.317034\" y=\"82.349516\" style=\"stroke: #000000\"/>\n     <use xlink:href=\"#mc32d7dc3f1\" x=\"45.346457\" y=\"83.378997\" style=\"stroke: #000000\"/>\n     <use xlink:href=\"#mc32d7dc3f1\" x=\"45.346457\" y=\"82.349516\" style=\"stroke: #000000\"/>\n     <use xlink:href=\"#mc32d7dc3f1\" x=\"43.287611\" y=\"81.320035\" style=\"stroke: #000000\"/>\n     <use xlink:href=\"#mc32d7dc3f1\" x=\"44.317034\" y=\"81.320035\" style=\"stroke: #000000\"/>\n     <use xlink:href=\"#mc32d7dc3f1\" x=\"44.317034\" y=\"80.290554\" style=\"stroke: #000000\"/>\n     <use xlink:href=\"#mc32d7dc3f1\" x=\"45.346457\" y=\"81.320035\" style=\"stroke: #000000\"/>\n     <use xlink:href=\"#mc32d7dc3f1\" x=\"45.346457\" y=\"80.290554\" style=\"stroke: #000000\"/>\n     <use xlink:href=\"#mc32d7dc3f1\" x=\"44.317034\" y=\"79.261073\" style=\"stroke: #000000\"/>\n     <use xlink:href=\"#mc32d7dc3f1\" x=\"44.317034\" y=\"78.231592\" style=\"stroke: #000000\"/>\n     <use xlink:href=\"#mc32d7dc3f1\" x=\"45.346457\" y=\"79.261073\" style=\"stroke: #000000\"/>\n     <use xlink:href=\"#mc32d7dc3f1\" x=\"45.346457\" y=\"78.231592\" style=\"stroke: #000000\"/>\n     <use xlink:href=\"#mc32d7dc3f1\" x=\"46.37588\" y=\"80.290554\" style=\"stroke: #000000\"/>\n     <use xlink:href=\"#mc32d7dc3f1\" x=\"46.37588\" y=\"79.261073\" style=\"stroke: #000000\"/>\n     <use xlink:href=\"#mc32d7dc3f1\" x=\"46.37588\" y=\"78.231592\" style=\"stroke: #000000\"/>\n     <use xlink:href=\"#mc32d7dc3f1\" x=\"44.317034\" y=\"77.202111\" style=\"stroke: #000000\"/>\n     <use xlink:href=\"#mc32d7dc3f1\" x=\"44.317034\" y=\"76.17263\" style=\"stroke: #000000\"/>\n     <use xlink:href=\"#mc32d7dc3f1\" x=\"45.346457\" y=\"77.202111\" style=\"stroke: #000000\"/>\n     <use xlink:href=\"#mc32d7dc3f1\" x=\"45.346457\" y=\"76.17263\" style=\"stroke: #000000\"/>\n     <use xlink:href=\"#mc32d7dc3f1\" x=\"45.346457\" y=\"75.143149\" style=\"stroke: #000000\"/>\n     <use xlink:href=\"#mc32d7dc3f1\" x=\"45.346457\" y=\"74.113668\" style=\"stroke: #000000\"/>\n     <use xlink:href=\"#mc32d7dc3f1\" x=\"46.37588\" y=\"77.202111\" style=\"stroke: #000000\"/>\n     <use xlink:href=\"#mc32d7dc3f1\" x=\"46.37588\" y=\"76.17263\" style=\"stroke: #000000\"/>\n     <use xlink:href=\"#mc32d7dc3f1\" x=\"46.37588\" y=\"75.143149\" style=\"stroke: #000000\"/>\n     <use xlink:href=\"#mc32d7dc3f1\" x=\"46.37588\" y=\"74.113668\" style=\"stroke: #000000\"/>\n     <use xlink:href=\"#mc32d7dc3f1\" x=\"47.405303\" y=\"75.143149\" style=\"stroke: #000000\"/>\n     <use xlink:href=\"#mc32d7dc3f1\" x=\"47.405303\" y=\"74.113668\" style=\"stroke: #000000\"/>\n     <use xlink:href=\"#mc32d7dc3f1\" x=\"45.346457\" y=\"73.084187\" style=\"stroke: #000000\"/>\n     <use xlink:href=\"#mc32d7dc3f1\" x=\"45.346457\" y=\"72.054705\" style=\"stroke: #000000\"/>\n     <use xlink:href=\"#mc32d7dc3f1\" x=\"46.37588\" y=\"73.084187\" style=\"stroke: #000000\"/>\n     <use xlink:href=\"#mc32d7dc3f1\" x=\"46.37588\" y=\"72.054705\" style=\"stroke: #000000\"/>\n     <use xlink:href=\"#mc32d7dc3f1\" x=\"47.405303\" y=\"73.084187\" style=\"stroke: #000000\"/>\n     <use xlink:href=\"#mc32d7dc3f1\" x=\"47.405303\" y=\"72.054705\" style=\"stroke: #000000\"/>\n     <use xlink:href=\"#mc32d7dc3f1\" x=\"46.37588\" y=\"71.025224\" style=\"stroke: #000000\"/>\n     <use xlink:href=\"#mc32d7dc3f1\" x=\"46.37588\" y=\"69.995743\" style=\"stroke: #000000\"/>\n     <use xlink:href=\"#mc32d7dc3f1\" x=\"47.405303\" y=\"71.025224\" style=\"stroke: #000000\"/>\n     <use xlink:href=\"#mc32d7dc3f1\" x=\"47.405303\" y=\"69.995743\" style=\"stroke: #000000\"/>\n     <use xlink:href=\"#mc32d7dc3f1\" x=\"46.37588\" y=\"68.966262\" style=\"stroke: #000000\"/>\n     <use xlink:href=\"#mc32d7dc3f1\" x=\"47.405303\" y=\"68.966262\" style=\"stroke: #000000\"/>\n     <use xlink:href=\"#mc32d7dc3f1\" x=\"47.405303\" y=\"67.936781\" style=\"stroke: #000000\"/>\n     <use xlink:href=\"#mc32d7dc3f1\" x=\"47.405303\" y=\"66.9073\" style=\"stroke: #000000\"/>\n     <use xlink:href=\"#mc32d7dc3f1\" x=\"48.434726\" y=\"72.054705\" style=\"stroke: #000000\"/>\n     <use xlink:href=\"#mc32d7dc3f1\" x=\"48.434726\" y=\"71.025224\" style=\"stroke: #000000\"/>\n     <use xlink:href=\"#mc32d7dc3f1\" x=\"48.434726\" y=\"69.995743\" style=\"stroke: #000000\"/>\n     <use xlink:href=\"#mc32d7dc3f1\" x=\"48.434726\" y=\"68.966262\" style=\"stroke: #000000\"/>\n     <use xlink:href=\"#mc32d7dc3f1\" x=\"48.434726\" y=\"67.936781\" style=\"stroke: #000000\"/>\n     <use xlink:href=\"#mc32d7dc3f1\" x=\"49.464149\" y=\"68.966262\" style=\"stroke: #000000\"/>\n     <use xlink:href=\"#mc32d7dc3f1\" x=\"49.464149\" y=\"67.936781\" style=\"stroke: #000000\"/>\n     <use xlink:href=\"#mc32d7dc3f1\" x=\"48.434726\" y=\"66.9073\" style=\"stroke: #000000\"/>\n     <use xlink:href=\"#mc32d7dc3f1\" x=\"48.434726\" y=\"65.877819\" style=\"stroke: #000000\"/>\n     <use xlink:href=\"#mc32d7dc3f1\" x=\"49.464149\" y=\"66.9073\" style=\"stroke: #000000\"/>\n     <use xlink:href=\"#mc32d7dc3f1\" x=\"49.464149\" y=\"65.877819\" style=\"stroke: #000000\"/>\n     <use xlink:href=\"#mc32d7dc3f1\" x=\"50.493572\" y=\"66.9073\" style=\"stroke: #000000\"/>\n     <use xlink:href=\"#mc32d7dc3f1\" x=\"50.493572\" y=\"65.877819\" style=\"stroke: #000000\"/>\n     <use xlink:href=\"#mc32d7dc3f1\" x=\"48.434726\" y=\"64.848338\" style=\"stroke: #000000\"/>\n     <use xlink:href=\"#mc32d7dc3f1\" x=\"48.434726\" y=\"63.818857\" style=\"stroke: #000000\"/>\n     <use xlink:href=\"#mc32d7dc3f1\" x=\"49.464149\" y=\"64.848338\" style=\"stroke: #000000\"/>\n     <use xlink:href=\"#mc32d7dc3f1\" x=\"49.464149\" y=\"63.818857\" style=\"stroke: #000000\"/>\n     <use xlink:href=\"#mc32d7dc3f1\" x=\"49.464149\" y=\"62.789376\" style=\"stroke: #000000\"/>\n     <use xlink:href=\"#mc32d7dc3f1\" x=\"49.464149\" y=\"61.759895\" style=\"stroke: #000000\"/>\n     <use xlink:href=\"#mc32d7dc3f1\" x=\"50.493572\" y=\"64.848338\" style=\"stroke: #000000\"/>\n     <use xlink:href=\"#mc32d7dc3f1\" x=\"50.493572\" y=\"63.818857\" style=\"stroke: #000000\"/>\n     <use xlink:href=\"#mc32d7dc3f1\" x=\"51.522995\" y=\"63.818857\" style=\"stroke: #000000\"/>\n     <use xlink:href=\"#mc32d7dc3f1\" x=\"50.493572\" y=\"62.789376\" style=\"stroke: #000000\"/>\n     <use xlink:href=\"#mc32d7dc3f1\" x=\"50.493572\" y=\"61.759895\" style=\"stroke: #000000\"/>\n     <use xlink:href=\"#mc32d7dc3f1\" x=\"51.522995\" y=\"62.789376\" style=\"stroke: #000000\"/>\n     <use xlink:href=\"#mc32d7dc3f1\" x=\"51.522995\" y=\"61.759895\" style=\"stroke: #000000\"/>\n     <use xlink:href=\"#mc32d7dc3f1\" x=\"50.493572\" y=\"60.730414\" style=\"stroke: #000000\"/>\n     <use xlink:href=\"#mc32d7dc3f1\" x=\"50.493572\" y=\"59.700933\" style=\"stroke: #000000\"/>\n     <use xlink:href=\"#mc32d7dc3f1\" x=\"51.522995\" y=\"60.730414\" style=\"stroke: #000000\"/>\n     <use xlink:href=\"#mc32d7dc3f1\" x=\"51.522995\" y=\"59.700933\" style=\"stroke: #000000\"/>\n     <use xlink:href=\"#mc32d7dc3f1\" x=\"51.522995\" y=\"58.671451\" style=\"stroke: #000000\"/>\n     <use xlink:href=\"#mc32d7dc3f1\" x=\"51.522995\" y=\"57.64197\" style=\"stroke: #000000\"/>\n     <use xlink:href=\"#mc32d7dc3f1\" x=\"52.552418\" y=\"61.759895\" style=\"stroke: #000000\"/>\n     <use xlink:href=\"#mc32d7dc3f1\" x=\"52.552418\" y=\"60.730414\" style=\"stroke: #000000\"/>\n     <use xlink:href=\"#mc32d7dc3f1\" x=\"52.552418\" y=\"59.700933\" style=\"stroke: #000000\"/>\n     <use xlink:href=\"#mc32d7dc3f1\" x=\"53.581841\" y=\"59.700933\" style=\"stroke: #000000\"/>\n     <use xlink:href=\"#mc32d7dc3f1\" x=\"52.552418\" y=\"58.671451\" style=\"stroke: #000000\"/>\n     <use xlink:href=\"#mc32d7dc3f1\" x=\"52.552418\" y=\"57.64197\" style=\"stroke: #000000\"/>\n     <use xlink:href=\"#mc32d7dc3f1\" x=\"53.581841\" y=\"58.671451\" style=\"stroke: #000000\"/>\n     <use xlink:href=\"#mc32d7dc3f1\" x=\"53.581841\" y=\"57.64197\" style=\"stroke: #000000\"/>\n     <use xlink:href=\"#mc32d7dc3f1\" x=\"54.611264\" y=\"57.64197\" style=\"stroke: #000000\"/>\n     <use xlink:href=\"#mc32d7dc3f1\" x=\"52.552418\" y=\"56.612503\" style=\"stroke: #000000\"/>\n     <use xlink:href=\"#mc32d7dc3f1\" x=\"52.552418\" y=\"55.583048\" style=\"stroke: #000000\"/>\n     <use xlink:href=\"#mc32d7dc3f1\" x=\"53.581841\" y=\"56.612503\" style=\"stroke: #000000\"/>\n     <use xlink:href=\"#mc32d7dc3f1\" x=\"53.581841\" y=\"55.583048\" style=\"stroke: #000000\"/>\n     <use xlink:href=\"#mc32d7dc3f1\" x=\"53.581841\" y=\"54.553594\" style=\"stroke: #000000\"/>\n     <use xlink:href=\"#mc32d7dc3f1\" x=\"54.611264\" y=\"56.612503\" style=\"stroke: #000000\"/>\n     <use xlink:href=\"#mc32d7dc3f1\" x=\"54.611264\" y=\"55.583048\" style=\"stroke: #000000\"/>\n     <use xlink:href=\"#mc32d7dc3f1\" x=\"55.640688\" y=\"56.612503\" style=\"stroke: #000000\"/>\n     <use xlink:href=\"#mc32d7dc3f1\" x=\"55.640688\" y=\"55.583048\" style=\"stroke: #000000\"/>\n     <use xlink:href=\"#mc32d7dc3f1\" x=\"54.611264\" y=\"54.553594\" style=\"stroke: #000000\"/>\n     <use xlink:href=\"#mc32d7dc3f1\" x=\"54.611264\" y=\"53.524139\" style=\"stroke: #000000\"/>\n     <use xlink:href=\"#mc32d7dc3f1\" x=\"55.640688\" y=\"54.553594\" style=\"stroke: #000000\"/>\n     <use xlink:href=\"#mc32d7dc3f1\" x=\"55.640688\" y=\"53.524139\" style=\"stroke: #000000\"/>\n     <use xlink:href=\"#mc32d7dc3f1\" x=\"54.611264\" y=\"52.494685\" style=\"stroke: #000000\"/>\n     <use xlink:href=\"#mc32d7dc3f1\" x=\"55.640688\" y=\"52.494685\" style=\"stroke: #000000\"/>\n     <use xlink:href=\"#mc32d7dc3f1\" x=\"55.640688\" y=\"51.46523\" style=\"stroke: #000000\"/>\n     <use xlink:href=\"#mc32d7dc3f1\" x=\"56.670111\" y=\"54.553594\" style=\"stroke: #000000\"/>\n     <use xlink:href=\"#mc32d7dc3f1\" x=\"56.670111\" y=\"53.524139\" style=\"stroke: #000000\"/>\n     <use xlink:href=\"#mc32d7dc3f1\" x=\"57.699534\" y=\"53.524139\" style=\"stroke: #000000\"/>\n     <use xlink:href=\"#mc32d7dc3f1\" x=\"56.670111\" y=\"52.494685\" style=\"stroke: #000000\"/>\n     <use xlink:href=\"#mc32d7dc3f1\" x=\"56.670111\" y=\"51.46523\" style=\"stroke: #000000\"/>\n     <use xlink:href=\"#mc32d7dc3f1\" x=\"57.699534\" y=\"52.494685\" style=\"stroke: #000000\"/>\n     <use xlink:href=\"#mc32d7dc3f1\" x=\"57.699534\" y=\"51.46523\" style=\"stroke: #000000\"/>\n     <use xlink:href=\"#mc32d7dc3f1\" x=\"56.670111\" y=\"50.435776\" style=\"stroke: #000000\"/>\n     <use xlink:href=\"#mc32d7dc3f1\" x=\"56.670111\" y=\"49.406321\" style=\"stroke: #000000\"/>\n     <use xlink:href=\"#mc32d7dc3f1\" x=\"57.699534\" y=\"50.435776\" style=\"stroke: #000000\"/>\n     <use xlink:href=\"#mc32d7dc3f1\" x=\"57.699534\" y=\"49.406321\" style=\"stroke: #000000\"/>\n     <use xlink:href=\"#mc32d7dc3f1\" x=\"58.728957\" y=\"51.46523\" style=\"stroke: #000000\"/>\n     <use xlink:href=\"#mc32d7dc3f1\" x=\"58.728957\" y=\"50.435776\" style=\"stroke: #000000\"/>\n     <use xlink:href=\"#mc32d7dc3f1\" x=\"58.728957\" y=\"49.406321\" style=\"stroke: #000000\"/>\n     <use xlink:href=\"#mc32d7dc3f1\" x=\"59.75838\" y=\"50.435776\" style=\"stroke: #000000\"/>\n     <use xlink:href=\"#mc32d7dc3f1\" x=\"59.75838\" y=\"49.406321\" style=\"stroke: #000000\"/>\n     <use xlink:href=\"#mc32d7dc3f1\" x=\"60.787803\" y=\"49.406321\" style=\"stroke: #000000\"/>\n     <use xlink:href=\"#mc32d7dc3f1\" x=\"57.699534\" y=\"48.376867\" style=\"stroke: #000000\"/>\n     <use xlink:href=\"#mc32d7dc3f1\" x=\"58.728957\" y=\"48.376867\" style=\"stroke: #000000\"/>\n     <use xlink:href=\"#mc32d7dc3f1\" x=\"58.728957\" y=\"47.347412\" style=\"stroke: #000000\"/>\n     <use xlink:href=\"#mc32d7dc3f1\" x=\"59.75838\" y=\"48.376867\" style=\"stroke: #000000\"/>\n     <use xlink:href=\"#mc32d7dc3f1\" x=\"59.75838\" y=\"47.347412\" style=\"stroke: #000000\"/>\n     <use xlink:href=\"#mc32d7dc3f1\" x=\"59.75838\" y=\"46.317958\" style=\"stroke: #000000\"/>\n     <use xlink:href=\"#mc32d7dc3f1\" x=\"60.787803\" y=\"48.376867\" style=\"stroke: #000000\"/>\n     <use xlink:href=\"#mc32d7dc3f1\" x=\"60.787803\" y=\"47.347412\" style=\"stroke: #000000\"/>\n     <use xlink:href=\"#mc32d7dc3f1\" x=\"61.817226\" y=\"47.347412\" style=\"stroke: #000000\"/>\n     <use xlink:href=\"#mc32d7dc3f1\" x=\"60.787803\" y=\"46.317958\" style=\"stroke: #000000\"/>\n     <use xlink:href=\"#mc32d7dc3f1\" x=\"60.787803\" y=\"45.288504\" style=\"stroke: #000000\"/>\n     <use xlink:href=\"#mc32d7dc3f1\" x=\"61.817226\" y=\"46.317958\" style=\"stroke: #000000\"/>\n     <use xlink:href=\"#mc32d7dc3f1\" x=\"61.817226\" y=\"45.288504\" style=\"stroke: #000000\"/>\n     <use xlink:href=\"#mc32d7dc3f1\" x=\"62.846649\" y=\"46.317958\" style=\"stroke: #000000\"/>\n     <use xlink:href=\"#mc32d7dc3f1\" x=\"62.846649\" y=\"45.288504\" style=\"stroke: #000000\"/>\n     <use xlink:href=\"#mc32d7dc3f1\" x=\"63.876072\" y=\"45.288504\" style=\"stroke: #000000\"/>\n     <use xlink:href=\"#mc32d7dc3f1\" x=\"60.787803\" y=\"44.259049\" style=\"stroke: #000000\"/>\n     <use xlink:href=\"#mc32d7dc3f1\" x=\"61.817226\" y=\"44.259049\" style=\"stroke: #000000\"/>\n     <use xlink:href=\"#mc32d7dc3f1\" x=\"61.817226\" y=\"43.229595\" style=\"stroke: #000000\"/>\n     <use xlink:href=\"#mc32d7dc3f1\" x=\"62.846649\" y=\"44.259049\" style=\"stroke: #000000\"/>\n     <use xlink:href=\"#mc32d7dc3f1\" x=\"62.846649\" y=\"43.229595\" style=\"stroke: #000000\"/>\n     <use xlink:href=\"#mc32d7dc3f1\" x=\"63.876072\" y=\"44.259049\" style=\"stroke: #000000\"/>\n     <use xlink:href=\"#mc32d7dc3f1\" x=\"63.876072\" y=\"43.229595\" style=\"stroke: #000000\"/>\n     <use xlink:href=\"#mc32d7dc3f1\" x=\"62.846649\" y=\"42.20014\" style=\"stroke: #000000\"/>\n     <use xlink:href=\"#mc32d7dc3f1\" x=\"63.876072\" y=\"42.20014\" style=\"stroke: #000000\"/>\n     <use xlink:href=\"#mc32d7dc3f1\" x=\"63.876072\" y=\"41.170686\" style=\"stroke: #000000\"/>\n     <use xlink:href=\"#mc32d7dc3f1\" x=\"79.317616\" y=\"189.412255\" style=\"stroke: #000000\"/>\n     <use xlink:href=\"#mc32d7dc3f1\" x=\"80.347052\" y=\"190.441654\" style=\"stroke: #000000\"/>\n     <use xlink:href=\"#mc32d7dc3f1\" x=\"80.347052\" y=\"189.412255\" style=\"stroke: #000000\"/>\n     <use xlink:href=\"#mc32d7dc3f1\" x=\"94.759166\" y=\"205.882643\" style=\"stroke: #000000\"/>\n     <use xlink:href=\"#mc32d7dc3f1\" x=\"96.818039\" y=\"207.941441\" style=\"stroke: #000000\"/>\n     <use xlink:href=\"#mc32d7dc3f1\" x=\"95.788603\" y=\"206.912042\" style=\"stroke: #000000\"/>\n     <use xlink:href=\"#mc32d7dc3f1\" x=\"95.788603\" y=\"205.882643\" style=\"stroke: #000000\"/>\n     <use xlink:href=\"#mc32d7dc3f1\" x=\"96.818039\" y=\"206.912042\" style=\"stroke: #000000\"/>\n     <use xlink:href=\"#mc32d7dc3f1\" x=\"86.523673\" y=\"197.647449\" style=\"stroke: #000000\"/>\n     <use xlink:href=\"#mc32d7dc3f1\" x=\"88.582546\" y=\"199.706247\" style=\"stroke: #000000\"/>\n     <use xlink:href=\"#mc32d7dc3f1\" x=\"87.553109\" y=\"198.676848\" style=\"stroke: #000000\"/>\n     <use xlink:href=\"#mc32d7dc3f1\" x=\"87.553109\" y=\"197.647449\" style=\"stroke: #000000\"/>\n     <use xlink:href=\"#mc32d7dc3f1\" x=\"88.582546\" y=\"198.676848\" style=\"stroke: #000000\"/>\n     <use xlink:href=\"#mc32d7dc3f1\" x=\"82.405926\" y=\"193.529852\" style=\"stroke: #000000\"/>\n     <use xlink:href=\"#mc32d7dc3f1\" x=\"84.464799\" y=\"195.58865\" style=\"stroke: #000000\"/>\n     <use xlink:href=\"#mc32d7dc3f1\" x=\"83.435362\" y=\"194.559251\" style=\"stroke: #000000\"/>\n     <use xlink:href=\"#mc32d7dc3f1\" x=\"83.435362\" y=\"193.529852\" style=\"stroke: #000000\"/>\n     <use xlink:href=\"#mc32d7dc3f1\" x=\"84.464799\" y=\"194.559251\" style=\"stroke: #000000\"/>\n     <use xlink:href=\"#mc32d7dc3f1\" x=\"81.376489\" y=\"192.500452\" style=\"stroke: #000000\"/>\n     <use xlink:href=\"#mc32d7dc3f1\" x=\"81.376489\" y=\"191.471053\" style=\"stroke: #000000\"/>\n     <use xlink:href=\"#mc32d7dc3f1\" x=\"82.405926\" y=\"192.500452\" style=\"stroke: #000000\"/>\n     <use xlink:href=\"#mc32d7dc3f1\" x=\"81.376489\" y=\"190.441654\" style=\"stroke: #000000\"/>\n     <use xlink:href=\"#mc32d7dc3f1\" x=\"85.494236\" y=\"196.618049\" style=\"stroke: #000000\"/>\n     <use xlink:href=\"#mc32d7dc3f1\" x=\"85.494236\" y=\"195.58865\" style=\"stroke: #000000\"/>\n     <use xlink:href=\"#mc32d7dc3f1\" x=\"86.523673\" y=\"196.618049\" style=\"stroke: #000000\"/>\n     <use xlink:href=\"#mc32d7dc3f1\" x=\"90.641419\" y=\"201.765046\" style=\"stroke: #000000\"/>\n     <use xlink:href=\"#mc32d7dc3f1\" x=\"92.700293\" y=\"203.823844\" style=\"stroke: #000000\"/>\n     <use xlink:href=\"#mc32d7dc3f1\" x=\"91.670856\" y=\"202.794445\" style=\"stroke: #000000\"/>\n     <use xlink:href=\"#mc32d7dc3f1\" x=\"91.670856\" y=\"201.765046\" style=\"stroke: #000000\"/>\n     <use xlink:href=\"#mc32d7dc3f1\" x=\"92.700293\" y=\"202.794445\" style=\"stroke: #000000\"/>\n     <use xlink:href=\"#mc32d7dc3f1\" x=\"89.611983\" y=\"200.735646\" style=\"stroke: #000000\"/>\n     <use xlink:href=\"#mc32d7dc3f1\" x=\"89.611983\" y=\"199.706247\" style=\"stroke: #000000\"/>\n     <use xlink:href=\"#mc32d7dc3f1\" x=\"90.641419\" y=\"200.735646\" style=\"stroke: #000000\"/>\n     <use xlink:href=\"#mc32d7dc3f1\" x=\"93.729729\" y=\"204.853244\" style=\"stroke: #000000\"/>\n     <use xlink:href=\"#mc32d7dc3f1\" x=\"93.729729\" y=\"203.823844\" style=\"stroke: #000000\"/>\n     <use xlink:href=\"#mc32d7dc3f1\" x=\"94.759166\" y=\"204.853244\" style=\"stroke: #000000\"/>\n     <use xlink:href=\"#mc32d7dc3f1\" x=\"66.964375\" y=\"172.940813\" style=\"stroke: #000000\"/>\n     <use xlink:href=\"#mc32d7dc3f1\" x=\"67.993812\" y=\"173.97028\" style=\"stroke: #000000\"/>\n     <use xlink:href=\"#mc32d7dc3f1\" x=\"67.993812\" y=\"172.940813\" style=\"stroke: #000000\"/>\n     <use xlink:href=\"#mc32d7dc3f1\" x=\"70.052686\" y=\"177.058682\" style=\"stroke: #000000\"/>\n     <use xlink:href=\"#mc32d7dc3f1\" x=\"71.082122\" y=\"179.117616\" style=\"stroke: #000000\"/>\n     <use xlink:href=\"#mc32d7dc3f1\" x=\"72.111559\" y=\"180.147083\" style=\"stroke: #000000\"/>\n     <use xlink:href=\"#mc32d7dc3f1\" x=\"72.111559\" y=\"179.117616\" style=\"stroke: #000000\"/>\n     <use xlink:href=\"#mc32d7dc3f1\" x=\"71.082122\" y=\"178.088149\" style=\"stroke: #000000\"/>\n     <use xlink:href=\"#mc32d7dc3f1\" x=\"71.082122\" y=\"177.058682\" style=\"stroke: #000000\"/>\n     <use xlink:href=\"#mc32d7dc3f1\" x=\"69.023249\" y=\"176.029214\" style=\"stroke: #000000\"/>\n     <use xlink:href=\"#mc32d7dc3f1\" x=\"69.023249\" y=\"174.999747\" style=\"stroke: #000000\"/>\n     <use xlink:href=\"#mc32d7dc3f1\" x=\"70.052686\" y=\"176.029214\" style=\"stroke: #000000\"/>\n     <use xlink:href=\"#mc32d7dc3f1\" x=\"69.023249\" y=\"173.97028\" style=\"stroke: #000000\"/>\n     <use xlink:href=\"#mc32d7dc3f1\" x=\"76.229306\" y=\"185.29442\" style=\"stroke: #000000\"/>\n     <use xlink:href=\"#mc32d7dc3f1\" x=\"74.170432\" y=\"183.235485\" style=\"stroke: #000000\"/>\n     <use xlink:href=\"#mc32d7dc3f1\" x=\"73.140996\" y=\"181.176551\" style=\"stroke: #000000\"/>\n     <use xlink:href=\"#mc32d7dc3f1\" x=\"74.170432\" y=\"182.206018\" style=\"stroke: #000000\"/>\n     <use xlink:href=\"#mc32d7dc3f1\" x=\"74.170432\" y=\"181.176551\" style=\"stroke: #000000\"/>\n     <use xlink:href=\"#mc32d7dc3f1\" x=\"75.199869\" y=\"184.264952\" style=\"stroke: #000000\"/>\n     <use xlink:href=\"#mc32d7dc3f1\" x=\"75.199869\" y=\"183.235485\" style=\"stroke: #000000\"/>\n     <use xlink:href=\"#mc32d7dc3f1\" x=\"76.229306\" y=\"184.264952\" style=\"stroke: #000000\"/>\n     <use xlink:href=\"#mc32d7dc3f1\" x=\"77.258742\" y=\"187.353354\" style=\"stroke: #000000\"/>\n     <use xlink:href=\"#mc32d7dc3f1\" x=\"78.288179\" y=\"188.382821\" style=\"stroke: #000000\"/>\n     <use xlink:href=\"#mc32d7dc3f1\" x=\"78.288179\" y=\"187.353354\" style=\"stroke: #000000\"/>\n     <use xlink:href=\"#mc32d7dc3f1\" x=\"77.258742\" y=\"186.323887\" style=\"stroke: #000000\"/>\n     <use xlink:href=\"#mc32d7dc3f1\" x=\"77.258742\" y=\"185.29442\" style=\"stroke: #000000\"/>\n     <use xlink:href=\"#mc32d7dc3f1\" x=\"79.317616\" y=\"188.382821\" style=\"stroke: #000000\"/>\n     <use xlink:href=\"#mc32d7dc3f1\" x=\"73.140996\" y=\"180.147083\" style=\"stroke: #000000\"/>\n     <use xlink:href=\"#mc32d7dc3f1\" x=\"65.934939\" y=\"170.881878\" style=\"stroke: #000000\"/>\n     <use xlink:href=\"#mc32d7dc3f1\" x=\"64.905502\" y=\"169.852411\" style=\"stroke: #000000\"/>\n     <use xlink:href=\"#mc32d7dc3f1\" x=\"64.905502\" y=\"168.822944\" style=\"stroke: #000000\"/>\n     <use xlink:href=\"#mc32d7dc3f1\" x=\"65.934939\" y=\"169.852411\" style=\"stroke: #000000\"/>\n     <use xlink:href=\"#mc32d7dc3f1\" x=\"66.964375\" y=\"171.911345\" style=\"stroke: #000000\"/>\n     <use xlink:href=\"#mc32d7dc3f1\" x=\"66.964375\" y=\"170.881878\" style=\"stroke: #000000\"/>\n     <use xlink:href=\"#mc32d7dc3f1\" x=\"64.905502\" y=\"167.793476\" style=\"stroke: #000000\"/>\n     <use xlink:href=\"#mc32d7dc3f1\" x=\"64.905502\" y=\"44.259049\" style=\"stroke: #000000\"/>\n     <use xlink:href=\"#mc32d7dc3f1\" x=\"64.905502\" y=\"43.229595\" style=\"stroke: #000000\"/>\n     <use xlink:href=\"#mc32d7dc3f1\" x=\"65.934939\" y=\"43.229595\" style=\"stroke: #000000\"/>\n     <use xlink:href=\"#mc32d7dc3f1\" x=\"64.905502\" y=\"42.20014\" style=\"stroke: #000000\"/>\n     <use xlink:href=\"#mc32d7dc3f1\" x=\"64.905502\" y=\"41.170686\" style=\"stroke: #000000\"/>\n     <use xlink:href=\"#mc32d7dc3f1\" x=\"65.934939\" y=\"42.20014\" style=\"stroke: #000000\"/>\n     <use xlink:href=\"#mc32d7dc3f1\" x=\"65.934939\" y=\"41.170686\" style=\"stroke: #000000\"/>\n     <use xlink:href=\"#mc32d7dc3f1\" x=\"66.964375\" y=\"42.20014\" style=\"stroke: #000000\"/>\n     <use xlink:href=\"#mc32d7dc3f1\" x=\"66.964375\" y=\"41.170686\" style=\"stroke: #000000\"/>\n     <use xlink:href=\"#mc32d7dc3f1\" x=\"67.993812\" y=\"41.170686\" style=\"stroke: #000000\"/>\n     <use xlink:href=\"#mc32d7dc3f1\" x=\"69.023249\" y=\"41.170686\" style=\"stroke: #000000\"/>\n     <use xlink:href=\"#mc32d7dc3f1\" x=\"64.905502\" y=\"40.141231\" style=\"stroke: #000000\"/>\n     <use xlink:href=\"#mc32d7dc3f1\" x=\"65.934939\" y=\"40.141231\" style=\"stroke: #000000\"/>\n     <use xlink:href=\"#mc32d7dc3f1\" x=\"66.964375\" y=\"40.141231\" style=\"stroke: #000000\"/>\n     <use xlink:href=\"#mc32d7dc3f1\" x=\"66.964375\" y=\"39.111777\" style=\"stroke: #000000\"/>\n     <use xlink:href=\"#mc32d7dc3f1\" x=\"67.993812\" y=\"40.141231\" style=\"stroke: #000000\"/>\n     <use xlink:href=\"#mc32d7dc3f1\" x=\"67.993812\" y=\"39.111777\" style=\"stroke: #000000\"/>\n     <use xlink:href=\"#mc32d7dc3f1\" x=\"67.993812\" y=\"38.082322\" style=\"stroke: #000000\"/>\n     <use xlink:href=\"#mc32d7dc3f1\" x=\"69.023249\" y=\"40.141231\" style=\"stroke: #000000\"/>\n     <use xlink:href=\"#mc32d7dc3f1\" x=\"69.023249\" y=\"39.111777\" style=\"stroke: #000000\"/>\n     <use xlink:href=\"#mc32d7dc3f1\" x=\"70.052686\" y=\"40.141231\" style=\"stroke: #000000\"/>\n     <use xlink:href=\"#mc32d7dc3f1\" x=\"70.052686\" y=\"39.111777\" style=\"stroke: #000000\"/>\n     <use xlink:href=\"#mc32d7dc3f1\" x=\"69.023249\" y=\"38.082322\" style=\"stroke: #000000\"/>\n     <use xlink:href=\"#mc32d7dc3f1\" x=\"69.023249\" y=\"37.052868\" style=\"stroke: #000000\"/>\n     <use xlink:href=\"#mc32d7dc3f1\" x=\"70.052686\" y=\"38.082322\" style=\"stroke: #000000\"/>\n     <use xlink:href=\"#mc32d7dc3f1\" x=\"70.052686\" y=\"37.052868\" style=\"stroke: #000000\"/>\n     <use xlink:href=\"#mc32d7dc3f1\" x=\"71.082122\" y=\"39.111777\" style=\"stroke: #000000\"/>\n     <use xlink:href=\"#mc32d7dc3f1\" x=\"71.082122\" y=\"38.082322\" style=\"stroke: #000000\"/>\n     <use xlink:href=\"#mc32d7dc3f1\" x=\"71.082122\" y=\"37.052868\" style=\"stroke: #000000\"/>\n     <use xlink:href=\"#mc32d7dc3f1\" x=\"72.111559\" y=\"38.082322\" style=\"stroke: #000000\"/>\n     <use xlink:href=\"#mc32d7dc3f1\" x=\"72.111559\" y=\"37.052868\" style=\"stroke: #000000\"/>\n     <use xlink:href=\"#mc32d7dc3f1\" x=\"70.052686\" y=\"36.023413\" style=\"stroke: #000000\"/>\n     <use xlink:href=\"#mc32d7dc3f1\" x=\"71.082122\" y=\"36.023413\" style=\"stroke: #000000\"/>\n     <use xlink:href=\"#mc32d7dc3f1\" x=\"72.111559\" y=\"36.023413\" style=\"stroke: #000000\"/>\n     <use xlink:href=\"#mc32d7dc3f1\" x=\"72.111559\" y=\"34.993959\" style=\"stroke: #000000\"/>\n     <use xlink:href=\"#mc32d7dc3f1\" x=\"73.140996\" y=\"38.082322\" style=\"stroke: #000000\"/>\n     <use xlink:href=\"#mc32d7dc3f1\" x=\"73.140996\" y=\"37.052868\" style=\"stroke: #000000\"/>\n     <use xlink:href=\"#mc32d7dc3f1\" x=\"74.170432\" y=\"37.052868\" style=\"stroke: #000000\"/>\n     <use xlink:href=\"#mc32d7dc3f1\" x=\"73.140996\" y=\"36.023413\" style=\"stroke: #000000\"/>\n     <use xlink:href=\"#mc32d7dc3f1\" x=\"73.140996\" y=\"34.993959\" style=\"stroke: #000000\"/>\n     <use xlink:href=\"#mc32d7dc3f1\" x=\"74.170432\" y=\"36.023413\" style=\"stroke: #000000\"/>\n     <use xlink:href=\"#mc32d7dc3f1\" x=\"74.170432\" y=\"34.993959\" style=\"stroke: #000000\"/>\n     <use xlink:href=\"#mc32d7dc3f1\" x=\"73.140996\" y=\"33.964504\" style=\"stroke: #000000\"/>\n     <use xlink:href=\"#mc32d7dc3f1\" x=\"74.170432\" y=\"33.964504\" style=\"stroke: #000000\"/>\n     <use xlink:href=\"#mc32d7dc3f1\" x=\"75.199869\" y=\"36.023413\" style=\"stroke: #000000\"/>\n     <use xlink:href=\"#mc32d7dc3f1\" x=\"75.199869\" y=\"34.993959\" style=\"stroke: #000000\"/>\n     <use xlink:href=\"#mc32d7dc3f1\" x=\"76.229306\" y=\"36.023413\" style=\"stroke: #000000\"/>\n     <use xlink:href=\"#mc32d7dc3f1\" x=\"76.229306\" y=\"34.993959\" style=\"stroke: #000000\"/>\n     <use xlink:href=\"#mc32d7dc3f1\" x=\"75.199869\" y=\"33.964504\" style=\"stroke: #000000\"/>\n     <use xlink:href=\"#mc32d7dc3f1\" x=\"75.199869\" y=\"32.93505\" style=\"stroke: #000000\"/>\n     <use xlink:href=\"#mc32d7dc3f1\" x=\"76.229306\" y=\"33.964504\" style=\"stroke: #000000\"/>\n     <use xlink:href=\"#mc32d7dc3f1\" x=\"76.229306\" y=\"32.93505\" style=\"stroke: #000000\"/>\n     <use xlink:href=\"#mc32d7dc3f1\" x=\"77.258742\" y=\"34.993959\" style=\"stroke: #000000\"/>\n     <use xlink:href=\"#mc32d7dc3f1\" x=\"77.258742\" y=\"33.964504\" style=\"stroke: #000000\"/>\n     <use xlink:href=\"#mc32d7dc3f1\" x=\"77.258742\" y=\"32.93505\" style=\"stroke: #000000\"/>\n     <use xlink:href=\"#mc32d7dc3f1\" x=\"78.288179\" y=\"33.964504\" style=\"stroke: #000000\"/>\n     <use xlink:href=\"#mc32d7dc3f1\" x=\"78.288179\" y=\"32.93505\" style=\"stroke: #000000\"/>\n     <use xlink:href=\"#mc32d7dc3f1\" x=\"79.317616\" y=\"33.964504\" style=\"stroke: #000000\"/>\n     <use xlink:href=\"#mc32d7dc3f1\" x=\"79.317616\" y=\"32.93505\" style=\"stroke: #000000\"/>\n     <use xlink:href=\"#mc32d7dc3f1\" x=\"80.347052\" y=\"32.93505\" style=\"stroke: #000000\"/>\n     <use xlink:href=\"#mc32d7dc3f1\" x=\"77.258742\" y=\"31.905595\" style=\"stroke: #000000\"/>\n     <use xlink:href=\"#mc32d7dc3f1\" x=\"78.288179\" y=\"31.905595\" style=\"stroke: #000000\"/>\n     <use xlink:href=\"#mc32d7dc3f1\" x=\"79.317616\" y=\"31.905595\" style=\"stroke: #000000\"/>\n     <use xlink:href=\"#mc32d7dc3f1\" x=\"79.317616\" y=\"30.876141\" style=\"stroke: #000000\"/>\n     <use xlink:href=\"#mc32d7dc3f1\" x=\"80.347052\" y=\"31.905595\" style=\"stroke: #000000\"/>\n     <use xlink:href=\"#mc32d7dc3f1\" x=\"80.347052\" y=\"30.876141\" style=\"stroke: #000000\"/>\n     <use xlink:href=\"#mc32d7dc3f1\" x=\"81.376489\" y=\"32.93505\" style=\"stroke: #000000\"/>\n     <use xlink:href=\"#mc32d7dc3f1\" x=\"81.376489\" y=\"31.905595\" style=\"stroke: #000000\"/>\n     <use xlink:href=\"#mc32d7dc3f1\" x=\"81.376489\" y=\"30.876141\" style=\"stroke: #000000\"/>\n     <use xlink:href=\"#mc32d7dc3f1\" x=\"82.405926\" y=\"31.905595\" style=\"stroke: #000000\"/>\n     <use xlink:href=\"#mc32d7dc3f1\" x=\"82.405926\" y=\"30.876141\" style=\"stroke: #000000\"/>\n     <use xlink:href=\"#mc32d7dc3f1\" x=\"81.376489\" y=\"29.846687\" style=\"stroke: #000000\"/>\n     <use xlink:href=\"#mc32d7dc3f1\" x=\"82.405926\" y=\"29.846687\" style=\"stroke: #000000\"/>\n     <use xlink:href=\"#mc32d7dc3f1\" x=\"83.435362\" y=\"31.905595\" style=\"stroke: #000000\"/>\n     <use xlink:href=\"#mc32d7dc3f1\" x=\"83.435362\" y=\"30.876141\" style=\"stroke: #000000\"/>\n     <use xlink:href=\"#mc32d7dc3f1\" x=\"84.464799\" y=\"31.905595\" style=\"stroke: #000000\"/>\n     <use xlink:href=\"#mc32d7dc3f1\" x=\"84.464799\" y=\"30.876141\" style=\"stroke: #000000\"/>\n     <use xlink:href=\"#mc32d7dc3f1\" x=\"83.435362\" y=\"29.846687\" style=\"stroke: #000000\"/>\n     <use xlink:href=\"#mc32d7dc3f1\" x=\"83.435362\" y=\"28.817232\" style=\"stroke: #000000\"/>\n     <use xlink:href=\"#mc32d7dc3f1\" x=\"84.464799\" y=\"29.846687\" style=\"stroke: #000000\"/>\n     <use xlink:href=\"#mc32d7dc3f1\" x=\"84.464799\" y=\"28.817232\" style=\"stroke: #000000\"/>\n     <use xlink:href=\"#mc32d7dc3f1\" x=\"85.494236\" y=\"30.876141\" style=\"stroke: #000000\"/>\n     <use xlink:href=\"#mc32d7dc3f1\" x=\"86.523673\" y=\"30.876141\" style=\"stroke: #000000\"/>\n     <use xlink:href=\"#mc32d7dc3f1\" x=\"85.494236\" y=\"29.846687\" style=\"stroke: #000000\"/>\n     <use xlink:href=\"#mc32d7dc3f1\" x=\"85.494236\" y=\"28.817232\" style=\"stroke: #000000\"/>\n     <use xlink:href=\"#mc32d7dc3f1\" x=\"86.523673\" y=\"29.846687\" style=\"stroke: #000000\"/>\n     <use xlink:href=\"#mc32d7dc3f1\" x=\"86.523673\" y=\"28.817232\" style=\"stroke: #000000\"/>\n     <use xlink:href=\"#mc32d7dc3f1\" x=\"87.553109\" y=\"29.846687\" style=\"stroke: #000000\"/>\n     <use xlink:href=\"#mc32d7dc3f1\" x=\"87.553109\" y=\"28.817232\" style=\"stroke: #000000\"/>\n     <use xlink:href=\"#mc32d7dc3f1\" x=\"88.582546\" y=\"29.846687\" style=\"stroke: #000000\"/>\n     <use xlink:href=\"#mc32d7dc3f1\" x=\"88.582546\" y=\"28.817232\" style=\"stroke: #000000\"/>\n     <use xlink:href=\"#mc32d7dc3f1\" x=\"86.523673\" y=\"27.787778\" style=\"stroke: #000000\"/>\n     <use xlink:href=\"#mc32d7dc3f1\" x=\"87.553109\" y=\"27.787778\" style=\"stroke: #000000\"/>\n     <use xlink:href=\"#mc32d7dc3f1\" x=\"88.582546\" y=\"27.787778\" style=\"stroke: #000000\"/>\n     <use xlink:href=\"#mc32d7dc3f1\" x=\"89.611983\" y=\"29.846687\" style=\"stroke: #000000\"/>\n     <use xlink:href=\"#mc32d7dc3f1\" x=\"89.611983\" y=\"28.817232\" style=\"stroke: #000000\"/>\n     <use xlink:href=\"#mc32d7dc3f1\" x=\"90.641419\" y=\"28.817232\" style=\"stroke: #000000\"/>\n     <use xlink:href=\"#mc32d7dc3f1\" x=\"91.670856\" y=\"28.817232\" style=\"stroke: #000000\"/>\n     <use xlink:href=\"#mc32d7dc3f1\" x=\"92.700293\" y=\"28.817232\" style=\"stroke: #000000\"/>\n     <use xlink:href=\"#mc32d7dc3f1\" x=\"89.611983\" y=\"27.787778\" style=\"stroke: #000000\"/>\n     <use xlink:href=\"#mc32d7dc3f1\" x=\"89.611983\" y=\"26.758323\" style=\"stroke: #000000\"/>\n     <use xlink:href=\"#mc32d7dc3f1\" x=\"90.641419\" y=\"27.787778\" style=\"stroke: #000000\"/>\n     <use xlink:href=\"#mc32d7dc3f1\" x=\"90.641419\" y=\"26.758323\" style=\"stroke: #000000\"/>\n     <use xlink:href=\"#mc32d7dc3f1\" x=\"91.670856\" y=\"27.787778\" style=\"stroke: #000000\"/>\n     <use xlink:href=\"#mc32d7dc3f1\" x=\"91.670856\" y=\"26.758323\" style=\"stroke: #000000\"/>\n     <use xlink:href=\"#mc32d7dc3f1\" x=\"92.700293\" y=\"27.787778\" style=\"stroke: #000000\"/>\n     <use xlink:href=\"#mc32d7dc3f1\" x=\"92.700293\" y=\"26.758323\" style=\"stroke: #000000\"/>\n     <use xlink:href=\"#mc32d7dc3f1\" x=\"93.729729\" y=\"28.817232\" style=\"stroke: #000000\"/>\n     <use xlink:href=\"#mc32d7dc3f1\" x=\"93.729729\" y=\"27.787778\" style=\"stroke: #000000\"/>\n     <use xlink:href=\"#mc32d7dc3f1\" x=\"93.729729\" y=\"26.758323\" style=\"stroke: #000000\"/>\n     <use xlink:href=\"#mc32d7dc3f1\" x=\"94.759166\" y=\"27.787778\" style=\"stroke: #000000\"/>\n     <use xlink:href=\"#mc32d7dc3f1\" x=\"94.759166\" y=\"26.758323\" style=\"stroke: #000000\"/>\n     <use xlink:href=\"#mc32d7dc3f1\" x=\"93.729729\" y=\"25.728869\" style=\"stroke: #000000\"/>\n     <use xlink:href=\"#mc32d7dc3f1\" x=\"94.759166\" y=\"25.728869\" style=\"stroke: #000000\"/>\n     <use xlink:href=\"#mc32d7dc3f1\" x=\"95.788603\" y=\"27.787778\" style=\"stroke: #000000\"/>\n     <use xlink:href=\"#mc32d7dc3f1\" x=\"95.788603\" y=\"26.758323\" style=\"stroke: #000000\"/>\n     <use xlink:href=\"#mc32d7dc3f1\" x=\"96.818039\" y=\"27.787778\" style=\"stroke: #000000\"/>\n     <use xlink:href=\"#mc32d7dc3f1\" x=\"96.818039\" y=\"26.758323\" style=\"stroke: #000000\"/>\n     <use xlink:href=\"#mc32d7dc3f1\" x=\"95.788603\" y=\"25.728869\" style=\"stroke: #000000\"/>\n     <use xlink:href=\"#mc32d7dc3f1\" x=\"96.818039\" y=\"25.728869\" style=\"stroke: #000000\"/>\n     <use xlink:href=\"#mc32d7dc3f1\" x=\"113.28971\" y=\"222.353079\" style=\"stroke: #000000\"/>\n     <use xlink:href=\"#mc32d7dc3f1\" x=\"115.348671\" y=\"224.412071\" style=\"stroke: #000000\"/>\n     <use xlink:href=\"#mc32d7dc3f1\" x=\"114.319191\" y=\"223.382575\" style=\"stroke: #000000\"/>\n     <use xlink:href=\"#mc32d7dc3f1\" x=\"114.319191\" y=\"222.353079\" style=\"stroke: #000000\"/>\n     <use xlink:href=\"#mc32d7dc3f1\" x=\"115.348671\" y=\"223.382575\" style=\"stroke: #000000\"/>\n     <use xlink:href=\"#mc32d7dc3f1\" x=\"116.378152\" y=\"225.441567\" style=\"stroke: #000000\"/>\n     <use xlink:href=\"#mc32d7dc3f1\" x=\"116.378152\" y=\"224.412071\" style=\"stroke: #000000\"/>\n     <use xlink:href=\"#mc32d7dc3f1\" x=\"117.407633\" y=\"225.441567\" style=\"stroke: #000000\"/>\n     <use xlink:href=\"#mc32d7dc3f1\" x=\"118.437114\" y=\"226.471063\" style=\"stroke: #000000\"/>\n     <use xlink:href=\"#mc32d7dc3f1\" x=\"119.466594\" y=\"227.500558\" style=\"stroke: #000000\"/>\n     <use xlink:href=\"#mc32d7dc3f1\" x=\"119.466594\" y=\"226.471063\" style=\"stroke: #000000\"/>\n     <use xlink:href=\"#mc32d7dc3f1\" x=\"120.496075\" y=\"228.530054\" style=\"stroke: #000000\"/>\n     <use xlink:href=\"#mc32d7dc3f1\" x=\"121.525556\" y=\"228.530054\" style=\"stroke: #000000\"/>\n     <use xlink:href=\"#mc32d7dc3f1\" x=\"120.496075\" y=\"227.500558\" style=\"stroke: #000000\"/>\n     <use xlink:href=\"#mc32d7dc3f1\" x=\"118.437114\" y=\"225.441567\" style=\"stroke: #000000\"/>\n     <use xlink:href=\"#mc32d7dc3f1\" x=\"123.584518\" y=\"230.589046\" style=\"stroke: #000000\"/>\n     <use xlink:href=\"#mc32d7dc3f1\" x=\"124.613998\" y=\"230.589046\" style=\"stroke: #000000\"/>\n     <use xlink:href=\"#mc32d7dc3f1\" x=\"125.643479\" y=\"231.618542\" style=\"stroke: #000000\"/>\n     <use xlink:href=\"#mc32d7dc3f1\" x=\"125.643479\" y=\"230.589046\" style=\"stroke: #000000\"/>\n     <use xlink:href=\"#mc32d7dc3f1\" x=\"129.761402\" y=\"234.707029\" style=\"stroke: #000000\"/>\n     <use xlink:href=\"#mc32d7dc3f1\" x=\"126.67296\" y=\"232.648038\" style=\"stroke: #000000\"/>\n     <use xlink:href=\"#mc32d7dc3f1\" x=\"127.702441\" y=\"233.677534\" style=\"stroke: #000000\"/>\n     <use xlink:href=\"#mc32d7dc3f1\" x=\"127.702441\" y=\"232.648038\" style=\"stroke: #000000\"/>\n     <use xlink:href=\"#mc32d7dc3f1\" x=\"126.67296\" y=\"231.618542\" style=\"stroke: #000000\"/>\n     <use xlink:href=\"#mc32d7dc3f1\" x=\"128.731921\" y=\"233.677534\" style=\"stroke: #000000\"/>\n     <use xlink:href=\"#mc32d7dc3f1\" x=\"129.761402\" y=\"233.677534\" style=\"stroke: #000000\"/>\n     <use xlink:href=\"#mc32d7dc3f1\" x=\"122.555037\" y=\"229.55955\" style=\"stroke: #000000\"/>\n     <use xlink:href=\"#mc32d7dc3f1\" x=\"122.555037\" y=\"228.530054\" style=\"stroke: #000000\"/>\n     <use xlink:href=\"#mc32d7dc3f1\" x=\"123.584518\" y=\"229.55955\" style=\"stroke: #000000\"/>\n     <use xlink:href=\"#mc32d7dc3f1\" x=\"102.994902\" y=\"214.117837\" style=\"stroke: #000000\"/>\n     <use xlink:href=\"#mc32d7dc3f1\" x=\"105.053864\" y=\"216.176635\" style=\"stroke: #000000\"/>\n     <use xlink:href=\"#mc32d7dc3f1\" x=\"104.024383\" y=\"215.147236\" style=\"stroke: #000000\"/>\n     <use xlink:href=\"#mc32d7dc3f1\" x=\"104.024383\" y=\"214.117837\" style=\"stroke: #000000\"/>\n     <use xlink:href=\"#mc32d7dc3f1\" x=\"105.053864\" y=\"215.147236\" style=\"stroke: #000000\"/>\n     <use xlink:href=\"#mc32d7dc3f1\" x=\"98.876979\" y=\"210.00024\" style=\"stroke: #000000\"/>\n     <use xlink:href=\"#mc32d7dc3f1\" x=\"100.93594\" y=\"212.059038\" style=\"stroke: #000000\"/>\n     <use xlink:href=\"#mc32d7dc3f1\" x=\"99.90646\" y=\"211.029639\" style=\"stroke: #000000\"/>\n     <use xlink:href=\"#mc32d7dc3f1\" x=\"99.90646\" y=\"210.00024\" style=\"stroke: #000000\"/>\n     <use xlink:href=\"#mc32d7dc3f1\" x=\"100.93594\" y=\"211.029639\" style=\"stroke: #000000\"/>\n     <use xlink:href=\"#mc32d7dc3f1\" x=\"97.847498\" y=\"208.970841\" style=\"stroke: #000000\"/>\n     <use xlink:href=\"#mc32d7dc3f1\" x=\"97.847498\" y=\"207.941441\" style=\"stroke: #000000\"/>\n     <use xlink:href=\"#mc32d7dc3f1\" x=\"98.876979\" y=\"208.970841\" style=\"stroke: #000000\"/>\n     <use xlink:href=\"#mc32d7dc3f1\" x=\"101.965421\" y=\"213.088438\" style=\"stroke: #000000\"/>\n     <use xlink:href=\"#mc32d7dc3f1\" x=\"101.965421\" y=\"212.059038\" style=\"stroke: #000000\"/>\n     <use xlink:href=\"#mc32d7dc3f1\" x=\"102.994902\" y=\"213.088438\" style=\"stroke: #000000\"/>\n     <use xlink:href=\"#mc32d7dc3f1\" x=\"108.142306\" y=\"218.235434\" style=\"stroke: #000000\"/>\n     <use xlink:href=\"#mc32d7dc3f1\" x=\"109.171787\" y=\"219.264833\" style=\"stroke: #000000\"/>\n     <use xlink:href=\"#mc32d7dc3f1\" x=\"109.171787\" y=\"218.235434\" style=\"stroke: #000000\"/>\n     <use xlink:href=\"#mc32d7dc3f1\" x=\"106.083344\" y=\"216.176635\" style=\"stroke: #000000\"/>\n     <use xlink:href=\"#mc32d7dc3f1\" x=\"107.112825\" y=\"217.206035\" style=\"stroke: #000000\"/>\n     <use xlink:href=\"#mc32d7dc3f1\" x=\"107.112825\" y=\"216.176635\" style=\"stroke: #000000\"/>\n     <use xlink:href=\"#mc32d7dc3f1\" x=\"108.142306\" y=\"217.206035\" style=\"stroke: #000000\"/>\n     <use xlink:href=\"#mc32d7dc3f1\" x=\"110.201267\" y=\"220.294232\" style=\"stroke: #000000\"/>\n     <use xlink:href=\"#mc32d7dc3f1\" x=\"111.230748\" y=\"221.323632\" style=\"stroke: #000000\"/>\n     <use xlink:href=\"#mc32d7dc3f1\" x=\"111.230748\" y=\"220.294232\" style=\"stroke: #000000\"/>\n     <use xlink:href=\"#mc32d7dc3f1\" x=\"110.201267\" y=\"219.264833\" style=\"stroke: #000000\"/>\n     <use xlink:href=\"#mc32d7dc3f1\" x=\"112.260229\" y=\"221.323632\" style=\"stroke: #000000\"/>\n     <use xlink:href=\"#mc32d7dc3f1\" x=\"113.28971\" y=\"221.323632\" style=\"stroke: #000000\"/>\n     <use xlink:href=\"#mc32d7dc3f1\" x=\"97.847498\" y=\"27.787778\" style=\"stroke: #000000\"/>\n     <use xlink:href=\"#mc32d7dc3f1\" x=\"97.847498\" y=\"26.758323\" style=\"stroke: #000000\"/>\n     <use xlink:href=\"#mc32d7dc3f1\" x=\"98.876979\" y=\"27.787778\" style=\"stroke: #000000\"/>\n     <use xlink:href=\"#mc32d7dc3f1\" x=\"98.876979\" y=\"26.758323\" style=\"stroke: #000000\"/>\n     <use xlink:href=\"#mc32d7dc3f1\" x=\"97.847498\" y=\"25.728869\" style=\"stroke: #000000\"/>\n     <use xlink:href=\"#mc32d7dc3f1\" x=\"98.876979\" y=\"25.728869\" style=\"stroke: #000000\"/>\n     <use xlink:href=\"#mc32d7dc3f1\" x=\"99.90646\" y=\"26.758323\" style=\"stroke: #000000\"/>\n     <use xlink:href=\"#mc32d7dc3f1\" x=\"100.93594\" y=\"26.758323\" style=\"stroke: #000000\"/>\n     <use xlink:href=\"#mc32d7dc3f1\" x=\"99.90646\" y=\"25.728869\" style=\"stroke: #000000\"/>\n     <use xlink:href=\"#mc32d7dc3f1\" x=\"99.90646\" y=\"24.699414\" style=\"stroke: #000000\"/>\n     <use xlink:href=\"#mc32d7dc3f1\" x=\"100.93594\" y=\"25.728869\" style=\"stroke: #000000\"/>\n     <use xlink:href=\"#mc32d7dc3f1\" x=\"100.93594\" y=\"24.699414\" style=\"stroke: #000000\"/>\n     <use xlink:href=\"#mc32d7dc3f1\" x=\"101.965421\" y=\"26.758323\" style=\"stroke: #000000\"/>\n     <use xlink:href=\"#mc32d7dc3f1\" x=\"102.994902\" y=\"26.758323\" style=\"stroke: #000000\"/>\n     <use xlink:href=\"#mc32d7dc3f1\" x=\"101.965421\" y=\"25.728869\" style=\"stroke: #000000\"/>\n     <use xlink:href=\"#mc32d7dc3f1\" x=\"101.965421\" y=\"24.699414\" style=\"stroke: #000000\"/>\n     <use xlink:href=\"#mc32d7dc3f1\" x=\"102.994902\" y=\"25.728869\" style=\"stroke: #000000\"/>\n     <use xlink:href=\"#mc32d7dc3f1\" x=\"102.994902\" y=\"24.699414\" style=\"stroke: #000000\"/>\n     <use xlink:href=\"#mc32d7dc3f1\" x=\"104.024383\" y=\"26.758323\" style=\"stroke: #000000\"/>\n     <use xlink:href=\"#mc32d7dc3f1\" x=\"105.053864\" y=\"26.758323\" style=\"stroke: #000000\"/>\n     <use xlink:href=\"#mc32d7dc3f1\" x=\"104.024383\" y=\"25.728869\" style=\"stroke: #000000\"/>\n     <use xlink:href=\"#mc32d7dc3f1\" x=\"104.024383\" y=\"24.699414\" style=\"stroke: #000000\"/>\n     <use xlink:href=\"#mc32d7dc3f1\" x=\"105.053864\" y=\"25.728869\" style=\"stroke: #000000\"/>\n     <use xlink:href=\"#mc32d7dc3f1\" x=\"105.053864\" y=\"24.699414\" style=\"stroke: #000000\"/>\n     <use xlink:href=\"#mc32d7dc3f1\" x=\"106.083344\" y=\"26.758323\" style=\"stroke: #000000\"/>\n     <use xlink:href=\"#mc32d7dc3f1\" x=\"107.112825\" y=\"26.758323\" style=\"stroke: #000000\"/>\n     <use xlink:href=\"#mc32d7dc3f1\" x=\"106.083344\" y=\"25.728869\" style=\"stroke: #000000\"/>\n     <use xlink:href=\"#mc32d7dc3f1\" x=\"106.083344\" y=\"24.699414\" style=\"stroke: #000000\"/>\n     <use xlink:href=\"#mc32d7dc3f1\" x=\"107.112825\" y=\"25.728869\" style=\"stroke: #000000\"/>\n     <use xlink:href=\"#mc32d7dc3f1\" x=\"107.112825\" y=\"24.699414\" style=\"stroke: #000000\"/>\n     <use xlink:href=\"#mc32d7dc3f1\" x=\"108.142306\" y=\"26.758323\" style=\"stroke: #000000\"/>\n     <use xlink:href=\"#mc32d7dc3f1\" x=\"109.171787\" y=\"26.758323\" style=\"stroke: #000000\"/>\n     <use xlink:href=\"#mc32d7dc3f1\" x=\"108.142306\" y=\"25.728869\" style=\"stroke: #000000\"/>\n     <use xlink:href=\"#mc32d7dc3f1\" x=\"108.142306\" y=\"24.699414\" style=\"stroke: #000000\"/>\n     <use xlink:href=\"#mc32d7dc3f1\" x=\"109.171787\" y=\"25.728869\" style=\"stroke: #000000\"/>\n     <use xlink:href=\"#mc32d7dc3f1\" x=\"109.171787\" y=\"24.699414\" style=\"stroke: #000000\"/>\n     <use xlink:href=\"#mc32d7dc3f1\" x=\"110.201267\" y=\"26.758323\" style=\"stroke: #000000\"/>\n     <use xlink:href=\"#mc32d7dc3f1\" x=\"111.230748\" y=\"26.758323\" style=\"stroke: #000000\"/>\n     <use xlink:href=\"#mc32d7dc3f1\" x=\"110.201267\" y=\"25.728869\" style=\"stroke: #000000\"/>\n     <use xlink:href=\"#mc32d7dc3f1\" x=\"110.201267\" y=\"24.699414\" style=\"stroke: #000000\"/>\n     <use xlink:href=\"#mc32d7dc3f1\" x=\"111.230748\" y=\"25.728869\" style=\"stroke: #000000\"/>\n     <use xlink:href=\"#mc32d7dc3f1\" x=\"111.230748\" y=\"24.699414\" style=\"stroke: #000000\"/>\n     <use xlink:href=\"#mc32d7dc3f1\" x=\"112.260229\" y=\"26.758323\" style=\"stroke: #000000\"/>\n     <use xlink:href=\"#mc32d7dc3f1\" x=\"113.28971\" y=\"26.758323\" style=\"stroke: #000000\"/>\n     <use xlink:href=\"#mc32d7dc3f1\" x=\"112.260229\" y=\"25.728869\" style=\"stroke: #000000\"/>\n     <use xlink:href=\"#mc32d7dc3f1\" x=\"112.260229\" y=\"24.699414\" style=\"stroke: #000000\"/>\n     <use xlink:href=\"#mc32d7dc3f1\" x=\"113.28971\" y=\"25.728869\" style=\"stroke: #000000\"/>\n     <use xlink:href=\"#mc32d7dc3f1\" x=\"113.28971\" y=\"24.699414\" style=\"stroke: #000000\"/>\n     <use xlink:href=\"#mc32d7dc3f1\" x=\"114.319191\" y=\"26.758323\" style=\"stroke: #000000\"/>\n     <use xlink:href=\"#mc32d7dc3f1\" x=\"115.348671\" y=\"26.758323\" style=\"stroke: #000000\"/>\n     <use xlink:href=\"#mc32d7dc3f1\" x=\"114.319191\" y=\"25.728869\" style=\"stroke: #000000\"/>\n     <use xlink:href=\"#mc32d7dc3f1\" x=\"114.319191\" y=\"24.699414\" style=\"stroke: #000000\"/>\n     <use xlink:href=\"#mc32d7dc3f1\" x=\"115.348671\" y=\"25.728869\" style=\"stroke: #000000\"/>\n     <use xlink:href=\"#mc32d7dc3f1\" x=\"115.348671\" y=\"24.699414\" style=\"stroke: #000000\"/>\n     <use xlink:href=\"#mc32d7dc3f1\" x=\"116.378152\" y=\"26.758323\" style=\"stroke: #000000\"/>\n     <use xlink:href=\"#mc32d7dc3f1\" x=\"117.407633\" y=\"26.758323\" style=\"stroke: #000000\"/>\n     <use xlink:href=\"#mc32d7dc3f1\" x=\"116.378152\" y=\"25.728869\" style=\"stroke: #000000\"/>\n     <use xlink:href=\"#mc32d7dc3f1\" x=\"116.378152\" y=\"24.699414\" style=\"stroke: #000000\"/>\n     <use xlink:href=\"#mc32d7dc3f1\" x=\"117.407633\" y=\"25.728869\" style=\"stroke: #000000\"/>\n     <use xlink:href=\"#mc32d7dc3f1\" x=\"118.437114\" y=\"26.758323\" style=\"stroke: #000000\"/>\n     <use xlink:href=\"#mc32d7dc3f1\" x=\"119.466594\" y=\"26.758323\" style=\"stroke: #000000\"/>\n     <use xlink:href=\"#mc32d7dc3f1\" x=\"118.437114\" y=\"25.728869\" style=\"stroke: #000000\"/>\n     <use xlink:href=\"#mc32d7dc3f1\" x=\"119.466594\" y=\"25.728869\" style=\"stroke: #000000\"/>\n     <use xlink:href=\"#mc32d7dc3f1\" x=\"120.496075\" y=\"27.787778\" style=\"stroke: #000000\"/>\n     <use xlink:href=\"#mc32d7dc3f1\" x=\"120.496075\" y=\"26.758323\" style=\"stroke: #000000\"/>\n     <use xlink:href=\"#mc32d7dc3f1\" x=\"121.525556\" y=\"27.787778\" style=\"stroke: #000000\"/>\n     <use xlink:href=\"#mc32d7dc3f1\" x=\"121.525556\" y=\"26.758323\" style=\"stroke: #000000\"/>\n     <use xlink:href=\"#mc32d7dc3f1\" x=\"120.496075\" y=\"25.728869\" style=\"stroke: #000000\"/>\n     <use xlink:href=\"#mc32d7dc3f1\" x=\"121.525556\" y=\"25.728869\" style=\"stroke: #000000\"/>\n     <use xlink:href=\"#mc32d7dc3f1\" x=\"122.555037\" y=\"27.787778\" style=\"stroke: #000000\"/>\n     <use xlink:href=\"#mc32d7dc3f1\" x=\"122.555037\" y=\"26.758323\" style=\"stroke: #000000\"/>\n     <use xlink:href=\"#mc32d7dc3f1\" x=\"123.584518\" y=\"27.787778\" style=\"stroke: #000000\"/>\n     <use xlink:href=\"#mc32d7dc3f1\" x=\"123.584518\" y=\"26.758323\" style=\"stroke: #000000\"/>\n     <use xlink:href=\"#mc32d7dc3f1\" x=\"122.555037\" y=\"25.728869\" style=\"stroke: #000000\"/>\n     <use xlink:href=\"#mc32d7dc3f1\" x=\"124.613998\" y=\"27.787778\" style=\"stroke: #000000\"/>\n     <use xlink:href=\"#mc32d7dc3f1\" x=\"124.613998\" y=\"26.758323\" style=\"stroke: #000000\"/>\n     <use xlink:href=\"#mc32d7dc3f1\" x=\"125.643479\" y=\"27.787778\" style=\"stroke: #000000\"/>\n     <use xlink:href=\"#mc32d7dc3f1\" x=\"125.643479\" y=\"26.758323\" style=\"stroke: #000000\"/>\n     <use xlink:href=\"#mc32d7dc3f1\" x=\"126.67296\" y=\"28.817232\" style=\"stroke: #000000\"/>\n     <use xlink:href=\"#mc32d7dc3f1\" x=\"127.702441\" y=\"28.817232\" style=\"stroke: #000000\"/>\n     <use xlink:href=\"#mc32d7dc3f1\" x=\"128.731921\" y=\"28.817232\" style=\"stroke: #000000\"/>\n     <use xlink:href=\"#mc32d7dc3f1\" x=\"129.761402\" y=\"28.817232\" style=\"stroke: #000000\"/>\n     <use xlink:href=\"#mc32d7dc3f1\" x=\"126.67296\" y=\"27.787778\" style=\"stroke: #000000\"/>\n     <use xlink:href=\"#mc32d7dc3f1\" x=\"126.67296\" y=\"26.758323\" style=\"stroke: #000000\"/>\n     <use xlink:href=\"#mc32d7dc3f1\" x=\"127.702441\" y=\"27.787778\" style=\"stroke: #000000\"/>\n     <use xlink:href=\"#mc32d7dc3f1\" x=\"127.702441\" y=\"26.758323\" style=\"stroke: #000000\"/>\n     <use xlink:href=\"#mc32d7dc3f1\" x=\"128.731921\" y=\"27.787778\" style=\"stroke: #000000\"/>\n     <use xlink:href=\"#mc32d7dc3f1\" x=\"129.761402\" y=\"27.787778\" style=\"stroke: #000000\"/>\n     <use xlink:href=\"#mc32d7dc3f1\" x=\"158.585325\" y=\"255.296899\" style=\"stroke: #000000\"/>\n     <use xlink:href=\"#mc32d7dc3f1\" x=\"162.703024\" y=\"261.473305\" style=\"stroke: #000000\"/>\n     <use xlink:href=\"#mc32d7dc3f1\" x=\"161.6736\" y=\"259.414503\" style=\"stroke: #000000\"/>\n     <use xlink:href=\"#mc32d7dc3f1\" x=\"162.703024\" y=\"260.443904\" style=\"stroke: #000000\"/>\n     <use xlink:href=\"#mc32d7dc3f1\" x=\"162.703024\" y=\"259.414503\" style=\"stroke: #000000\"/>\n     <use xlink:href=\"#mc32d7dc3f1\" x=\"160.644175\" y=\"257.355701\" style=\"stroke: #000000\"/>\n     <use xlink:href=\"#mc32d7dc3f1\" x=\"159.61475\" y=\"256.3263\" style=\"stroke: #000000\"/>\n     <use xlink:href=\"#mc32d7dc3f1\" x=\"159.61475\" y=\"255.296899\" style=\"stroke: #000000\"/>\n     <use xlink:href=\"#mc32d7dc3f1\" x=\"160.644175\" y=\"256.3263\" style=\"stroke: #000000\"/>\n     <use xlink:href=\"#mc32d7dc3f1\" x=\"161.6736\" y=\"258.385102\" style=\"stroke: #000000\"/>\n     <use xlink:href=\"#mc32d7dc3f1\" x=\"161.6736\" y=\"257.355701\" style=\"stroke: #000000\"/>\n     <use xlink:href=\"#mc32d7dc3f1\" x=\"135.937979\" y=\"238.825013\" style=\"stroke: #000000\"/>\n     <use xlink:href=\"#mc32d7dc3f1\" x=\"136.967404\" y=\"239.854509\" style=\"stroke: #000000\"/>\n     <use xlink:href=\"#mc32d7dc3f1\" x=\"136.967404\" y=\"238.825013\" style=\"stroke: #000000\"/>\n     <use xlink:href=\"#mc32d7dc3f1\" x=\"137.996829\" y=\"239.854509\" style=\"stroke: #000000\"/>\n     <use xlink:href=\"#mc32d7dc3f1\" x=\"142.114528\" y=\"242.942996\" style=\"stroke: #000000\"/>\n     <use xlink:href=\"#mc32d7dc3f1\" x=\"139.026254\" y=\"240.884004\" style=\"stroke: #000000\"/>\n     <use xlink:href=\"#mc32d7dc3f1\" x=\"140.055678\" y=\"241.9135\" style=\"stroke: #000000\"/>\n     <use xlink:href=\"#mc32d7dc3f1\" x=\"140.055678\" y=\"240.884004\" style=\"stroke: #000000\"/>\n     <use xlink:href=\"#mc32d7dc3f1\" x=\"139.026254\" y=\"239.854509\" style=\"stroke: #000000\"/>\n     <use xlink:href=\"#mc32d7dc3f1\" x=\"141.085103\" y=\"241.9135\" style=\"stroke: #000000\"/>\n     <use xlink:href=\"#mc32d7dc3f1\" x=\"142.114528\" y=\"241.9135\" style=\"stroke: #000000\"/>\n     <use xlink:href=\"#mc32d7dc3f1\" x=\"144.173378\" y=\"245.001988\" style=\"stroke: #000000\"/>\n     <use xlink:href=\"#mc32d7dc3f1\" x=\"143.143953\" y=\"243.972492\" style=\"stroke: #000000\"/>\n     <use xlink:href=\"#mc32d7dc3f1\" x=\"143.143953\" y=\"242.942996\" style=\"stroke: #000000\"/>\n     <use xlink:href=\"#mc32d7dc3f1\" x=\"144.173378\" y=\"243.972492\" style=\"stroke: #000000\"/>\n     <use xlink:href=\"#mc32d7dc3f1\" x=\"145.202803\" y=\"245.001988\" style=\"stroke: #000000\"/>\n     <use xlink:href=\"#mc32d7dc3f1\" x=\"146.232227\" y=\"246.031484\" style=\"stroke: #000000\"/>\n     <use xlink:href=\"#mc32d7dc3f1\" x=\"146.232227\" y=\"245.001988\" style=\"stroke: #000000\"/>\n     <use xlink:href=\"#mc32d7dc3f1\" x=\"130.790855\" y=\"235.736525\" style=\"stroke: #000000\"/>\n     <use xlink:href=\"#mc32d7dc3f1\" x=\"130.790855\" y=\"234.707029\" style=\"stroke: #000000\"/>\n     <use xlink:href=\"#mc32d7dc3f1\" x=\"131.82028\" y=\"235.736525\" style=\"stroke: #000000\"/>\n     <use xlink:href=\"#mc32d7dc3f1\" x=\"132.849705\" y=\"236.766021\" style=\"stroke: #000000\"/>\n     <use xlink:href=\"#mc32d7dc3f1\" x=\"133.87913\" y=\"237.795517\" style=\"stroke: #000000\"/>\n     <use xlink:href=\"#mc32d7dc3f1\" x=\"133.87913\" y=\"236.766021\" style=\"stroke: #000000\"/>\n     <use xlink:href=\"#mc32d7dc3f1\" x=\"132.849705\" y=\"235.736525\" style=\"stroke: #000000\"/>\n     <use xlink:href=\"#mc32d7dc3f1\" x=\"134.908554\" y=\"237.795517\" style=\"stroke: #000000\"/>\n     <use xlink:href=\"#mc32d7dc3f1\" x=\"135.937979\" y=\"237.795517\" style=\"stroke: #000000\"/>\n     <use xlink:href=\"#mc32d7dc3f1\" x=\"147.261652\" y=\"247.06098\" style=\"stroke: #000000\"/>\n     <use xlink:href=\"#mc32d7dc3f1\" x=\"148.291077\" y=\"247.06098\" style=\"stroke: #000000\"/>\n     <use xlink:href=\"#mc32d7dc3f1\" x=\"150.349927\" y=\"249.119971\" style=\"stroke: #000000\"/>\n     <use xlink:href=\"#mc32d7dc3f1\" x=\"149.320502\" y=\"248.090475\" style=\"stroke: #000000\"/>\n     <use xlink:href=\"#mc32d7dc3f1\" x=\"149.320502\" y=\"247.06098\" style=\"stroke: #000000\"/>\n     <use xlink:href=\"#mc32d7dc3f1\" x=\"150.349927\" y=\"248.090475\" style=\"stroke: #000000\"/>\n     <use xlink:href=\"#mc32d7dc3f1\" x=\"153.438201\" y=\"251.178963\" style=\"stroke: #000000\"/>\n     <use xlink:href=\"#mc32d7dc3f1\" x=\"154.467626\" y=\"252.208459\" style=\"stroke: #000000\"/>\n     <use xlink:href=\"#mc32d7dc3f1\" x=\"154.467626\" y=\"251.178963\" style=\"stroke: #000000\"/>\n     <use xlink:href=\"#mc32d7dc3f1\" x=\"151.379351\" y=\"249.119971\" style=\"stroke: #000000\"/>\n     <use xlink:href=\"#mc32d7dc3f1\" x=\"152.408776\" y=\"250.149467\" style=\"stroke: #000000\"/>\n     <use xlink:href=\"#mc32d7dc3f1\" x=\"152.408776\" y=\"249.119971\" style=\"stroke: #000000\"/>\n     <use xlink:href=\"#mc32d7dc3f1\" x=\"153.438201\" y=\"250.149467\" style=\"stroke: #000000\"/>\n     <use xlink:href=\"#mc32d7dc3f1\" x=\"147.261652\" y=\"246.031484\" style=\"stroke: #000000\"/>\n     <use xlink:href=\"#mc32d7dc3f1\" x=\"156.526476\" y=\"253.237955\" style=\"stroke: #000000\"/>\n     <use xlink:href=\"#mc32d7dc3f1\" x=\"155.497051\" y=\"252.208459\" style=\"stroke: #000000\"/>\n     <use xlink:href=\"#mc32d7dc3f1\" x=\"156.526476\" y=\"252.208459\" style=\"stroke: #000000\"/>\n     <use xlink:href=\"#mc32d7dc3f1\" x=\"157.5559\" y=\"254.26745\" style=\"stroke: #000000\"/>\n     <use xlink:href=\"#mc32d7dc3f1\" x=\"157.5559\" y=\"253.237955\" style=\"stroke: #000000\"/>\n     <use xlink:href=\"#mc32d7dc3f1\" x=\"158.585325\" y=\"254.26745\" style=\"stroke: #000000\"/>\n     <use xlink:href=\"#mc32d7dc3f1\" x=\"130.790855\" y=\"29.846687\" style=\"stroke: #000000\"/>\n     <use xlink:href=\"#mc32d7dc3f1\" x=\"130.790855\" y=\"28.817232\" style=\"stroke: #000000\"/>\n     <use xlink:href=\"#mc32d7dc3f1\" x=\"131.82028\" y=\"29.846687\" style=\"stroke: #000000\"/>\n     <use xlink:href=\"#mc32d7dc3f1\" x=\"131.82028\" y=\"28.817232\" style=\"stroke: #000000\"/>\n     <use xlink:href=\"#mc32d7dc3f1\" x=\"133.87913\" y=\"30.876141\" style=\"stroke: #000000\"/>\n     <use xlink:href=\"#mc32d7dc3f1\" x=\"132.849705\" y=\"29.846687\" style=\"stroke: #000000\"/>\n     <use xlink:href=\"#mc32d7dc3f1\" x=\"132.849705\" y=\"28.817232\" style=\"stroke: #000000\"/>\n     <use xlink:href=\"#mc32d7dc3f1\" x=\"133.87913\" y=\"29.846687\" style=\"stroke: #000000\"/>\n     <use xlink:href=\"#mc32d7dc3f1\" x=\"133.87913\" y=\"28.817232\" style=\"stroke: #000000\"/>\n     <use xlink:href=\"#mc32d7dc3f1\" x=\"130.790855\" y=\"27.787778\" style=\"stroke: #000000\"/>\n     <use xlink:href=\"#mc32d7dc3f1\" x=\"134.908554\" y=\"30.876141\" style=\"stroke: #000000\"/>\n     <use xlink:href=\"#mc32d7dc3f1\" x=\"135.937979\" y=\"30.876141\" style=\"stroke: #000000\"/>\n     <use xlink:href=\"#mc32d7dc3f1\" x=\"134.908554\" y=\"29.846687\" style=\"stroke: #000000\"/>\n     <use xlink:href=\"#mc32d7dc3f1\" x=\"135.937979\" y=\"29.846687\" style=\"stroke: #000000\"/>\n     <use xlink:href=\"#mc32d7dc3f1\" x=\"136.967404\" y=\"31.905595\" style=\"stroke: #000000\"/>\n     <use xlink:href=\"#mc32d7dc3f1\" x=\"136.967404\" y=\"30.876141\" style=\"stroke: #000000\"/>\n     <use xlink:href=\"#mc32d7dc3f1\" x=\"137.996829\" y=\"31.905595\" style=\"stroke: #000000\"/>\n     <use xlink:href=\"#mc32d7dc3f1\" x=\"137.996829\" y=\"30.876141\" style=\"stroke: #000000\"/>\n     <use xlink:href=\"#mc32d7dc3f1\" x=\"136.967404\" y=\"29.846687\" style=\"stroke: #000000\"/>\n     <use xlink:href=\"#mc32d7dc3f1\" x=\"140.055678\" y=\"32.93505\" style=\"stroke: #000000\"/>\n     <use xlink:href=\"#mc32d7dc3f1\" x=\"141.085103\" y=\"32.93505\" style=\"stroke: #000000\"/>\n     <use xlink:href=\"#mc32d7dc3f1\" x=\"142.114528\" y=\"33.964504\" style=\"stroke: #000000\"/>\n     <use xlink:href=\"#mc32d7dc3f1\" x=\"142.114528\" y=\"32.93505\" style=\"stroke: #000000\"/>\n     <use xlink:href=\"#mc32d7dc3f1\" x=\"144.173378\" y=\"34.993959\" style=\"stroke: #000000\"/>\n     <use xlink:href=\"#mc32d7dc3f1\" x=\"143.143953\" y=\"33.964504\" style=\"stroke: #000000\"/>\n     <use xlink:href=\"#mc32d7dc3f1\" x=\"143.143953\" y=\"32.93505\" style=\"stroke: #000000\"/>\n     <use xlink:href=\"#mc32d7dc3f1\" x=\"144.173378\" y=\"33.964504\" style=\"stroke: #000000\"/>\n     <use xlink:href=\"#mc32d7dc3f1\" x=\"145.202803\" y=\"34.993959\" style=\"stroke: #000000\"/>\n     <use xlink:href=\"#mc32d7dc3f1\" x=\"146.232227\" y=\"36.023413\" style=\"stroke: #000000\"/>\n     <use xlink:href=\"#mc32d7dc3f1\" x=\"146.232227\" y=\"34.993959\" style=\"stroke: #000000\"/>\n     <use xlink:href=\"#mc32d7dc3f1\" x=\"145.202803\" y=\"33.964504\" style=\"stroke: #000000\"/>\n     <use xlink:href=\"#mc32d7dc3f1\" x=\"139.026254\" y=\"31.905595\" style=\"stroke: #000000\"/>\n     <use xlink:href=\"#mc32d7dc3f1\" x=\"139.026254\" y=\"30.876141\" style=\"stroke: #000000\"/>\n     <use xlink:href=\"#mc32d7dc3f1\" x=\"140.055678\" y=\"31.905595\" style=\"stroke: #000000\"/>\n     <use xlink:href=\"#mc32d7dc3f1\" x=\"141.085103\" y=\"31.905595\" style=\"stroke: #000000\"/>\n     <use xlink:href=\"#mc32d7dc3f1\" x=\"154.467626\" y=\"41.170686\" style=\"stroke: #000000\"/>\n     <use xlink:href=\"#mc32d7dc3f1\" x=\"162.703024\" y=\"50.435776\" style=\"stroke: #000000\"/>\n     <use xlink:href=\"#mc32d7dc3f1\" x=\"162.703024\" y=\"49.406321\" style=\"stroke: #000000\"/>\n     <use xlink:href=\"#mc32d7dc3f1\" x=\"155.497051\" y=\"42.20014\" style=\"stroke: #000000\"/>\n     <use xlink:href=\"#mc32d7dc3f1\" x=\"155.497051\" y=\"41.170686\" style=\"stroke: #000000\"/>\n     <use xlink:href=\"#mc32d7dc3f1\" x=\"156.526476\" y=\"42.20014\" style=\"stroke: #000000\"/>\n     <use xlink:href=\"#mc32d7dc3f1\" x=\"156.526476\" y=\"41.170686\" style=\"stroke: #000000\"/>\n     <use xlink:href=\"#mc32d7dc3f1\" x=\"157.5559\" y=\"43.229595\" style=\"stroke: #000000\"/>\n     <use xlink:href=\"#mc32d7dc3f1\" x=\"158.585325\" y=\"44.259049\" style=\"stroke: #000000\"/>\n     <use xlink:href=\"#mc32d7dc3f1\" x=\"158.585325\" y=\"43.229595\" style=\"stroke: #000000\"/>\n     <use xlink:href=\"#mc32d7dc3f1\" x=\"157.5559\" y=\"42.20014\" style=\"stroke: #000000\"/>\n     <use xlink:href=\"#mc32d7dc3f1\" x=\"159.61475\" y=\"45.288504\" style=\"stroke: #000000\"/>\n     <use xlink:href=\"#mc32d7dc3f1\" x=\"160.644175\" y=\"46.317958\" style=\"stroke: #000000\"/>\n     <use xlink:href=\"#mc32d7dc3f1\" x=\"160.644175\" y=\"45.288504\" style=\"stroke: #000000\"/>\n     <use xlink:href=\"#mc32d7dc3f1\" x=\"161.6736\" y=\"48.376867\" style=\"stroke: #000000\"/>\n     <use xlink:href=\"#mc32d7dc3f1\" x=\"161.6736\" y=\"47.347412\" style=\"stroke: #000000\"/>\n     <use xlink:href=\"#mc32d7dc3f1\" x=\"162.703024\" y=\"48.376867\" style=\"stroke: #000000\"/>\n     <use xlink:href=\"#mc32d7dc3f1\" x=\"161.6736\" y=\"46.317958\" style=\"stroke: #000000\"/>\n     <use xlink:href=\"#mc32d7dc3f1\" x=\"159.61475\" y=\"44.259049\" style=\"stroke: #000000\"/>\n     <use xlink:href=\"#mc32d7dc3f1\" x=\"148.291077\" y=\"37.052868\" style=\"stroke: #000000\"/>\n     <use xlink:href=\"#mc32d7dc3f1\" x=\"149.320502\" y=\"37.052868\" style=\"stroke: #000000\"/>\n     <use xlink:href=\"#mc32d7dc3f1\" x=\"150.349927\" y=\"38.082322\" style=\"stroke: #000000\"/>\n     <use xlink:href=\"#mc32d7dc3f1\" x=\"150.349927\" y=\"37.052868\" style=\"stroke: #000000\"/>\n     <use xlink:href=\"#mc32d7dc3f1\" x=\"147.261652\" y=\"36.023413\" style=\"stroke: #000000\"/>\n     <use xlink:href=\"#mc32d7dc3f1\" x=\"147.261652\" y=\"34.993959\" style=\"stroke: #000000\"/>\n     <use xlink:href=\"#mc32d7dc3f1\" x=\"148.291077\" y=\"36.023413\" style=\"stroke: #000000\"/>\n     <use xlink:href=\"#mc32d7dc3f1\" x=\"149.320502\" y=\"36.023413\" style=\"stroke: #000000\"/>\n     <use xlink:href=\"#mc32d7dc3f1\" x=\"151.379351\" y=\"39.111777\" style=\"stroke: #000000\"/>\n     <use xlink:href=\"#mc32d7dc3f1\" x=\"152.408776\" y=\"39.111777\" style=\"stroke: #000000\"/>\n     <use xlink:href=\"#mc32d7dc3f1\" x=\"151.379351\" y=\"38.082322\" style=\"stroke: #000000\"/>\n     <use xlink:href=\"#mc32d7dc3f1\" x=\"152.408776\" y=\"38.082322\" style=\"stroke: #000000\"/>\n     <use xlink:href=\"#mc32d7dc3f1\" x=\"153.438201\" y=\"40.141231\" style=\"stroke: #000000\"/>\n     <use xlink:href=\"#mc32d7dc3f1\" x=\"153.438201\" y=\"39.111777\" style=\"stroke: #000000\"/>\n     <use xlink:href=\"#mc32d7dc3f1\" x=\"154.467626\" y=\"40.141231\" style=\"stroke: #000000\"/>\n     <use xlink:href=\"#mc32d7dc3f1\" x=\"155.497051\" y=\"40.141231\" style=\"stroke: #000000\"/>\n     <use xlink:href=\"#mc32d7dc3f1\" x=\"163.732458\" y=\"261.473305\" style=\"stroke: #000000\"/>\n     <use xlink:href=\"#mc32d7dc3f1\" x=\"163.732458\" y=\"260.443904\" style=\"stroke: #000000\"/>\n     <use xlink:href=\"#mc32d7dc3f1\" x=\"163.732458\" y=\"259.414503\" style=\"stroke: #000000\"/>\n     <use xlink:href=\"#mc32d7dc3f1\" x=\"164.761899\" y=\"259.414503\" style=\"stroke: #000000\"/>\n     <use xlink:href=\"#mc32d7dc3f1\" x=\"164.761899\" y=\"258.385102\" style=\"stroke: #000000\"/>\n     <use xlink:href=\"#mc32d7dc3f1\" x=\"164.761899\" y=\"257.355701\" style=\"stroke: #000000\"/>\n     <use xlink:href=\"#mc32d7dc3f1\" x=\"165.79134\" y=\"257.355701\" style=\"stroke: #000000\"/>\n     <use xlink:href=\"#mc32d7dc3f1\" x=\"165.79134\" y=\"256.3263\" style=\"stroke: #000000\"/>\n     <use xlink:href=\"#mc32d7dc3f1\" x=\"166.820782\" y=\"256.3263\" style=\"stroke: #000000\"/>\n     <use xlink:href=\"#mc32d7dc3f1\" x=\"166.820782\" y=\"255.296899\" style=\"stroke: #000000\"/>\n     <use xlink:href=\"#mc32d7dc3f1\" x=\"167.850223\" y=\"255.296899\" style=\"stroke: #000000\"/>\n     <use xlink:href=\"#mc32d7dc3f1\" x=\"167.850223\" y=\"254.26745\" style=\"stroke: #000000\"/>\n     <use xlink:href=\"#mc32d7dc3f1\" x=\"168.879664\" y=\"254.26745\" style=\"stroke: #000000\"/>\n     <use xlink:href=\"#mc32d7dc3f1\" x=\"168.879664\" y=\"253.237955\" style=\"stroke: #000000\"/>\n     <use xlink:href=\"#mc32d7dc3f1\" x=\"169.909106\" y=\"253.237955\" style=\"stroke: #000000\"/>\n     <use xlink:href=\"#mc32d7dc3f1\" x=\"169.909106\" y=\"252.208459\" style=\"stroke: #000000\"/>\n     <use xlink:href=\"#mc32d7dc3f1\" x=\"170.938547\" y=\"252.208459\" style=\"stroke: #000000\"/>\n     <use xlink:href=\"#mc32d7dc3f1\" x=\"171.967988\" y=\"252.208459\" style=\"stroke: #000000\"/>\n     <use xlink:href=\"#mc32d7dc3f1\" x=\"171.967988\" y=\"251.178963\" style=\"stroke: #000000\"/>\n     <use xlink:href=\"#mc32d7dc3f1\" x=\"172.99743\" y=\"251.178963\" style=\"stroke: #000000\"/>\n     <use xlink:href=\"#mc32d7dc3f1\" x=\"172.99743\" y=\"250.149467\" style=\"stroke: #000000\"/>\n     <use xlink:href=\"#mc32d7dc3f1\" x=\"174.026871\" y=\"250.149467\" style=\"stroke: #000000\"/>\n     <use xlink:href=\"#mc32d7dc3f1\" x=\"174.026871\" y=\"249.119971\" style=\"stroke: #000000\"/>\n     <use xlink:href=\"#mc32d7dc3f1\" x=\"175.056312\" y=\"249.119971\" style=\"stroke: #000000\"/>\n     <use xlink:href=\"#mc32d7dc3f1\" x=\"176.085754\" y=\"249.119971\" style=\"stroke: #000000\"/>\n     <use xlink:href=\"#mc32d7dc3f1\" x=\"176.085754\" y=\"248.090475\" style=\"stroke: #000000\"/>\n     <use xlink:href=\"#mc32d7dc3f1\" x=\"177.115195\" y=\"248.090475\" style=\"stroke: #000000\"/>\n     <use xlink:href=\"#mc32d7dc3f1\" x=\"177.115195\" y=\"247.06098\" style=\"stroke: #000000\"/>\n     <use xlink:href=\"#mc32d7dc3f1\" x=\"178.144636\" y=\"247.06098\" style=\"stroke: #000000\"/>\n     <use xlink:href=\"#mc32d7dc3f1\" x=\"179.174078\" y=\"247.06098\" style=\"stroke: #000000\"/>\n     <use xlink:href=\"#mc32d7dc3f1\" x=\"179.174078\" y=\"246.031484\" style=\"stroke: #000000\"/>\n     <use xlink:href=\"#mc32d7dc3f1\" x=\"180.203519\" y=\"246.031484\" style=\"stroke: #000000\"/>\n     <use xlink:href=\"#mc32d7dc3f1\" x=\"180.203519\" y=\"245.001988\" style=\"stroke: #000000\"/>\n     <use xlink:href=\"#mc32d7dc3f1\" x=\"181.232961\" y=\"245.001988\" style=\"stroke: #000000\"/>\n     <use xlink:href=\"#mc32d7dc3f1\" x=\"182.262402\" y=\"245.001988\" style=\"stroke: #000000\"/>\n     <use xlink:href=\"#mc32d7dc3f1\" x=\"182.262402\" y=\"243.972492\" style=\"stroke: #000000\"/>\n     <use xlink:href=\"#mc32d7dc3f1\" x=\"183.291843\" y=\"243.972492\" style=\"stroke: #000000\"/>\n     <use xlink:href=\"#mc32d7dc3f1\" x=\"183.291843\" y=\"242.942996\" style=\"stroke: #000000\"/>\n     <use xlink:href=\"#mc32d7dc3f1\" x=\"184.321285\" y=\"242.942996\" style=\"stroke: #000000\"/>\n     <use xlink:href=\"#mc32d7dc3f1\" x=\"184.321285\" y=\"241.9135\" style=\"stroke: #000000\"/>\n     <use xlink:href=\"#mc32d7dc3f1\" x=\"185.350726\" y=\"241.9135\" style=\"stroke: #000000\"/>\n     <use xlink:href=\"#mc32d7dc3f1\" x=\"186.380167\" y=\"241.9135\" style=\"stroke: #000000\"/>\n     <use xlink:href=\"#mc32d7dc3f1\" x=\"186.380167\" y=\"240.884004\" style=\"stroke: #000000\"/>\n     <use xlink:href=\"#mc32d7dc3f1\" x=\"187.409609\" y=\"240.884004\" style=\"stroke: #000000\"/>\n     <use xlink:href=\"#mc32d7dc3f1\" x=\"187.409609\" y=\"239.854509\" style=\"stroke: #000000\"/>\n     <use xlink:href=\"#mc32d7dc3f1\" x=\"188.43905\" y=\"239.854509\" style=\"stroke: #000000\"/>\n     <use xlink:href=\"#mc32d7dc3f1\" x=\"189.468491\" y=\"239.854509\" style=\"stroke: #000000\"/>\n     <use xlink:href=\"#mc32d7dc3f1\" x=\"189.468491\" y=\"238.825013\" style=\"stroke: #000000\"/>\n     <use xlink:href=\"#mc32d7dc3f1\" x=\"190.497933\" y=\"238.825013\" style=\"stroke: #000000\"/>\n     <use xlink:href=\"#mc32d7dc3f1\" x=\"190.497933\" y=\"237.795517\" style=\"stroke: #000000\"/>\n     <use xlink:href=\"#mc32d7dc3f1\" x=\"191.527374\" y=\"237.795517\" style=\"stroke: #000000\"/>\n     <use xlink:href=\"#mc32d7dc3f1\" x=\"192.556815\" y=\"237.795517\" style=\"stroke: #000000\"/>\n     <use xlink:href=\"#mc32d7dc3f1\" x=\"192.556815\" y=\"236.766021\" style=\"stroke: #000000\"/>\n     <use xlink:href=\"#mc32d7dc3f1\" x=\"193.586257\" y=\"236.766021\" style=\"stroke: #000000\"/>\n     <use xlink:href=\"#mc32d7dc3f1\" x=\"193.586257\" y=\"235.736525\" style=\"stroke: #000000\"/>\n     <use xlink:href=\"#mc32d7dc3f1\" x=\"194.615698\" y=\"235.736525\" style=\"stroke: #000000\"/>\n     <use xlink:href=\"#mc32d7dc3f1\" x=\"195.645139\" y=\"235.736525\" style=\"stroke: #000000\"/>\n     <use xlink:href=\"#mc32d7dc3f1\" x=\"195.645139\" y=\"234.707029\" style=\"stroke: #000000\"/>\n     <use xlink:href=\"#mc32d7dc3f1\" x=\"163.732458\" y=\"50.435776\" style=\"stroke: #000000\"/>\n     <use xlink:href=\"#mc32d7dc3f1\" x=\"163.732458\" y=\"49.406321\" style=\"stroke: #000000\"/>\n     <use xlink:href=\"#mc32d7dc3f1\" x=\"163.732458\" y=\"48.376867\" style=\"stroke: #000000\"/>\n     <use xlink:href=\"#mc32d7dc3f1\" x=\"164.761899\" y=\"48.376867\" style=\"stroke: #000000\"/>\n     <use xlink:href=\"#mc32d7dc3f1\" x=\"164.761899\" y=\"47.347412\" style=\"stroke: #000000\"/>\n     <use xlink:href=\"#mc32d7dc3f1\" x=\"164.761899\" y=\"46.317958\" style=\"stroke: #000000\"/>\n     <use xlink:href=\"#mc32d7dc3f1\" x=\"165.79134\" y=\"46.317958\" style=\"stroke: #000000\"/>\n     <use xlink:href=\"#mc32d7dc3f1\" x=\"165.79134\" y=\"45.288504\" style=\"stroke: #000000\"/>\n     <use xlink:href=\"#mc32d7dc3f1\" x=\"166.820782\" y=\"45.288504\" style=\"stroke: #000000\"/>\n     <use xlink:href=\"#mc32d7dc3f1\" x=\"166.820782\" y=\"44.259049\" style=\"stroke: #000000\"/>\n     <use xlink:href=\"#mc32d7dc3f1\" x=\"167.850223\" y=\"44.259049\" style=\"stroke: #000000\"/>\n     <use xlink:href=\"#mc32d7dc3f1\" x=\"167.850223\" y=\"43.229595\" style=\"stroke: #000000\"/>\n     <use xlink:href=\"#mc32d7dc3f1\" x=\"168.879664\" y=\"43.229595\" style=\"stroke: #000000\"/>\n     <use xlink:href=\"#mc32d7dc3f1\" x=\"168.879664\" y=\"42.20014\" style=\"stroke: #000000\"/>\n     <use xlink:href=\"#mc32d7dc3f1\" x=\"169.909106\" y=\"42.20014\" style=\"stroke: #000000\"/>\n     <use xlink:href=\"#mc32d7dc3f1\" x=\"169.909106\" y=\"41.170686\" style=\"stroke: #000000\"/>\n     <use xlink:href=\"#mc32d7dc3f1\" x=\"170.938547\" y=\"42.20014\" style=\"stroke: #000000\"/>\n     <use xlink:href=\"#mc32d7dc3f1\" x=\"170.938547\" y=\"41.170686\" style=\"stroke: #000000\"/>\n     <use xlink:href=\"#mc32d7dc3f1\" x=\"171.967988\" y=\"41.170686\" style=\"stroke: #000000\"/>\n     <use xlink:href=\"#mc32d7dc3f1\" x=\"170.938547\" y=\"40.141231\" style=\"stroke: #000000\"/>\n     <use xlink:href=\"#mc32d7dc3f1\" x=\"171.967988\" y=\"40.141231\" style=\"stroke: #000000\"/>\n     <use xlink:href=\"#mc32d7dc3f1\" x=\"172.99743\" y=\"40.141231\" style=\"stroke: #000000\"/>\n     <use xlink:href=\"#mc32d7dc3f1\" x=\"172.99743\" y=\"39.111777\" style=\"stroke: #000000\"/>\n     <use xlink:href=\"#mc32d7dc3f1\" x=\"174.026871\" y=\"39.111777\" style=\"stroke: #000000\"/>\n     <use xlink:href=\"#mc32d7dc3f1\" x=\"175.056312\" y=\"39.111777\" style=\"stroke: #000000\"/>\n     <use xlink:href=\"#mc32d7dc3f1\" x=\"174.026871\" y=\"38.082322\" style=\"stroke: #000000\"/>\n     <use xlink:href=\"#mc32d7dc3f1\" x=\"175.056312\" y=\"38.082322\" style=\"stroke: #000000\"/>\n     <use xlink:href=\"#mc32d7dc3f1\" x=\"176.085754\" y=\"38.082322\" style=\"stroke: #000000\"/>\n     <use xlink:href=\"#mc32d7dc3f1\" x=\"176.085754\" y=\"37.052868\" style=\"stroke: #000000\"/>\n     <use xlink:href=\"#mc32d7dc3f1\" x=\"177.115195\" y=\"37.052868\" style=\"stroke: #000000\"/>\n     <use xlink:href=\"#mc32d7dc3f1\" x=\"178.144636\" y=\"37.052868\" style=\"stroke: #000000\"/>\n     <use xlink:href=\"#mc32d7dc3f1\" x=\"177.115195\" y=\"36.023413\" style=\"stroke: #000000\"/>\n     <use xlink:href=\"#mc32d7dc3f1\" x=\"178.144636\" y=\"36.023413\" style=\"stroke: #000000\"/>\n     <use xlink:href=\"#mc32d7dc3f1\" x=\"179.174078\" y=\"36.023413\" style=\"stroke: #000000\"/>\n     <use xlink:href=\"#mc32d7dc3f1\" x=\"179.174078\" y=\"34.993959\" style=\"stroke: #000000\"/>\n     <use xlink:href=\"#mc32d7dc3f1\" x=\"180.203519\" y=\"36.023413\" style=\"stroke: #000000\"/>\n     <use xlink:href=\"#mc32d7dc3f1\" x=\"180.203519\" y=\"34.993959\" style=\"stroke: #000000\"/>\n     <use xlink:href=\"#mc32d7dc3f1\" x=\"181.232961\" y=\"34.993959\" style=\"stroke: #000000\"/>\n     <use xlink:href=\"#mc32d7dc3f1\" x=\"181.232961\" y=\"33.964504\" style=\"stroke: #000000\"/>\n     <use xlink:href=\"#mc32d7dc3f1\" x=\"182.262402\" y=\"34.993959\" style=\"stroke: #000000\"/>\n     <use xlink:href=\"#mc32d7dc3f1\" x=\"182.262402\" y=\"33.964504\" style=\"stroke: #000000\"/>\n     <use xlink:href=\"#mc32d7dc3f1\" x=\"183.291843\" y=\"33.964504\" style=\"stroke: #000000\"/>\n     <use xlink:href=\"#mc32d7dc3f1\" x=\"183.291843\" y=\"32.93505\" style=\"stroke: #000000\"/>\n     <use xlink:href=\"#mc32d7dc3f1\" x=\"184.321285\" y=\"33.964504\" style=\"stroke: #000000\"/>\n     <use xlink:href=\"#mc32d7dc3f1\" x=\"184.321285\" y=\"32.93505\" style=\"stroke: #000000\"/>\n     <use xlink:href=\"#mc32d7dc3f1\" x=\"185.350726\" y=\"32.93505\" style=\"stroke: #000000\"/>\n     <use xlink:href=\"#mc32d7dc3f1\" x=\"186.380167\" y=\"32.93505\" style=\"stroke: #000000\"/>\n     <use xlink:href=\"#mc32d7dc3f1\" x=\"185.350726\" y=\"31.905595\" style=\"stroke: #000000\"/>\n     <use xlink:href=\"#mc32d7dc3f1\" x=\"186.380167\" y=\"31.905595\" style=\"stroke: #000000\"/>\n     <use xlink:href=\"#mc32d7dc3f1\" x=\"187.409609\" y=\"31.905595\" style=\"stroke: #000000\"/>\n     <use xlink:href=\"#mc32d7dc3f1\" x=\"187.409609\" y=\"30.876141\" style=\"stroke: #000000\"/>\n     <use xlink:href=\"#mc32d7dc3f1\" x=\"188.43905\" y=\"31.905595\" style=\"stroke: #000000\"/>\n     <use xlink:href=\"#mc32d7dc3f1\" x=\"188.43905\" y=\"30.876141\" style=\"stroke: #000000\"/>\n     <use xlink:href=\"#mc32d7dc3f1\" x=\"189.468491\" y=\"31.905595\" style=\"stroke: #000000\"/>\n     <use xlink:href=\"#mc32d7dc3f1\" x=\"189.468491\" y=\"30.876141\" style=\"stroke: #000000\"/>\n     <use xlink:href=\"#mc32d7dc3f1\" x=\"189.468491\" y=\"29.846687\" style=\"stroke: #000000\"/>\n     <use xlink:href=\"#mc32d7dc3f1\" x=\"190.497933\" y=\"30.876141\" style=\"stroke: #000000\"/>\n     <use xlink:href=\"#mc32d7dc3f1\" x=\"191.527374\" y=\"30.876141\" style=\"stroke: #000000\"/>\n     <use xlink:href=\"#mc32d7dc3f1\" x=\"190.497933\" y=\"29.846687\" style=\"stroke: #000000\"/>\n     <use xlink:href=\"#mc32d7dc3f1\" x=\"191.527374\" y=\"29.846687\" style=\"stroke: #000000\"/>\n     <use xlink:href=\"#mc32d7dc3f1\" x=\"192.556815\" y=\"30.876141\" style=\"stroke: #000000\"/>\n     <use xlink:href=\"#mc32d7dc3f1\" x=\"192.556815\" y=\"29.846687\" style=\"stroke: #000000\"/>\n     <use xlink:href=\"#mc32d7dc3f1\" x=\"192.556815\" y=\"28.817232\" style=\"stroke: #000000\"/>\n     <use xlink:href=\"#mc32d7dc3f1\" x=\"193.586257\" y=\"29.846687\" style=\"stroke: #000000\"/>\n     <use xlink:href=\"#mc32d7dc3f1\" x=\"193.586257\" y=\"28.817232\" style=\"stroke: #000000\"/>\n     <use xlink:href=\"#mc32d7dc3f1\" x=\"194.615698\" y=\"29.846687\" style=\"stroke: #000000\"/>\n     <use xlink:href=\"#mc32d7dc3f1\" x=\"194.615698\" y=\"28.817232\" style=\"stroke: #000000\"/>\n     <use xlink:href=\"#mc32d7dc3f1\" x=\"195.645139\" y=\"29.846687\" style=\"stroke: #000000\"/>\n     <use xlink:href=\"#mc32d7dc3f1\" x=\"195.645139\" y=\"28.817232\" style=\"stroke: #000000\"/>\n     <use xlink:href=\"#mc32d7dc3f1\" x=\"195.645139\" y=\"27.787778\" style=\"stroke: #000000\"/>\n     <use xlink:href=\"#mc32d7dc3f1\" x=\"196.674588\" y=\"234.707029\" style=\"stroke: #000000\"/>\n     <use xlink:href=\"#mc32d7dc3f1\" x=\"196.674588\" y=\"233.677534\" style=\"stroke: #000000\"/>\n     <use xlink:href=\"#mc32d7dc3f1\" x=\"197.704043\" y=\"233.677534\" style=\"stroke: #000000\"/>\n     <use xlink:href=\"#mc32d7dc3f1\" x=\"198.733498\" y=\"233.677534\" style=\"stroke: #000000\"/>\n     <use xlink:href=\"#mc32d7dc3f1\" x=\"198.733498\" y=\"232.648038\" style=\"stroke: #000000\"/>\n     <use xlink:href=\"#mc32d7dc3f1\" x=\"199.762953\" y=\"232.648038\" style=\"stroke: #000000\"/>\n     <use xlink:href=\"#mc32d7dc3f1\" x=\"199.762953\" y=\"231.618542\" style=\"stroke: #000000\"/>\n     <use xlink:href=\"#mc32d7dc3f1\" x=\"200.792408\" y=\"231.618542\" style=\"stroke: #000000\"/>\n     <use xlink:href=\"#mc32d7dc3f1\" x=\"200.792408\" y=\"230.589046\" style=\"stroke: #000000\"/>\n     <use xlink:href=\"#mc32d7dc3f1\" x=\"201.821863\" y=\"230.589046\" style=\"stroke: #000000\"/>\n     <use xlink:href=\"#mc32d7dc3f1\" x=\"202.851318\" y=\"230.589046\" style=\"stroke: #000000\"/>\n     <use xlink:href=\"#mc32d7dc3f1\" x=\"202.851318\" y=\"229.55955\" style=\"stroke: #000000\"/>\n     <use xlink:href=\"#mc32d7dc3f1\" x=\"203.880773\" y=\"229.55955\" style=\"stroke: #000000\"/>\n     <use xlink:href=\"#mc32d7dc3f1\" x=\"203.880773\" y=\"228.530054\" style=\"stroke: #000000\"/>\n     <use xlink:href=\"#mc32d7dc3f1\" x=\"204.910228\" y=\"228.530054\" style=\"stroke: #000000\"/>\n     <use xlink:href=\"#mc32d7dc3f1\" x=\"205.939683\" y=\"228.530054\" style=\"stroke: #000000\"/>\n     <use xlink:href=\"#mc32d7dc3f1\" x=\"205.939683\" y=\"227.500558\" style=\"stroke: #000000\"/>\n     <use xlink:href=\"#mc32d7dc3f1\" x=\"206.969138\" y=\"227.500558\" style=\"stroke: #000000\"/>\n     <use xlink:href=\"#mc32d7dc3f1\" x=\"206.969138\" y=\"226.471063\" style=\"stroke: #000000\"/>\n     <use xlink:href=\"#mc32d7dc3f1\" x=\"207.998593\" y=\"226.471063\" style=\"stroke: #000000\"/>\n     <use xlink:href=\"#mc32d7dc3f1\" x=\"207.998593\" y=\"225.441567\" style=\"stroke: #000000\"/>\n     <use xlink:href=\"#mc32d7dc3f1\" x=\"209.028049\" y=\"225.441567\" style=\"stroke: #000000\"/>\n     <use xlink:href=\"#mc32d7dc3f1\" x=\"210.057504\" y=\"225.441567\" style=\"stroke: #000000\"/>\n     <use xlink:href=\"#mc32d7dc3f1\" x=\"210.057504\" y=\"224.412071\" style=\"stroke: #000000\"/>\n     <use xlink:href=\"#mc32d7dc3f1\" x=\"211.086959\" y=\"224.412071\" style=\"stroke: #000000\"/>\n     <use xlink:href=\"#mc32d7dc3f1\" x=\"211.086959\" y=\"223.382575\" style=\"stroke: #000000\"/>\n     <use xlink:href=\"#mc32d7dc3f1\" x=\"212.116414\" y=\"223.382575\" style=\"stroke: #000000\"/>\n     <use xlink:href=\"#mc32d7dc3f1\" x=\"212.116414\" y=\"222.353079\" style=\"stroke: #000000\"/>\n     <use xlink:href=\"#mc32d7dc3f1\" x=\"213.145869\" y=\"222.353079\" style=\"stroke: #000000\"/>\n     <use xlink:href=\"#mc32d7dc3f1\" x=\"213.145869\" y=\"221.323632\" style=\"stroke: #000000\"/>\n     <use xlink:href=\"#mc32d7dc3f1\" x=\"214.175324\" y=\"221.323632\" style=\"stroke: #000000\"/>\n     <use xlink:href=\"#mc32d7dc3f1\" x=\"215.204779\" y=\"221.323632\" style=\"stroke: #000000\"/>\n     <use xlink:href=\"#mc32d7dc3f1\" x=\"215.204779\" y=\"220.294232\" style=\"stroke: #000000\"/>\n     <use xlink:href=\"#mc32d7dc3f1\" x=\"216.234234\" y=\"220.294232\" style=\"stroke: #000000\"/>\n     <use xlink:href=\"#mc32d7dc3f1\" x=\"216.234234\" y=\"219.264833\" style=\"stroke: #000000\"/>\n     <use xlink:href=\"#mc32d7dc3f1\" x=\"217.263689\" y=\"219.264833\" style=\"stroke: #000000\"/>\n     <use xlink:href=\"#mc32d7dc3f1\" x=\"217.263689\" y=\"218.235434\" style=\"stroke: #000000\"/>\n     <use xlink:href=\"#mc32d7dc3f1\" x=\"218.293144\" y=\"218.235434\" style=\"stroke: #000000\"/>\n     <use xlink:href=\"#mc32d7dc3f1\" x=\"218.293144\" y=\"217.206035\" style=\"stroke: #000000\"/>\n     <use xlink:href=\"#mc32d7dc3f1\" x=\"219.322599\" y=\"217.206035\" style=\"stroke: #000000\"/>\n     <use xlink:href=\"#mc32d7dc3f1\" x=\"219.322599\" y=\"216.176635\" style=\"stroke: #000000\"/>\n     <use xlink:href=\"#mc32d7dc3f1\" x=\"220.352054\" y=\"216.176635\" style=\"stroke: #000000\"/>\n     <use xlink:href=\"#mc32d7dc3f1\" x=\"221.381509\" y=\"216.176635\" style=\"stroke: #000000\"/>\n     <use xlink:href=\"#mc32d7dc3f1\" x=\"221.381509\" y=\"215.147236\" style=\"stroke: #000000\"/>\n     <use xlink:href=\"#mc32d7dc3f1\" x=\"222.410964\" y=\"215.147236\" style=\"stroke: #000000\"/>\n     <use xlink:href=\"#mc32d7dc3f1\" x=\"222.410964\" y=\"214.117837\" style=\"stroke: #000000\"/>\n     <use xlink:href=\"#mc32d7dc3f1\" x=\"223.44042\" y=\"214.117837\" style=\"stroke: #000000\"/>\n     <use xlink:href=\"#mc32d7dc3f1\" x=\"223.44042\" y=\"213.088438\" style=\"stroke: #000000\"/>\n     <use xlink:href=\"#mc32d7dc3f1\" x=\"224.469875\" y=\"213.088438\" style=\"stroke: #000000\"/>\n     <use xlink:href=\"#mc32d7dc3f1\" x=\"224.469875\" y=\"212.059038\" style=\"stroke: #000000\"/>\n     <use xlink:href=\"#mc32d7dc3f1\" x=\"225.49933\" y=\"212.059038\" style=\"stroke: #000000\"/>\n     <use xlink:href=\"#mc32d7dc3f1\" x=\"225.49933\" y=\"211.029639\" style=\"stroke: #000000\"/>\n     <use xlink:href=\"#mc32d7dc3f1\" x=\"226.528785\" y=\"211.029639\" style=\"stroke: #000000\"/>\n     <use xlink:href=\"#mc32d7dc3f1\" x=\"226.528785\" y=\"210.00024\" style=\"stroke: #000000\"/>\n     <use xlink:href=\"#mc32d7dc3f1\" x=\"227.55824\" y=\"210.00024\" style=\"stroke: #000000\"/>\n     <use xlink:href=\"#mc32d7dc3f1\" x=\"227.55824\" y=\"208.970841\" style=\"stroke: #000000\"/>\n     <use xlink:href=\"#mc32d7dc3f1\" x=\"228.587695\" y=\"208.970841\" style=\"stroke: #000000\"/>\n     <use xlink:href=\"#mc32d7dc3f1\" x=\"228.587695\" y=\"207.941441\" style=\"stroke: #000000\"/>\n     <use xlink:href=\"#mc32d7dc3f1\" x=\"196.674588\" y=\"28.817232\" style=\"stroke: #000000\"/>\n     <use xlink:href=\"#mc32d7dc3f1\" x=\"197.704043\" y=\"28.817232\" style=\"stroke: #000000\"/>\n     <use xlink:href=\"#mc32d7dc3f1\" x=\"198.733498\" y=\"28.817232\" style=\"stroke: #000000\"/>\n     <use xlink:href=\"#mc32d7dc3f1\" x=\"199.762953\" y=\"28.817232\" style=\"stroke: #000000\"/>\n     <use xlink:href=\"#mc32d7dc3f1\" x=\"196.674588\" y=\"27.787778\" style=\"stroke: #000000\"/>\n     <use xlink:href=\"#mc32d7dc3f1\" x=\"197.704043\" y=\"27.787778\" style=\"stroke: #000000\"/>\n     <use xlink:href=\"#mc32d7dc3f1\" x=\"198.733498\" y=\"27.787778\" style=\"stroke: #000000\"/>\n     <use xlink:href=\"#mc32d7dc3f1\" x=\"198.733498\" y=\"26.758323\" style=\"stroke: #000000\"/>\n     <use xlink:href=\"#mc32d7dc3f1\" x=\"199.762953\" y=\"27.787778\" style=\"stroke: #000000\"/>\n     <use xlink:href=\"#mc32d7dc3f1\" x=\"199.762953\" y=\"26.758323\" style=\"stroke: #000000\"/>\n     <use xlink:href=\"#mc32d7dc3f1\" x=\"200.792408\" y=\"27.787778\" style=\"stroke: #000000\"/>\n     <use xlink:href=\"#mc32d7dc3f1\" x=\"200.792408\" y=\"26.758323\" style=\"stroke: #000000\"/>\n     <use xlink:href=\"#mc32d7dc3f1\" x=\"201.821863\" y=\"27.787778\" style=\"stroke: #000000\"/>\n     <use xlink:href=\"#mc32d7dc3f1\" x=\"201.821863\" y=\"26.758323\" style=\"stroke: #000000\"/>\n     <use xlink:href=\"#mc32d7dc3f1\" x=\"202.851318\" y=\"27.787778\" style=\"stroke: #000000\"/>\n     <use xlink:href=\"#mc32d7dc3f1\" x=\"202.851318\" y=\"26.758323\" style=\"stroke: #000000\"/>\n     <use xlink:href=\"#mc32d7dc3f1\" x=\"203.880773\" y=\"27.787778\" style=\"stroke: #000000\"/>\n     <use xlink:href=\"#mc32d7dc3f1\" x=\"203.880773\" y=\"26.758323\" style=\"stroke: #000000\"/>\n     <use xlink:href=\"#mc32d7dc3f1\" x=\"203.880773\" y=\"25.728869\" style=\"stroke: #000000\"/>\n     <use xlink:href=\"#mc32d7dc3f1\" x=\"204.910228\" y=\"27.787778\" style=\"stroke: #000000\"/>\n     <use xlink:href=\"#mc32d7dc3f1\" x=\"204.910228\" y=\"26.758323\" style=\"stroke: #000000\"/>\n     <use xlink:href=\"#mc32d7dc3f1\" x=\"205.939683\" y=\"27.787778\" style=\"stroke: #000000\"/>\n     <use xlink:href=\"#mc32d7dc3f1\" x=\"205.939683\" y=\"26.758323\" style=\"stroke: #000000\"/>\n     <use xlink:href=\"#mc32d7dc3f1\" x=\"204.910228\" y=\"25.728869\" style=\"stroke: #000000\"/>\n     <use xlink:href=\"#mc32d7dc3f1\" x=\"205.939683\" y=\"25.728869\" style=\"stroke: #000000\"/>\n     <use xlink:href=\"#mc32d7dc3f1\" x=\"206.969138\" y=\"26.758323\" style=\"stroke: #000000\"/>\n     <use xlink:href=\"#mc32d7dc3f1\" x=\"207.998593\" y=\"26.758323\" style=\"stroke: #000000\"/>\n     <use xlink:href=\"#mc32d7dc3f1\" x=\"206.969138\" y=\"25.728869\" style=\"stroke: #000000\"/>\n     <use xlink:href=\"#mc32d7dc3f1\" x=\"207.998593\" y=\"25.728869\" style=\"stroke: #000000\"/>\n     <use xlink:href=\"#mc32d7dc3f1\" x=\"209.028049\" y=\"26.758323\" style=\"stroke: #000000\"/>\n     <use xlink:href=\"#mc32d7dc3f1\" x=\"210.057504\" y=\"26.758323\" style=\"stroke: #000000\"/>\n     <use xlink:href=\"#mc32d7dc3f1\" x=\"209.028049\" y=\"25.728869\" style=\"stroke: #000000\"/>\n     <use xlink:href=\"#mc32d7dc3f1\" x=\"210.057504\" y=\"25.728869\" style=\"stroke: #000000\"/>\n     <use xlink:href=\"#mc32d7dc3f1\" x=\"210.057504\" y=\"24.699414\" style=\"stroke: #000000\"/>\n     <use xlink:href=\"#mc32d7dc3f1\" x=\"211.086959\" y=\"26.758323\" style=\"stroke: #000000\"/>\n     <use xlink:href=\"#mc32d7dc3f1\" x=\"212.116414\" y=\"26.758323\" style=\"stroke: #000000\"/>\n     <use xlink:href=\"#mc32d7dc3f1\" x=\"211.086959\" y=\"25.728869\" style=\"stroke: #000000\"/>\n     <use xlink:href=\"#mc32d7dc3f1\" x=\"211.086959\" y=\"24.699414\" style=\"stroke: #000000\"/>\n     <use xlink:href=\"#mc32d7dc3f1\" x=\"212.116414\" y=\"25.728869\" style=\"stroke: #000000\"/>\n     <use xlink:href=\"#mc32d7dc3f1\" x=\"212.116414\" y=\"24.699414\" style=\"stroke: #000000\"/>\n     <use xlink:href=\"#mc32d7dc3f1\" x=\"213.145869\" y=\"26.758323\" style=\"stroke: #000000\"/>\n     <use xlink:href=\"#mc32d7dc3f1\" x=\"214.175324\" y=\"26.758323\" style=\"stroke: #000000\"/>\n     <use xlink:href=\"#mc32d7dc3f1\" x=\"213.145869\" y=\"25.728869\" style=\"stroke: #000000\"/>\n     <use xlink:href=\"#mc32d7dc3f1\" x=\"213.145869\" y=\"24.699414\" style=\"stroke: #000000\"/>\n     <use xlink:href=\"#mc32d7dc3f1\" x=\"214.175324\" y=\"25.728869\" style=\"stroke: #000000\"/>\n     <use xlink:href=\"#mc32d7dc3f1\" x=\"214.175324\" y=\"24.699414\" style=\"stroke: #000000\"/>\n     <use xlink:href=\"#mc32d7dc3f1\" x=\"215.204779\" y=\"26.758323\" style=\"stroke: #000000\"/>\n     <use xlink:href=\"#mc32d7dc3f1\" x=\"216.234234\" y=\"26.758323\" style=\"stroke: #000000\"/>\n     <use xlink:href=\"#mc32d7dc3f1\" x=\"215.204779\" y=\"25.728869\" style=\"stroke: #000000\"/>\n     <use xlink:href=\"#mc32d7dc3f1\" x=\"215.204779\" y=\"24.699414\" style=\"stroke: #000000\"/>\n     <use xlink:href=\"#mc32d7dc3f1\" x=\"216.234234\" y=\"25.728869\" style=\"stroke: #000000\"/>\n     <use xlink:href=\"#mc32d7dc3f1\" x=\"216.234234\" y=\"24.699414\" style=\"stroke: #000000\"/>\n     <use xlink:href=\"#mc32d7dc3f1\" x=\"217.263689\" y=\"26.758323\" style=\"stroke: #000000\"/>\n     <use xlink:href=\"#mc32d7dc3f1\" x=\"218.293144\" y=\"26.758323\" style=\"stroke: #000000\"/>\n     <use xlink:href=\"#mc32d7dc3f1\" x=\"217.263689\" y=\"25.728869\" style=\"stroke: #000000\"/>\n     <use xlink:href=\"#mc32d7dc3f1\" x=\"217.263689\" y=\"24.699414\" style=\"stroke: #000000\"/>\n     <use xlink:href=\"#mc32d7dc3f1\" x=\"218.293144\" y=\"25.728869\" style=\"stroke: #000000\"/>\n     <use xlink:href=\"#mc32d7dc3f1\" x=\"218.293144\" y=\"24.699414\" style=\"stroke: #000000\"/>\n     <use xlink:href=\"#mc32d7dc3f1\" x=\"219.322599\" y=\"26.758323\" style=\"stroke: #000000\"/>\n     <use xlink:href=\"#mc32d7dc3f1\" x=\"220.352054\" y=\"26.758323\" style=\"stroke: #000000\"/>\n     <use xlink:href=\"#mc32d7dc3f1\" x=\"219.322599\" y=\"25.728869\" style=\"stroke: #000000\"/>\n     <use xlink:href=\"#mc32d7dc3f1\" x=\"219.322599\" y=\"24.699414\" style=\"stroke: #000000\"/>\n     <use xlink:href=\"#mc32d7dc3f1\" x=\"220.352054\" y=\"25.728869\" style=\"stroke: #000000\"/>\n     <use xlink:href=\"#mc32d7dc3f1\" x=\"220.352054\" y=\"24.699414\" style=\"stroke: #000000\"/>\n     <use xlink:href=\"#mc32d7dc3f1\" x=\"221.381509\" y=\"26.758323\" style=\"stroke: #000000\"/>\n     <use xlink:href=\"#mc32d7dc3f1\" x=\"222.410964\" y=\"26.758323\" style=\"stroke: #000000\"/>\n     <use xlink:href=\"#mc32d7dc3f1\" x=\"221.381509\" y=\"25.728869\" style=\"stroke: #000000\"/>\n     <use xlink:href=\"#mc32d7dc3f1\" x=\"221.381509\" y=\"24.699414\" style=\"stroke: #000000\"/>\n     <use xlink:href=\"#mc32d7dc3f1\" x=\"222.410964\" y=\"25.728869\" style=\"stroke: #000000\"/>\n     <use xlink:href=\"#mc32d7dc3f1\" x=\"222.410964\" y=\"24.699414\" style=\"stroke: #000000\"/>\n     <use xlink:href=\"#mc32d7dc3f1\" x=\"223.44042\" y=\"26.758323\" style=\"stroke: #000000\"/>\n     <use xlink:href=\"#mc32d7dc3f1\" x=\"224.469875\" y=\"26.758323\" style=\"stroke: #000000\"/>\n     <use xlink:href=\"#mc32d7dc3f1\" x=\"223.44042\" y=\"25.728869\" style=\"stroke: #000000\"/>\n     <use xlink:href=\"#mc32d7dc3f1\" x=\"223.44042\" y=\"24.699414\" style=\"stroke: #000000\"/>\n     <use xlink:href=\"#mc32d7dc3f1\" x=\"224.469875\" y=\"25.728869\" style=\"stroke: #000000\"/>\n     <use xlink:href=\"#mc32d7dc3f1\" x=\"224.469875\" y=\"24.699414\" style=\"stroke: #000000\"/>\n     <use xlink:href=\"#mc32d7dc3f1\" x=\"225.49933\" y=\"26.758323\" style=\"stroke: #000000\"/>\n     <use xlink:href=\"#mc32d7dc3f1\" x=\"226.528785\" y=\"26.758323\" style=\"stroke: #000000\"/>\n     <use xlink:href=\"#mc32d7dc3f1\" x=\"225.49933\" y=\"25.728869\" style=\"stroke: #000000\"/>\n     <use xlink:href=\"#mc32d7dc3f1\" x=\"225.49933\" y=\"24.699414\" style=\"stroke: #000000\"/>\n     <use xlink:href=\"#mc32d7dc3f1\" x=\"226.528785\" y=\"25.728869\" style=\"stroke: #000000\"/>\n     <use xlink:href=\"#mc32d7dc3f1\" x=\"226.528785\" y=\"24.699414\" style=\"stroke: #000000\"/>\n     <use xlink:href=\"#mc32d7dc3f1\" x=\"227.55824\" y=\"27.787778\" style=\"stroke: #000000\"/>\n     <use xlink:href=\"#mc32d7dc3f1\" x=\"227.55824\" y=\"26.758323\" style=\"stroke: #000000\"/>\n     <use xlink:href=\"#mc32d7dc3f1\" x=\"228.587695\" y=\"27.787778\" style=\"stroke: #000000\"/>\n     <use xlink:href=\"#mc32d7dc3f1\" x=\"228.587695\" y=\"26.758323\" style=\"stroke: #000000\"/>\n     <use xlink:href=\"#mc32d7dc3f1\" x=\"227.55824\" y=\"25.728869\" style=\"stroke: #000000\"/>\n     <use xlink:href=\"#mc32d7dc3f1\" x=\"228.587695\" y=\"25.728869\" style=\"stroke: #000000\"/>\n     <use xlink:href=\"#mc32d7dc3f1\" x=\"229.61714\" y=\"207.941441\" style=\"stroke: #000000\"/>\n     <use xlink:href=\"#mc32d7dc3f1\" x=\"229.61714\" y=\"206.912042\" style=\"stroke: #000000\"/>\n     <use xlink:href=\"#mc32d7dc3f1\" x=\"230.646574\" y=\"206.912042\" style=\"stroke: #000000\"/>\n     <use xlink:href=\"#mc32d7dc3f1\" x=\"230.646574\" y=\"205.882643\" style=\"stroke: #000000\"/>\n     <use xlink:href=\"#mc32d7dc3f1\" x=\"231.676009\" y=\"205.882643\" style=\"stroke: #000000\"/>\n     <use xlink:href=\"#mc32d7dc3f1\" x=\"231.676009\" y=\"204.853244\" style=\"stroke: #000000\"/>\n     <use xlink:href=\"#mc32d7dc3f1\" x=\"232.705443\" y=\"204.853244\" style=\"stroke: #000000\"/>\n     <use xlink:href=\"#mc32d7dc3f1\" x=\"232.705443\" y=\"203.823844\" style=\"stroke: #000000\"/>\n     <use xlink:href=\"#mc32d7dc3f1\" x=\"233.734878\" y=\"203.823844\" style=\"stroke: #000000\"/>\n     <use xlink:href=\"#mc32d7dc3f1\" x=\"233.734878\" y=\"202.794445\" style=\"stroke: #000000\"/>\n     <use xlink:href=\"#mc32d7dc3f1\" x=\"234.764312\" y=\"202.794445\" style=\"stroke: #000000\"/>\n     <use xlink:href=\"#mc32d7dc3f1\" x=\"234.764312\" y=\"201.765046\" style=\"stroke: #000000\"/>\n     <use xlink:href=\"#mc32d7dc3f1\" x=\"235.793747\" y=\"201.765046\" style=\"stroke: #000000\"/>\n     <use xlink:href=\"#mc32d7dc3f1\" x=\"235.793747\" y=\"200.735646\" style=\"stroke: #000000\"/>\n     <use xlink:href=\"#mc32d7dc3f1\" x=\"236.823181\" y=\"200.735646\" style=\"stroke: #000000\"/>\n     <use xlink:href=\"#mc32d7dc3f1\" x=\"236.823181\" y=\"199.706247\" style=\"stroke: #000000\"/>\n     <use xlink:href=\"#mc32d7dc3f1\" x=\"237.852616\" y=\"199.706247\" style=\"stroke: #000000\"/>\n     <use xlink:href=\"#mc32d7dc3f1\" x=\"237.852616\" y=\"198.676848\" style=\"stroke: #000000\"/>\n     <use xlink:href=\"#mc32d7dc3f1\" x=\"238.88205\" y=\"198.676848\" style=\"stroke: #000000\"/>\n     <use xlink:href=\"#mc32d7dc3f1\" x=\"238.88205\" y=\"197.647449\" style=\"stroke: #000000\"/>\n     <use xlink:href=\"#mc32d7dc3f1\" x=\"239.911485\" y=\"197.647449\" style=\"stroke: #000000\"/>\n     <use xlink:href=\"#mc32d7dc3f1\" x=\"239.911485\" y=\"196.618049\" style=\"stroke: #000000\"/>\n     <use xlink:href=\"#mc32d7dc3f1\" x=\"240.940919\" y=\"196.618049\" style=\"stroke: #000000\"/>\n     <use xlink:href=\"#mc32d7dc3f1\" x=\"240.940919\" y=\"195.58865\" style=\"stroke: #000000\"/>\n     <use xlink:href=\"#mc32d7dc3f1\" x=\"241.970354\" y=\"195.58865\" style=\"stroke: #000000\"/>\n     <use xlink:href=\"#mc32d7dc3f1\" x=\"241.970354\" y=\"194.559251\" style=\"stroke: #000000\"/>\n     <use xlink:href=\"#mc32d7dc3f1\" x=\"242.999788\" y=\"194.559251\" style=\"stroke: #000000\"/>\n     <use xlink:href=\"#mc32d7dc3f1\" x=\"242.999788\" y=\"193.529852\" style=\"stroke: #000000\"/>\n     <use xlink:href=\"#mc32d7dc3f1\" x=\"244.029223\" y=\"193.529852\" style=\"stroke: #000000\"/>\n     <use xlink:href=\"#mc32d7dc3f1\" x=\"244.029223\" y=\"192.500452\" style=\"stroke: #000000\"/>\n     <use xlink:href=\"#mc32d7dc3f1\" x=\"245.058657\" y=\"192.500452\" style=\"stroke: #000000\"/>\n     <use xlink:href=\"#mc32d7dc3f1\" x=\"245.058657\" y=\"191.471053\" style=\"stroke: #000000\"/>\n     <use xlink:href=\"#mc32d7dc3f1\" x=\"245.058657\" y=\"190.441654\" style=\"stroke: #000000\"/>\n     <use xlink:href=\"#mc32d7dc3f1\" x=\"246.088092\" y=\"190.441654\" style=\"stroke: #000000\"/>\n     <use xlink:href=\"#mc32d7dc3f1\" x=\"246.088092\" y=\"189.412255\" style=\"stroke: #000000\"/>\n     <use xlink:href=\"#mc32d7dc3f1\" x=\"247.117526\" y=\"189.412255\" style=\"stroke: #000000\"/>\n     <use xlink:href=\"#mc32d7dc3f1\" x=\"247.117526\" y=\"188.382821\" style=\"stroke: #000000\"/>\n     <use xlink:href=\"#mc32d7dc3f1\" x=\"248.146961\" y=\"188.382821\" style=\"stroke: #000000\"/>\n     <use xlink:href=\"#mc32d7dc3f1\" x=\"248.146961\" y=\"187.353354\" style=\"stroke: #000000\"/>\n     <use xlink:href=\"#mc32d7dc3f1\" x=\"249.176395\" y=\"187.353354\" style=\"stroke: #000000\"/>\n     <use xlink:href=\"#mc32d7dc3f1\" x=\"249.176395\" y=\"186.323887\" style=\"stroke: #000000\"/>\n     <use xlink:href=\"#mc32d7dc3f1\" x=\"249.176395\" y=\"185.29442\" style=\"stroke: #000000\"/>\n     <use xlink:href=\"#mc32d7dc3f1\" x=\"250.20583\" y=\"185.29442\" style=\"stroke: #000000\"/>\n     <use xlink:href=\"#mc32d7dc3f1\" x=\"250.20583\" y=\"184.264952\" style=\"stroke: #000000\"/>\n     <use xlink:href=\"#mc32d7dc3f1\" x=\"251.235264\" y=\"184.264952\" style=\"stroke: #000000\"/>\n     <use xlink:href=\"#mc32d7dc3f1\" x=\"251.235264\" y=\"183.235485\" style=\"stroke: #000000\"/>\n     <use xlink:href=\"#mc32d7dc3f1\" x=\"252.264699\" y=\"183.235485\" style=\"stroke: #000000\"/>\n     <use xlink:href=\"#mc32d7dc3f1\" x=\"252.264699\" y=\"182.206018\" style=\"stroke: #000000\"/>\n     <use xlink:href=\"#mc32d7dc3f1\" x=\"252.264699\" y=\"181.176551\" style=\"stroke: #000000\"/>\n     <use xlink:href=\"#mc32d7dc3f1\" x=\"253.294133\" y=\"181.176551\" style=\"stroke: #000000\"/>\n     <use xlink:href=\"#mc32d7dc3f1\" x=\"253.294133\" y=\"180.147083\" style=\"stroke: #000000\"/>\n     <use xlink:href=\"#mc32d7dc3f1\" x=\"254.323568\" y=\"180.147083\" style=\"stroke: #000000\"/>\n     <use xlink:href=\"#mc32d7dc3f1\" x=\"254.323568\" y=\"179.117616\" style=\"stroke: #000000\"/>\n     <use xlink:href=\"#mc32d7dc3f1\" x=\"255.353002\" y=\"179.117616\" style=\"stroke: #000000\"/>\n     <use xlink:href=\"#mc32d7dc3f1\" x=\"255.353002\" y=\"178.088149\" style=\"stroke: #000000\"/>\n     <use xlink:href=\"#mc32d7dc3f1\" x=\"255.353002\" y=\"177.058682\" style=\"stroke: #000000\"/>\n     <use xlink:href=\"#mc32d7dc3f1\" x=\"256.382437\" y=\"177.058682\" style=\"stroke: #000000\"/>\n     <use xlink:href=\"#mc32d7dc3f1\" x=\"256.382437\" y=\"176.029214\" style=\"stroke: #000000\"/>\n     <use xlink:href=\"#mc32d7dc3f1\" x=\"257.411871\" y=\"176.029214\" style=\"stroke: #000000\"/>\n     <use xlink:href=\"#mc32d7dc3f1\" x=\"257.411871\" y=\"174.999747\" style=\"stroke: #000000\"/>\n     <use xlink:href=\"#mc32d7dc3f1\" x=\"257.411871\" y=\"173.97028\" style=\"stroke: #000000\"/>\n     <use xlink:href=\"#mc32d7dc3f1\" x=\"258.441306\" y=\"173.97028\" style=\"stroke: #000000\"/>\n     <use xlink:href=\"#mc32d7dc3f1\" x=\"258.441306\" y=\"172.940813\" style=\"stroke: #000000\"/>\n     <use xlink:href=\"#mc32d7dc3f1\" x=\"259.47074\" y=\"172.940813\" style=\"stroke: #000000\"/>\n     <use xlink:href=\"#mc32d7dc3f1\" x=\"259.47074\" y=\"171.911345\" style=\"stroke: #000000\"/>\n     <use xlink:href=\"#mc32d7dc3f1\" x=\"259.47074\" y=\"170.881878\" style=\"stroke: #000000\"/>\n     <use xlink:href=\"#mc32d7dc3f1\" x=\"260.500175\" y=\"170.881878\" style=\"stroke: #000000\"/>\n     <use xlink:href=\"#mc32d7dc3f1\" x=\"260.500175\" y=\"169.852411\" style=\"stroke: #000000\"/>\n     <use xlink:href=\"#mc32d7dc3f1\" x=\"261.529609\" y=\"169.852411\" style=\"stroke: #000000\"/>\n     <use xlink:href=\"#mc32d7dc3f1\" x=\"261.529609\" y=\"168.822944\" style=\"stroke: #000000\"/>\n     <use xlink:href=\"#mc32d7dc3f1\" x=\"261.529609\" y=\"167.793476\" style=\"stroke: #000000\"/>\n     <use xlink:href=\"#mc32d7dc3f1\" x=\"232.705443\" y=\"28.817232\" style=\"stroke: #000000\"/>\n     <use xlink:href=\"#mc32d7dc3f1\" x=\"229.61714\" y=\"27.787778\" style=\"stroke: #000000\"/>\n     <use xlink:href=\"#mc32d7dc3f1\" x=\"229.61714\" y=\"26.758323\" style=\"stroke: #000000\"/>\n     <use xlink:href=\"#mc32d7dc3f1\" x=\"230.646574\" y=\"27.787778\" style=\"stroke: #000000\"/>\n     <use xlink:href=\"#mc32d7dc3f1\" x=\"230.646574\" y=\"26.758323\" style=\"stroke: #000000\"/>\n     <use xlink:href=\"#mc32d7dc3f1\" x=\"229.61714\" y=\"25.728869\" style=\"stroke: #000000\"/>\n     <use xlink:href=\"#mc32d7dc3f1\" x=\"230.646574\" y=\"25.728869\" style=\"stroke: #000000\"/>\n     <use xlink:href=\"#mc32d7dc3f1\" x=\"231.676009\" y=\"27.787778\" style=\"stroke: #000000\"/>\n     <use xlink:href=\"#mc32d7dc3f1\" x=\"231.676009\" y=\"26.758323\" style=\"stroke: #000000\"/>\n     <use xlink:href=\"#mc32d7dc3f1\" x=\"232.705443\" y=\"27.787778\" style=\"stroke: #000000\"/>\n     <use xlink:href=\"#mc32d7dc3f1\" x=\"232.705443\" y=\"26.758323\" style=\"stroke: #000000\"/>\n     <use xlink:href=\"#mc32d7dc3f1\" x=\"231.676009\" y=\"25.728869\" style=\"stroke: #000000\"/>\n     <use xlink:href=\"#mc32d7dc3f1\" x=\"232.705443\" y=\"25.728869\" style=\"stroke: #000000\"/>\n     <use xlink:href=\"#mc32d7dc3f1\" x=\"233.734878\" y=\"28.817232\" style=\"stroke: #000000\"/>\n     <use xlink:href=\"#mc32d7dc3f1\" x=\"234.764312\" y=\"28.817232\" style=\"stroke: #000000\"/>\n     <use xlink:href=\"#mc32d7dc3f1\" x=\"235.793747\" y=\"28.817232\" style=\"stroke: #000000\"/>\n     <use xlink:href=\"#mc32d7dc3f1\" x=\"236.823181\" y=\"29.846687\" style=\"stroke: #000000\"/>\n     <use xlink:href=\"#mc32d7dc3f1\" x=\"236.823181\" y=\"28.817232\" style=\"stroke: #000000\"/>\n     <use xlink:href=\"#mc32d7dc3f1\" x=\"233.734878\" y=\"27.787778\" style=\"stroke: #000000\"/>\n     <use xlink:href=\"#mc32d7dc3f1\" x=\"233.734878\" y=\"26.758323\" style=\"stroke: #000000\"/>\n     <use xlink:href=\"#mc32d7dc3f1\" x=\"234.764312\" y=\"27.787778\" style=\"stroke: #000000\"/>\n     <use xlink:href=\"#mc32d7dc3f1\" x=\"234.764312\" y=\"26.758323\" style=\"stroke: #000000\"/>\n     <use xlink:href=\"#mc32d7dc3f1\" x=\"235.793747\" y=\"27.787778\" style=\"stroke: #000000\"/>\n     <use xlink:href=\"#mc32d7dc3f1\" x=\"235.793747\" y=\"26.758323\" style=\"stroke: #000000\"/>\n     <use xlink:href=\"#mc32d7dc3f1\" x=\"236.823181\" y=\"27.787778\" style=\"stroke: #000000\"/>\n     <use xlink:href=\"#mc32d7dc3f1\" x=\"236.823181\" y=\"26.758323\" style=\"stroke: #000000\"/>\n     <use xlink:href=\"#mc32d7dc3f1\" x=\"245.058657\" y=\"32.93505\" style=\"stroke: #000000\"/>\n     <use xlink:href=\"#mc32d7dc3f1\" x=\"237.852616\" y=\"29.846687\" style=\"stroke: #000000\"/>\n     <use xlink:href=\"#mc32d7dc3f1\" x=\"237.852616\" y=\"28.817232\" style=\"stroke: #000000\"/>\n     <use xlink:href=\"#mc32d7dc3f1\" x=\"238.88205\" y=\"29.846687\" style=\"stroke: #000000\"/>\n     <use xlink:href=\"#mc32d7dc3f1\" x=\"238.88205\" y=\"28.817232\" style=\"stroke: #000000\"/>\n     <use xlink:href=\"#mc32d7dc3f1\" x=\"239.911485\" y=\"30.876141\" style=\"stroke: #000000\"/>\n     <use xlink:href=\"#mc32d7dc3f1\" x=\"240.940919\" y=\"30.876141\" style=\"stroke: #000000\"/>\n     <use xlink:href=\"#mc32d7dc3f1\" x=\"239.911485\" y=\"29.846687\" style=\"stroke: #000000\"/>\n     <use xlink:href=\"#mc32d7dc3f1\" x=\"239.911485\" y=\"28.817232\" style=\"stroke: #000000\"/>\n     <use xlink:href=\"#mc32d7dc3f1\" x=\"240.940919\" y=\"29.846687\" style=\"stroke: #000000\"/>\n     <use xlink:href=\"#mc32d7dc3f1\" x=\"240.940919\" y=\"28.817232\" style=\"stroke: #000000\"/>\n     <use xlink:href=\"#mc32d7dc3f1\" x=\"237.852616\" y=\"27.787778\" style=\"stroke: #000000\"/>\n     <use xlink:href=\"#mc32d7dc3f1\" x=\"238.88205\" y=\"27.787778\" style=\"stroke: #000000\"/>\n     <use xlink:href=\"#mc32d7dc3f1\" x=\"239.911485\" y=\"27.787778\" style=\"stroke: #000000\"/>\n     <use xlink:href=\"#mc32d7dc3f1\" x=\"241.970354\" y=\"31.905595\" style=\"stroke: #000000\"/>\n     <use xlink:href=\"#mc32d7dc3f1\" x=\"241.970354\" y=\"30.876141\" style=\"stroke: #000000\"/>\n     <use xlink:href=\"#mc32d7dc3f1\" x=\"242.999788\" y=\"31.905595\" style=\"stroke: #000000\"/>\n     <use xlink:href=\"#mc32d7dc3f1\" x=\"242.999788\" y=\"30.876141\" style=\"stroke: #000000\"/>\n     <use xlink:href=\"#mc32d7dc3f1\" x=\"241.970354\" y=\"29.846687\" style=\"stroke: #000000\"/>\n     <use xlink:href=\"#mc32d7dc3f1\" x=\"241.970354\" y=\"28.817232\" style=\"stroke: #000000\"/>\n     <use xlink:href=\"#mc32d7dc3f1\" x=\"242.999788\" y=\"29.846687\" style=\"stroke: #000000\"/>\n     <use xlink:href=\"#mc32d7dc3f1\" x=\"242.999788\" y=\"28.817232\" style=\"stroke: #000000\"/>\n     <use xlink:href=\"#mc32d7dc3f1\" x=\"244.029223\" y=\"31.905595\" style=\"stroke: #000000\"/>\n     <use xlink:href=\"#mc32d7dc3f1\" x=\"244.029223\" y=\"30.876141\" style=\"stroke: #000000\"/>\n     <use xlink:href=\"#mc32d7dc3f1\" x=\"245.058657\" y=\"31.905595\" style=\"stroke: #000000\"/>\n     <use xlink:href=\"#mc32d7dc3f1\" x=\"245.058657\" y=\"30.876141\" style=\"stroke: #000000\"/>\n     <use xlink:href=\"#mc32d7dc3f1\" x=\"244.029223\" y=\"29.846687\" style=\"stroke: #000000\"/>\n     <use xlink:href=\"#mc32d7dc3f1\" x=\"245.058657\" y=\"29.846687\" style=\"stroke: #000000\"/>\n     <use xlink:href=\"#mc32d7dc3f1\" x=\"257.411871\" y=\"41.170686\" style=\"stroke: #000000\"/>\n     <use xlink:href=\"#mc32d7dc3f1\" x=\"258.441306\" y=\"41.170686\" style=\"stroke: #000000\"/>\n     <use xlink:href=\"#mc32d7dc3f1\" x=\"259.47074\" y=\"42.20014\" style=\"stroke: #000000\"/>\n     <use xlink:href=\"#mc32d7dc3f1\" x=\"259.47074\" y=\"41.170686\" style=\"stroke: #000000\"/>\n     <use xlink:href=\"#mc32d7dc3f1\" x=\"260.500175\" y=\"43.229595\" style=\"stroke: #000000\"/>\n     <use xlink:href=\"#mc32d7dc3f1\" x=\"261.529609\" y=\"44.259049\" style=\"stroke: #000000\"/>\n     <use xlink:href=\"#mc32d7dc3f1\" x=\"261.529609\" y=\"43.229595\" style=\"stroke: #000000\"/>\n     <use xlink:href=\"#mc32d7dc3f1\" x=\"260.500175\" y=\"42.20014\" style=\"stroke: #000000\"/>\n     <use xlink:href=\"#mc32d7dc3f1\" x=\"260.500175\" y=\"41.170686\" style=\"stroke: #000000\"/>\n     <use xlink:href=\"#mc32d7dc3f1\" x=\"261.529609\" y=\"42.20014\" style=\"stroke: #000000\"/>\n     <use xlink:href=\"#mc32d7dc3f1\" x=\"261.529609\" y=\"41.170686\" style=\"stroke: #000000\"/>\n     <use xlink:href=\"#mc32d7dc3f1\" x=\"246.088092\" y=\"32.93505\" style=\"stroke: #000000\"/>\n     <use xlink:href=\"#mc32d7dc3f1\" x=\"247.117526\" y=\"33.964504\" style=\"stroke: #000000\"/>\n     <use xlink:href=\"#mc32d7dc3f1\" x=\"247.117526\" y=\"32.93505\" style=\"stroke: #000000\"/>\n     <use xlink:href=\"#mc32d7dc3f1\" x=\"249.176395\" y=\"34.993959\" style=\"stroke: #000000\"/>\n     <use xlink:href=\"#mc32d7dc3f1\" x=\"248.146961\" y=\"33.964504\" style=\"stroke: #000000\"/>\n     <use xlink:href=\"#mc32d7dc3f1\" x=\"248.146961\" y=\"32.93505\" style=\"stroke: #000000\"/>\n     <use xlink:href=\"#mc32d7dc3f1\" x=\"249.176395\" y=\"33.964504\" style=\"stroke: #000000\"/>\n     <use xlink:href=\"#mc32d7dc3f1\" x=\"249.176395\" y=\"32.93505\" style=\"stroke: #000000\"/>\n     <use xlink:href=\"#mc32d7dc3f1\" x=\"252.264699\" y=\"37.052868\" style=\"stroke: #000000\"/>\n     <use xlink:href=\"#mc32d7dc3f1\" x=\"253.294133\" y=\"38.082322\" style=\"stroke: #000000\"/>\n     <use xlink:href=\"#mc32d7dc3f1\" x=\"253.294133\" y=\"37.052868\" style=\"stroke: #000000\"/>\n     <use xlink:href=\"#mc32d7dc3f1\" x=\"250.20583\" y=\"36.023413\" style=\"stroke: #000000\"/>\n     <use xlink:href=\"#mc32d7dc3f1\" x=\"250.20583\" y=\"34.993959\" style=\"stroke: #000000\"/>\n     <use xlink:href=\"#mc32d7dc3f1\" x=\"251.235264\" y=\"36.023413\" style=\"stroke: #000000\"/>\n     <use xlink:href=\"#mc32d7dc3f1\" x=\"251.235264\" y=\"34.993959\" style=\"stroke: #000000\"/>\n     <use xlink:href=\"#mc32d7dc3f1\" x=\"250.20583\" y=\"33.964504\" style=\"stroke: #000000\"/>\n     <use xlink:href=\"#mc32d7dc3f1\" x=\"250.20583\" y=\"32.93505\" style=\"stroke: #000000\"/>\n     <use xlink:href=\"#mc32d7dc3f1\" x=\"251.235264\" y=\"33.964504\" style=\"stroke: #000000\"/>\n     <use xlink:href=\"#mc32d7dc3f1\" x=\"251.235264\" y=\"32.93505\" style=\"stroke: #000000\"/>\n     <use xlink:href=\"#mc32d7dc3f1\" x=\"252.264699\" y=\"36.023413\" style=\"stroke: #000000\"/>\n     <use xlink:href=\"#mc32d7dc3f1\" x=\"252.264699\" y=\"34.993959\" style=\"stroke: #000000\"/>\n     <use xlink:href=\"#mc32d7dc3f1\" x=\"253.294133\" y=\"36.023413\" style=\"stroke: #000000\"/>\n     <use xlink:href=\"#mc32d7dc3f1\" x=\"253.294133\" y=\"34.993959\" style=\"stroke: #000000\"/>\n     <use xlink:href=\"#mc32d7dc3f1\" x=\"252.264699\" y=\"33.964504\" style=\"stroke: #000000\"/>\n     <use xlink:href=\"#mc32d7dc3f1\" x=\"253.294133\" y=\"33.964504\" style=\"stroke: #000000\"/>\n     <use xlink:href=\"#mc32d7dc3f1\" x=\"246.088092\" y=\"31.905595\" style=\"stroke: #000000\"/>\n     <use xlink:href=\"#mc32d7dc3f1\" x=\"246.088092\" y=\"30.876141\" style=\"stroke: #000000\"/>\n     <use xlink:href=\"#mc32d7dc3f1\" x=\"247.117526\" y=\"31.905595\" style=\"stroke: #000000\"/>\n     <use xlink:href=\"#mc32d7dc3f1\" x=\"247.117526\" y=\"30.876141\" style=\"stroke: #000000\"/>\n     <use xlink:href=\"#mc32d7dc3f1\" x=\"248.146961\" y=\"31.905595\" style=\"stroke: #000000\"/>\n     <use xlink:href=\"#mc32d7dc3f1\" x=\"249.176395\" y=\"31.905595\" style=\"stroke: #000000\"/>\n     <use xlink:href=\"#mc32d7dc3f1\" x=\"255.353002\" y=\"39.111777\" style=\"stroke: #000000\"/>\n     <use xlink:href=\"#mc32d7dc3f1\" x=\"254.323568\" y=\"38.082322\" style=\"stroke: #000000\"/>\n     <use xlink:href=\"#mc32d7dc3f1\" x=\"254.323568\" y=\"37.052868\" style=\"stroke: #000000\"/>\n     <use xlink:href=\"#mc32d7dc3f1\" x=\"255.353002\" y=\"38.082322\" style=\"stroke: #000000\"/>\n     <use xlink:href=\"#mc32d7dc3f1\" x=\"255.353002\" y=\"37.052868\" style=\"stroke: #000000\"/>\n     <use xlink:href=\"#mc32d7dc3f1\" x=\"256.382437\" y=\"40.141231\" style=\"stroke: #000000\"/>\n     <use xlink:href=\"#mc32d7dc3f1\" x=\"256.382437\" y=\"39.111777\" style=\"stroke: #000000\"/>\n     <use xlink:href=\"#mc32d7dc3f1\" x=\"257.411871\" y=\"40.141231\" style=\"stroke: #000000\"/>\n     <use xlink:href=\"#mc32d7dc3f1\" x=\"257.411871\" y=\"39.111777\" style=\"stroke: #000000\"/>\n     <use xlink:href=\"#mc32d7dc3f1\" x=\"256.382437\" y=\"38.082322\" style=\"stroke: #000000\"/>\n     <use xlink:href=\"#mc32d7dc3f1\" x=\"256.382437\" y=\"37.052868\" style=\"stroke: #000000\"/>\n     <use xlink:href=\"#mc32d7dc3f1\" x=\"257.411871\" y=\"38.082322\" style=\"stroke: #000000\"/>\n     <use xlink:href=\"#mc32d7dc3f1\" x=\"257.411871\" y=\"37.052868\" style=\"stroke: #000000\"/>\n     <use xlink:href=\"#mc32d7dc3f1\" x=\"254.323568\" y=\"36.023413\" style=\"stroke: #000000\"/>\n     <use xlink:href=\"#mc32d7dc3f1\" x=\"254.323568\" y=\"34.993959\" style=\"stroke: #000000\"/>\n     <use xlink:href=\"#mc32d7dc3f1\" x=\"255.353002\" y=\"36.023413\" style=\"stroke: #000000\"/>\n     <use xlink:href=\"#mc32d7dc3f1\" x=\"256.382437\" y=\"36.023413\" style=\"stroke: #000000\"/>\n     <use xlink:href=\"#mc32d7dc3f1\" x=\"258.441306\" y=\"40.141231\" style=\"stroke: #000000\"/>\n     <use xlink:href=\"#mc32d7dc3f1\" x=\"258.441306\" y=\"39.111777\" style=\"stroke: #000000\"/>\n     <use xlink:href=\"#mc32d7dc3f1\" x=\"259.47074\" y=\"40.141231\" style=\"stroke: #000000\"/>\n     <use xlink:href=\"#mc32d7dc3f1\" x=\"259.47074\" y=\"39.111777\" style=\"stroke: #000000\"/>\n     <use xlink:href=\"#mc32d7dc3f1\" x=\"258.441306\" y=\"38.082322\" style=\"stroke: #000000\"/>\n     <use xlink:href=\"#mc32d7dc3f1\" x=\"260.500175\" y=\"40.141231\" style=\"stroke: #000000\"/>\n     <use xlink:href=\"#mc32d7dc3f1\" x=\"261.529609\" y=\"40.141231\" style=\"stroke: #000000\"/>\n     <use xlink:href=\"#mc32d7dc3f1\" x=\"262.559068\" y=\"167.793476\" style=\"stroke: #000000\"/>\n     <use xlink:href=\"#mc32d7dc3f1\" x=\"262.559068\" y=\"166.764009\" style=\"stroke: #000000\"/>\n     <use xlink:href=\"#mc32d7dc3f1\" x=\"262.559068\" y=\"165.734542\" style=\"stroke: #000000\"/>\n     <use xlink:href=\"#mc32d7dc3f1\" x=\"263.588549\" y=\"165.734542\" style=\"stroke: #000000\"/>\n     <use xlink:href=\"#mc32d7dc3f1\" x=\"263.588549\" y=\"164.705075\" style=\"stroke: #000000\"/>\n     <use xlink:href=\"#mc32d7dc3f1\" x=\"264.618031\" y=\"164.705075\" style=\"stroke: #000000\"/>\n     <use xlink:href=\"#mc32d7dc3f1\" x=\"264.618031\" y=\"163.675608\" style=\"stroke: #000000\"/>\n     <use xlink:href=\"#mc32d7dc3f1\" x=\"264.618031\" y=\"162.64614\" style=\"stroke: #000000\"/>\n     <use xlink:href=\"#mc32d7dc3f1\" x=\"265.647513\" y=\"162.64614\" style=\"stroke: #000000\"/>\n     <use xlink:href=\"#mc32d7dc3f1\" x=\"265.647513\" y=\"161.616673\" style=\"stroke: #000000\"/>\n     <use xlink:href=\"#mc32d7dc3f1\" x=\"265.647513\" y=\"160.587206\" style=\"stroke: #000000\"/>\n     <use xlink:href=\"#mc32d7dc3f1\" x=\"266.676995\" y=\"160.587206\" style=\"stroke: #000000\"/>\n     <use xlink:href=\"#mc32d7dc3f1\" x=\"266.676995\" y=\"159.557739\" style=\"stroke: #000000\"/>\n     <use xlink:href=\"#mc32d7dc3f1\" x=\"266.676995\" y=\"158.528271\" style=\"stroke: #000000\"/>\n     <use xlink:href=\"#mc32d7dc3f1\" x=\"267.706477\" y=\"158.528271\" style=\"stroke: #000000\"/>\n     <use xlink:href=\"#mc32d7dc3f1\" x=\"267.706477\" y=\"157.498804\" style=\"stroke: #000000\"/>\n     <use xlink:href=\"#mc32d7dc3f1\" x=\"267.706477\" y=\"156.469337\" style=\"stroke: #000000\"/>\n     <use xlink:href=\"#mc32d7dc3f1\" x=\"268.735959\" y=\"156.469337\" style=\"stroke: #000000\"/>\n     <use xlink:href=\"#mc32d7dc3f1\" x=\"268.735959\" y=\"155.439881\" style=\"stroke: #000000\"/>\n     <use xlink:href=\"#mc32d7dc3f1\" x=\"268.735959\" y=\"154.410435\" style=\"stroke: #000000\"/>\n     <use xlink:href=\"#mc32d7dc3f1\" x=\"269.765441\" y=\"154.410435\" style=\"stroke: #000000\"/>\n     <use xlink:href=\"#mc32d7dc3f1\" x=\"269.765441\" y=\"153.38099\" style=\"stroke: #000000\"/>\n     <use xlink:href=\"#mc32d7dc3f1\" x=\"269.765441\" y=\"152.351545\" style=\"stroke: #000000\"/>\n     <use xlink:href=\"#mc32d7dc3f1\" x=\"270.794923\" y=\"152.351545\" style=\"stroke: #000000\"/>\n     <use xlink:href=\"#mc32d7dc3f1\" x=\"270.794923\" y=\"151.3221\" style=\"stroke: #000000\"/>\n     <use xlink:href=\"#mc32d7dc3f1\" x=\"270.794923\" y=\"150.292655\" style=\"stroke: #000000\"/>\n     <use xlink:href=\"#mc32d7dc3f1\" x=\"271.824405\" y=\"150.292655\" style=\"stroke: #000000\"/>\n     <use xlink:href=\"#mc32d7dc3f1\" x=\"271.824405\" y=\"149.26321\" style=\"stroke: #000000\"/>\n     <use xlink:href=\"#mc32d7dc3f1\" x=\"271.824405\" y=\"148.233765\" style=\"stroke: #000000\"/>\n     <use xlink:href=\"#mc32d7dc3f1\" x=\"272.853887\" y=\"148.233765\" style=\"stroke: #000000\"/>\n     <use xlink:href=\"#mc32d7dc3f1\" x=\"272.853887\" y=\"147.204319\" style=\"stroke: #000000\"/>\n     <use xlink:href=\"#mc32d7dc3f1\" x=\"272.853887\" y=\"146.174874\" style=\"stroke: #000000\"/>\n     <use xlink:href=\"#mc32d7dc3f1\" x=\"273.883368\" y=\"146.174874\" style=\"stroke: #000000\"/>\n     <use xlink:href=\"#mc32d7dc3f1\" x=\"272.853887\" y=\"145.145429\" style=\"stroke: #000000\"/>\n     <use xlink:href=\"#mc32d7dc3f1\" x=\"273.883368\" y=\"145.145429\" style=\"stroke: #000000\"/>\n     <use xlink:href=\"#mc32d7dc3f1\" x=\"273.883368\" y=\"144.115984\" style=\"stroke: #000000\"/>\n     <use xlink:href=\"#mc32d7dc3f1\" x=\"273.883368\" y=\"143.086539\" style=\"stroke: #000000\"/>\n     <use xlink:href=\"#mc32d7dc3f1\" x=\"273.883368\" y=\"142.057094\" style=\"stroke: #000000\"/>\n     <use xlink:href=\"#mc32d7dc3f1\" x=\"274.91285\" y=\"143.086539\" style=\"stroke: #000000\"/>\n     <use xlink:href=\"#mc32d7dc3f1\" x=\"274.91285\" y=\"142.057094\" style=\"stroke: #000000\"/>\n     <use xlink:href=\"#mc32d7dc3f1\" x=\"274.91285\" y=\"141.027649\" style=\"stroke: #000000\"/>\n     <use xlink:href=\"#mc32d7dc3f1\" x=\"274.91285\" y=\"139.998203\" style=\"stroke: #000000\"/>\n     <use xlink:href=\"#mc32d7dc3f1\" x=\"275.942332\" y=\"141.027649\" style=\"stroke: #000000\"/>\n     <use xlink:href=\"#mc32d7dc3f1\" x=\"275.942332\" y=\"139.998203\" style=\"stroke: #000000\"/>\n     <use xlink:href=\"#mc32d7dc3f1\" x=\"275.942332\" y=\"138.968758\" style=\"stroke: #000000\"/>\n     <use xlink:href=\"#mc32d7dc3f1\" x=\"275.942332\" y=\"137.939313\" style=\"stroke: #000000\"/>\n     <use xlink:href=\"#mc32d7dc3f1\" x=\"275.942332\" y=\"136.909868\" style=\"stroke: #000000\"/>\n     <use xlink:href=\"#mc32d7dc3f1\" x=\"276.971814\" y=\"137.939313\" style=\"stroke: #000000\"/>\n     <use xlink:href=\"#mc32d7dc3f1\" x=\"276.971814\" y=\"136.909868\" style=\"stroke: #000000\"/>\n     <use xlink:href=\"#mc32d7dc3f1\" x=\"276.971814\" y=\"135.880423\" style=\"stroke: #000000\"/>\n     <use xlink:href=\"#mc32d7dc3f1\" x=\"276.971814\" y=\"134.850978\" style=\"stroke: #000000\"/>\n     <use xlink:href=\"#mc32d7dc3f1\" x=\"276.971814\" y=\"133.821533\" style=\"stroke: #000000\"/>\n     <use xlink:href=\"#mc32d7dc3f1\" x=\"278.001296\" y=\"134.850978\" style=\"stroke: #000000\"/>\n     <use xlink:href=\"#mc32d7dc3f1\" x=\"278.001296\" y=\"133.821533\" style=\"stroke: #000000\"/>\n     <use xlink:href=\"#mc32d7dc3f1\" x=\"276.971814\" y=\"132.792087\" style=\"stroke: #000000\"/>\n     <use xlink:href=\"#mc32d7dc3f1\" x=\"278.001296\" y=\"132.792087\" style=\"stroke: #000000\"/>\n     <use xlink:href=\"#mc32d7dc3f1\" x=\"278.001296\" y=\"131.762642\" style=\"stroke: #000000\"/>\n     <use xlink:href=\"#mc32d7dc3f1\" x=\"278.001296\" y=\"130.733197\" style=\"stroke: #000000\"/>\n     <use xlink:href=\"#mc32d7dc3f1\" x=\"278.001296\" y=\"129.703752\" style=\"stroke: #000000\"/>\n     <use xlink:href=\"#mc32d7dc3f1\" x=\"279.030778\" y=\"131.762642\" style=\"stroke: #000000\"/>\n     <use xlink:href=\"#mc32d7dc3f1\" x=\"279.030778\" y=\"130.733197\" style=\"stroke: #000000\"/>\n     <use xlink:href=\"#mc32d7dc3f1\" x=\"279.030778\" y=\"129.703752\" style=\"stroke: #000000\"/>\n     <use xlink:href=\"#mc32d7dc3f1\" x=\"279.030778\" y=\"128.674307\" style=\"stroke: #000000\"/>\n     <use xlink:href=\"#mc32d7dc3f1\" x=\"279.030778\" y=\"127.644862\" style=\"stroke: #000000\"/>\n     <use xlink:href=\"#mc32d7dc3f1\" x=\"280.06026\" y=\"128.674307\" style=\"stroke: #000000\"/>\n     <use xlink:href=\"#mc32d7dc3f1\" x=\"280.06026\" y=\"127.644862\" style=\"stroke: #000000\"/>\n     <use xlink:href=\"#mc32d7dc3f1\" x=\"279.030778\" y=\"126.615417\" style=\"stroke: #000000\"/>\n     <use xlink:href=\"#mc32d7dc3f1\" x=\"279.030778\" y=\"125.585971\" style=\"stroke: #000000\"/>\n     <use xlink:href=\"#mc32d7dc3f1\" x=\"280.06026\" y=\"126.615417\" style=\"stroke: #000000\"/>\n     <use xlink:href=\"#mc32d7dc3f1\" x=\"280.06026\" y=\"125.585971\" style=\"stroke: #000000\"/>\n     <use xlink:href=\"#mc32d7dc3f1\" x=\"280.06026\" y=\"124.556526\" style=\"stroke: #000000\"/>\n     <use xlink:href=\"#mc32d7dc3f1\" x=\"280.06026\" y=\"123.527081\" style=\"stroke: #000000\"/>\n     <use xlink:href=\"#mc32d7dc3f1\" x=\"281.089742\" y=\"124.556526\" style=\"stroke: #000000\"/>\n     <use xlink:href=\"#mc32d7dc3f1\" x=\"281.089742\" y=\"123.527081\" style=\"stroke: #000000\"/>\n     <use xlink:href=\"#mc32d7dc3f1\" x=\"280.06026\" y=\"122.497644\" style=\"stroke: #000000\"/>\n     <use xlink:href=\"#mc32d7dc3f1\" x=\"280.06026\" y=\"121.468215\" style=\"stroke: #000000\"/>\n     <use xlink:href=\"#mc32d7dc3f1\" x=\"280.06026\" y=\"120.438786\" style=\"stroke: #000000\"/>\n     <use xlink:href=\"#mc32d7dc3f1\" x=\"281.089742\" y=\"122.497644\" style=\"stroke: #000000\"/>\n     <use xlink:href=\"#mc32d7dc3f1\" x=\"281.089742\" y=\"121.468215\" style=\"stroke: #000000\"/>\n     <use xlink:href=\"#mc32d7dc3f1\" x=\"281.089742\" y=\"120.438786\" style=\"stroke: #000000\"/>\n     <use xlink:href=\"#mc32d7dc3f1\" x=\"281.089742\" y=\"119.409356\" style=\"stroke: #000000\"/>\n     <use xlink:href=\"#mc32d7dc3f1\" x=\"282.119224\" y=\"119.409356\" style=\"stroke: #000000\"/>\n     <use xlink:href=\"#mc32d7dc3f1\" x=\"281.089742\" y=\"118.379927\" style=\"stroke: #000000\"/>\n     <use xlink:href=\"#mc32d7dc3f1\" x=\"281.089742\" y=\"117.350498\" style=\"stroke: #000000\"/>\n     <use xlink:href=\"#mc32d7dc3f1\" x=\"282.119224\" y=\"118.379927\" style=\"stroke: #000000\"/>\n     <use xlink:href=\"#mc32d7dc3f1\" x=\"282.119224\" y=\"117.350498\" style=\"stroke: #000000\"/>\n     <use xlink:href=\"#mc32d7dc3f1\" x=\"281.089742\" y=\"116.321069\" style=\"stroke: #000000\"/>\n     <use xlink:href=\"#mc32d7dc3f1\" x=\"281.089742\" y=\"115.29164\" style=\"stroke: #000000\"/>\n     <use xlink:href=\"#mc32d7dc3f1\" x=\"282.119224\" y=\"116.321069\" style=\"stroke: #000000\"/>\n     <use xlink:href=\"#mc32d7dc3f1\" x=\"282.119224\" y=\"115.29164\" style=\"stroke: #000000\"/>\n     <use xlink:href=\"#mc32d7dc3f1\" x=\"281.089742\" y=\"114.26221\" style=\"stroke: #000000\"/>\n     <use xlink:href=\"#mc32d7dc3f1\" x=\"282.119224\" y=\"114.26221\" style=\"stroke: #000000\"/>\n     <use xlink:href=\"#mc32d7dc3f1\" x=\"282.119224\" y=\"113.232781\" style=\"stroke: #000000\"/>\n     <use xlink:href=\"#mc32d7dc3f1\" x=\"282.119224\" y=\"112.203352\" style=\"stroke: #000000\"/>\n     <use xlink:href=\"#mc32d7dc3f1\" x=\"282.119224\" y=\"111.173923\" style=\"stroke: #000000\"/>\n     <use xlink:href=\"#mc32d7dc3f1\" x=\"282.119224\" y=\"110.144494\" style=\"stroke: #000000\"/>\n     <use xlink:href=\"#mc32d7dc3f1\" x=\"282.119224\" y=\"109.115064\" style=\"stroke: #000000\"/>\n     <use xlink:href=\"#mc32d7dc3f1\" x=\"282.119224\" y=\"108.085635\" style=\"stroke: #000000\"/>\n     <use xlink:href=\"#mc32d7dc3f1\" x=\"282.119224\" y=\"107.056206\" style=\"stroke: #000000\"/>\n     <use xlink:href=\"#mc32d7dc3f1\" x=\"283.148706\" y=\"114.26221\" style=\"stroke: #000000\"/>\n     <use xlink:href=\"#mc32d7dc3f1\" x=\"283.148706\" y=\"113.232781\" style=\"stroke: #000000\"/>\n     <use xlink:href=\"#mc32d7dc3f1\" x=\"283.148706\" y=\"112.203352\" style=\"stroke: #000000\"/>\n     <use xlink:href=\"#mc32d7dc3f1\" x=\"283.148706\" y=\"111.173923\" style=\"stroke: #000000\"/>\n     <use xlink:href=\"#mc32d7dc3f1\" x=\"283.148706\" y=\"110.144494\" style=\"stroke: #000000\"/>\n     <use xlink:href=\"#mc32d7dc3f1\" x=\"283.148706\" y=\"109.115064\" style=\"stroke: #000000\"/>\n     <use xlink:href=\"#mc32d7dc3f1\" x=\"283.148706\" y=\"108.085635\" style=\"stroke: #000000\"/>\n     <use xlink:href=\"#mc32d7dc3f1\" x=\"283.148706\" y=\"107.056206\" style=\"stroke: #000000\"/>\n     <use xlink:href=\"#mc32d7dc3f1\" x=\"282.119224\" y=\"106.026777\" style=\"stroke: #000000\"/>\n     <use xlink:href=\"#mc32d7dc3f1\" x=\"282.119224\" y=\"104.997348\" style=\"stroke: #000000\"/>\n     <use xlink:href=\"#mc32d7dc3f1\" x=\"282.119224\" y=\"103.967918\" style=\"stroke: #000000\"/>\n     <use xlink:href=\"#mc32d7dc3f1\" x=\"282.119224\" y=\"102.938489\" style=\"stroke: #000000\"/>\n     <use xlink:href=\"#mc32d7dc3f1\" x=\"282.119224\" y=\"101.90906\" style=\"stroke: #000000\"/>\n     <use xlink:href=\"#mc32d7dc3f1\" x=\"282.119224\" y=\"100.879631\" style=\"stroke: #000000\"/>\n     <use xlink:href=\"#mc32d7dc3f1\" x=\"282.119224\" y=\"99.850202\" style=\"stroke: #000000\"/>\n     <use xlink:href=\"#mc32d7dc3f1\" x=\"282.119224\" y=\"98.820772\" style=\"stroke: #000000\"/>\n     <use xlink:href=\"#mc32d7dc3f1\" x=\"283.148706\" y=\"106.026777\" style=\"stroke: #000000\"/>\n     <use xlink:href=\"#mc32d7dc3f1\" x=\"283.148706\" y=\"104.997348\" style=\"stroke: #000000\"/>\n     <use xlink:href=\"#mc32d7dc3f1\" x=\"284.178187\" y=\"106.026777\" style=\"stroke: #000000\"/>\n     <use xlink:href=\"#mc32d7dc3f1\" x=\"284.178187\" y=\"104.997348\" style=\"stroke: #000000\"/>\n     <use xlink:href=\"#mc32d7dc3f1\" x=\"283.148706\" y=\"103.967918\" style=\"stroke: #000000\"/>\n     <use xlink:href=\"#mc32d7dc3f1\" x=\"283.148706\" y=\"102.938489\" style=\"stroke: #000000\"/>\n     <use xlink:href=\"#mc32d7dc3f1\" x=\"284.178187\" y=\"103.967918\" style=\"stroke: #000000\"/>\n     <use xlink:href=\"#mc32d7dc3f1\" x=\"284.178187\" y=\"102.938489\" style=\"stroke: #000000\"/>\n     <use xlink:href=\"#mc32d7dc3f1\" x=\"283.148706\" y=\"101.90906\" style=\"stroke: #000000\"/>\n     <use xlink:href=\"#mc32d7dc3f1\" x=\"283.148706\" y=\"100.879631\" style=\"stroke: #000000\"/>\n     <use xlink:href=\"#mc32d7dc3f1\" x=\"284.178187\" y=\"101.90906\" style=\"stroke: #000000\"/>\n     <use xlink:href=\"#mc32d7dc3f1\" x=\"284.178187\" y=\"100.879631\" style=\"stroke: #000000\"/>\n     <use xlink:href=\"#mc32d7dc3f1\" x=\"283.148706\" y=\"99.850202\" style=\"stroke: #000000\"/>\n     <use xlink:href=\"#mc32d7dc3f1\" x=\"283.148706\" y=\"98.820772\" style=\"stroke: #000000\"/>\n     <use xlink:href=\"#mc32d7dc3f1\" x=\"284.178187\" y=\"99.850202\" style=\"stroke: #000000\"/>\n     <use xlink:href=\"#mc32d7dc3f1\" x=\"284.178187\" y=\"98.820772\" style=\"stroke: #000000\"/>\n     <use xlink:href=\"#mc32d7dc3f1\" x=\"282.119224\" y=\"97.791343\" style=\"stroke: #000000\"/>\n     <use xlink:href=\"#mc32d7dc3f1\" x=\"282.119224\" y=\"96.761914\" style=\"stroke: #000000\"/>\n     <use xlink:href=\"#mc32d7dc3f1\" x=\"282.119224\" y=\"95.732485\" style=\"stroke: #000000\"/>\n     <use xlink:href=\"#mc32d7dc3f1\" x=\"282.119224\" y=\"94.703056\" style=\"stroke: #000000\"/>\n     <use xlink:href=\"#mc32d7dc3f1\" x=\"282.119224\" y=\"93.673626\" style=\"stroke: #000000\"/>\n     <use xlink:href=\"#mc32d7dc3f1\" x=\"282.119224\" y=\"92.644197\" style=\"stroke: #000000\"/>\n     <use xlink:href=\"#mc32d7dc3f1\" x=\"282.119224\" y=\"91.614768\" style=\"stroke: #000000\"/>\n     <use xlink:href=\"#mc32d7dc3f1\" x=\"282.119224\" y=\"90.585339\" style=\"stroke: #000000\"/>\n     <use xlink:href=\"#mc32d7dc3f1\" x=\"283.148706\" y=\"97.791343\" style=\"stroke: #000000\"/>\n     <use xlink:href=\"#mc32d7dc3f1\" x=\"283.148706\" y=\"96.761914\" style=\"stroke: #000000\"/>\n     <use xlink:href=\"#mc32d7dc3f1\" x=\"284.178187\" y=\"97.791343\" style=\"stroke: #000000\"/>\n     <use xlink:href=\"#mc32d7dc3f1\" x=\"284.178187\" y=\"96.761914\" style=\"stroke: #000000\"/>\n     <use xlink:href=\"#mc32d7dc3f1\" x=\"283.148706\" y=\"95.732485\" style=\"stroke: #000000\"/>\n     <use xlink:href=\"#mc32d7dc3f1\" x=\"283.148706\" y=\"94.703056\" style=\"stroke: #000000\"/>\n     <use xlink:href=\"#mc32d7dc3f1\" x=\"284.178187\" y=\"95.732485\" style=\"stroke: #000000\"/>\n     <use xlink:href=\"#mc32d7dc3f1\" x=\"284.178187\" y=\"94.703056\" style=\"stroke: #000000\"/>\n     <use xlink:href=\"#mc32d7dc3f1\" x=\"283.148706\" y=\"93.673626\" style=\"stroke: #000000\"/>\n     <use xlink:href=\"#mc32d7dc3f1\" x=\"283.148706\" y=\"92.644197\" style=\"stroke: #000000\"/>\n     <use xlink:href=\"#mc32d7dc3f1\" x=\"284.178187\" y=\"93.673626\" style=\"stroke: #000000\"/>\n     <use xlink:href=\"#mc32d7dc3f1\" x=\"284.178187\" y=\"92.644197\" style=\"stroke: #000000\"/>\n     <use xlink:href=\"#mc32d7dc3f1\" x=\"283.148706\" y=\"91.614768\" style=\"stroke: #000000\"/>\n     <use xlink:href=\"#mc32d7dc3f1\" x=\"283.148706\" y=\"90.585339\" style=\"stroke: #000000\"/>\n     <use xlink:href=\"#mc32d7dc3f1\" x=\"284.178187\" y=\"91.614768\" style=\"stroke: #000000\"/>\n     <use xlink:href=\"#mc32d7dc3f1\" x=\"284.178187\" y=\"90.585339\" style=\"stroke: #000000\"/>\n     <use xlink:href=\"#mc32d7dc3f1\" x=\"278.001296\" y=\"72.054705\" style=\"stroke: #000000\"/>\n     <use xlink:href=\"#mc32d7dc3f1\" x=\"278.001296\" y=\"71.025224\" style=\"stroke: #000000\"/>\n     <use xlink:href=\"#mc32d7dc3f1\" x=\"278.001296\" y=\"69.995743\" style=\"stroke: #000000\"/>\n     <use xlink:href=\"#mc32d7dc3f1\" x=\"275.942332\" y=\"66.9073\" style=\"stroke: #000000\"/>\n     <use xlink:href=\"#mc32d7dc3f1\" x=\"275.942332\" y=\"65.877819\" style=\"stroke: #000000\"/>\n     <use xlink:href=\"#mc32d7dc3f1\" x=\"276.971814\" y=\"68.966262\" style=\"stroke: #000000\"/>\n     <use xlink:href=\"#mc32d7dc3f1\" x=\"276.971814\" y=\"67.936781\" style=\"stroke: #000000\"/>\n     <use xlink:href=\"#mc32d7dc3f1\" x=\"278.001296\" y=\"68.966262\" style=\"stroke: #000000\"/>\n     <use xlink:href=\"#mc32d7dc3f1\" x=\"278.001296\" y=\"67.936781\" style=\"stroke: #000000\"/>\n     <use xlink:href=\"#mc32d7dc3f1\" x=\"276.971814\" y=\"66.9073\" style=\"stroke: #000000\"/>\n     <use xlink:href=\"#mc32d7dc3f1\" x=\"276.971814\" y=\"65.877819\" style=\"stroke: #000000\"/>\n     <use xlink:href=\"#mc32d7dc3f1\" x=\"278.001296\" y=\"66.9073\" style=\"stroke: #000000\"/>\n     <use xlink:href=\"#mc32d7dc3f1\" x=\"278.001296\" y=\"65.877819\" style=\"stroke: #000000\"/>\n     <use xlink:href=\"#mc32d7dc3f1\" x=\"273.883368\" y=\"61.759895\" style=\"stroke: #000000\"/>\n     <use xlink:href=\"#mc32d7dc3f1\" x=\"271.824405\" y=\"57.64197\" style=\"stroke: #000000\"/>\n     <use xlink:href=\"#mc32d7dc3f1\" x=\"272.853887\" y=\"59.700933\" style=\"stroke: #000000\"/>\n     <use xlink:href=\"#mc32d7dc3f1\" x=\"273.883368\" y=\"60.730414\" style=\"stroke: #000000\"/>\n     <use xlink:href=\"#mc32d7dc3f1\" x=\"273.883368\" y=\"59.700933\" style=\"stroke: #000000\"/>\n     <use xlink:href=\"#mc32d7dc3f1\" x=\"272.853887\" y=\"58.671451\" style=\"stroke: #000000\"/>\n     <use xlink:href=\"#mc32d7dc3f1\" x=\"272.853887\" y=\"57.64197\" style=\"stroke: #000000\"/>\n     <use xlink:href=\"#mc32d7dc3f1\" x=\"273.883368\" y=\"58.671451\" style=\"stroke: #000000\"/>\n     <use xlink:href=\"#mc32d7dc3f1\" x=\"273.883368\" y=\"57.64197\" style=\"stroke: #000000\"/>\n     <use xlink:href=\"#mc32d7dc3f1\" x=\"274.91285\" y=\"63.818857\" style=\"stroke: #000000\"/>\n     <use xlink:href=\"#mc32d7dc3f1\" x=\"275.942332\" y=\"64.848338\" style=\"stroke: #000000\"/>\n     <use xlink:href=\"#mc32d7dc3f1\" x=\"275.942332\" y=\"63.818857\" style=\"stroke: #000000\"/>\n     <use xlink:href=\"#mc32d7dc3f1\" x=\"274.91285\" y=\"62.789376\" style=\"stroke: #000000\"/>\n     <use xlink:href=\"#mc32d7dc3f1\" x=\"274.91285\" y=\"61.759895\" style=\"stroke: #000000\"/>\n     <use xlink:href=\"#mc32d7dc3f1\" x=\"275.942332\" y=\"62.789376\" style=\"stroke: #000000\"/>\n     <use xlink:href=\"#mc32d7dc3f1\" x=\"275.942332\" y=\"61.759895\" style=\"stroke: #000000\"/>\n     <use xlink:href=\"#mc32d7dc3f1\" x=\"276.971814\" y=\"64.848338\" style=\"stroke: #000000\"/>\n     <use xlink:href=\"#mc32d7dc3f1\" x=\"276.971814\" y=\"63.818857\" style=\"stroke: #000000\"/>\n     <use xlink:href=\"#mc32d7dc3f1\" x=\"278.001296\" y=\"64.848338\" style=\"stroke: #000000\"/>\n     <use xlink:href=\"#mc32d7dc3f1\" x=\"278.001296\" y=\"63.818857\" style=\"stroke: #000000\"/>\n     <use xlink:href=\"#mc32d7dc3f1\" x=\"276.971814\" y=\"62.789376\" style=\"stroke: #000000\"/>\n     <use xlink:href=\"#mc32d7dc3f1\" x=\"276.971814\" y=\"61.759895\" style=\"stroke: #000000\"/>\n     <use xlink:href=\"#mc32d7dc3f1\" x=\"274.91285\" y=\"60.730414\" style=\"stroke: #000000\"/>\n     <use xlink:href=\"#mc32d7dc3f1\" x=\"274.91285\" y=\"59.700933\" style=\"stroke: #000000\"/>\n     <use xlink:href=\"#mc32d7dc3f1\" x=\"275.942332\" y=\"60.730414\" style=\"stroke: #000000\"/>\n     <use xlink:href=\"#mc32d7dc3f1\" x=\"275.942332\" y=\"59.700933\" style=\"stroke: #000000\"/>\n     <use xlink:href=\"#mc32d7dc3f1\" x=\"274.91285\" y=\"58.671451\" style=\"stroke: #000000\"/>\n     <use xlink:href=\"#mc32d7dc3f1\" x=\"274.91285\" y=\"57.64197\" style=\"stroke: #000000\"/>\n     <use xlink:href=\"#mc32d7dc3f1\" x=\"282.119224\" y=\"89.555884\" style=\"stroke: #000000\"/>\n     <use xlink:href=\"#mc32d7dc3f1\" x=\"282.119224\" y=\"88.526403\" style=\"stroke: #000000\"/>\n     <use xlink:href=\"#mc32d7dc3f1\" x=\"282.119224\" y=\"87.496922\" style=\"stroke: #000000\"/>\n     <use xlink:href=\"#mc32d7dc3f1\" x=\"282.119224\" y=\"86.46744\" style=\"stroke: #000000\"/>\n     <use xlink:href=\"#mc32d7dc3f1\" x=\"281.089742\" y=\"85.437959\" style=\"stroke: #000000\"/>\n     <use xlink:href=\"#mc32d7dc3f1\" x=\"281.089742\" y=\"84.408478\" style=\"stroke: #000000\"/>\n     <use xlink:href=\"#mc32d7dc3f1\" x=\"282.119224\" y=\"85.437959\" style=\"stroke: #000000\"/>\n     <use xlink:href=\"#mc32d7dc3f1\" x=\"282.119224\" y=\"84.408478\" style=\"stroke: #000000\"/>\n     <use xlink:href=\"#mc32d7dc3f1\" x=\"281.089742\" y=\"83.378997\" style=\"stroke: #000000\"/>\n     <use xlink:href=\"#mc32d7dc3f1\" x=\"281.089742\" y=\"82.349516\" style=\"stroke: #000000\"/>\n     <use xlink:href=\"#mc32d7dc3f1\" x=\"282.119224\" y=\"83.378997\" style=\"stroke: #000000\"/>\n     <use xlink:href=\"#mc32d7dc3f1\" x=\"282.119224\" y=\"82.349516\" style=\"stroke: #000000\"/>\n     <use xlink:href=\"#mc32d7dc3f1\" x=\"283.148706\" y=\"89.555884\" style=\"stroke: #000000\"/>\n     <use xlink:href=\"#mc32d7dc3f1\" x=\"283.148706\" y=\"88.526403\" style=\"stroke: #000000\"/>\n     <use xlink:href=\"#mc32d7dc3f1\" x=\"284.178187\" y=\"89.555884\" style=\"stroke: #000000\"/>\n     <use xlink:href=\"#mc32d7dc3f1\" x=\"284.178187\" y=\"88.526403\" style=\"stroke: #000000\"/>\n     <use xlink:href=\"#mc32d7dc3f1\" x=\"283.148706\" y=\"87.496922\" style=\"stroke: #000000\"/>\n     <use xlink:href=\"#mc32d7dc3f1\" x=\"283.148706\" y=\"86.46744\" style=\"stroke: #000000\"/>\n     <use xlink:href=\"#mc32d7dc3f1\" x=\"283.148706\" y=\"85.437959\" style=\"stroke: #000000\"/>\n     <use xlink:href=\"#mc32d7dc3f1\" x=\"283.148706\" y=\"84.408478\" style=\"stroke: #000000\"/>\n     <use xlink:href=\"#mc32d7dc3f1\" x=\"283.148706\" y=\"83.378997\" style=\"stroke: #000000\"/>\n     <use xlink:href=\"#mc32d7dc3f1\" x=\"283.148706\" y=\"82.349516\" style=\"stroke: #000000\"/>\n     <use xlink:href=\"#mc32d7dc3f1\" x=\"280.06026\" y=\"80.290554\" style=\"stroke: #000000\"/>\n     <use xlink:href=\"#mc32d7dc3f1\" x=\"280.06026\" y=\"79.261073\" style=\"stroke: #000000\"/>\n     <use xlink:href=\"#mc32d7dc3f1\" x=\"280.06026\" y=\"78.231592\" style=\"stroke: #000000\"/>\n     <use xlink:href=\"#mc32d7dc3f1\" x=\"281.089742\" y=\"81.320035\" style=\"stroke: #000000\"/>\n     <use xlink:href=\"#mc32d7dc3f1\" x=\"281.089742\" y=\"80.290554\" style=\"stroke: #000000\"/>\n     <use xlink:href=\"#mc32d7dc3f1\" x=\"282.119224\" y=\"81.320035\" style=\"stroke: #000000\"/>\n     <use xlink:href=\"#mc32d7dc3f1\" x=\"282.119224\" y=\"80.290554\" style=\"stroke: #000000\"/>\n     <use xlink:href=\"#mc32d7dc3f1\" x=\"281.089742\" y=\"79.261073\" style=\"stroke: #000000\"/>\n     <use xlink:href=\"#mc32d7dc3f1\" x=\"281.089742\" y=\"78.231592\" style=\"stroke: #000000\"/>\n     <use xlink:href=\"#mc32d7dc3f1\" x=\"282.119224\" y=\"79.261073\" style=\"stroke: #000000\"/>\n     <use xlink:href=\"#mc32d7dc3f1\" x=\"282.119224\" y=\"78.231592\" style=\"stroke: #000000\"/>\n     <use xlink:href=\"#mc32d7dc3f1\" x=\"280.06026\" y=\"77.202111\" style=\"stroke: #000000\"/>\n     <use xlink:href=\"#mc32d7dc3f1\" x=\"280.06026\" y=\"76.17263\" style=\"stroke: #000000\"/>\n     <use xlink:href=\"#mc32d7dc3f1\" x=\"279.030778\" y=\"75.143149\" style=\"stroke: #000000\"/>\n     <use xlink:href=\"#mc32d7dc3f1\" x=\"279.030778\" y=\"74.113668\" style=\"stroke: #000000\"/>\n     <use xlink:href=\"#mc32d7dc3f1\" x=\"280.06026\" y=\"75.143149\" style=\"stroke: #000000\"/>\n     <use xlink:href=\"#mc32d7dc3f1\" x=\"280.06026\" y=\"74.113668\" style=\"stroke: #000000\"/>\n     <use xlink:href=\"#mc32d7dc3f1\" x=\"281.089742\" y=\"77.202111\" style=\"stroke: #000000\"/>\n     <use xlink:href=\"#mc32d7dc3f1\" x=\"281.089742\" y=\"76.17263\" style=\"stroke: #000000\"/>\n     <use xlink:href=\"#mc32d7dc3f1\" x=\"282.119224\" y=\"77.202111\" style=\"stroke: #000000\"/>\n     <use xlink:href=\"#mc32d7dc3f1\" x=\"282.119224\" y=\"76.17263\" style=\"stroke: #000000\"/>\n     <use xlink:href=\"#mc32d7dc3f1\" x=\"281.089742\" y=\"75.143149\" style=\"stroke: #000000\"/>\n     <use xlink:href=\"#mc32d7dc3f1\" x=\"281.089742\" y=\"74.113668\" style=\"stroke: #000000\"/>\n     <use xlink:href=\"#mc32d7dc3f1\" x=\"283.148706\" y=\"81.320035\" style=\"stroke: #000000\"/>\n     <use xlink:href=\"#mc32d7dc3f1\" x=\"279.030778\" y=\"73.084187\" style=\"stroke: #000000\"/>\n     <use xlink:href=\"#mc32d7dc3f1\" x=\"279.030778\" y=\"72.054705\" style=\"stroke: #000000\"/>\n     <use xlink:href=\"#mc32d7dc3f1\" x=\"280.06026\" y=\"73.084187\" style=\"stroke: #000000\"/>\n     <use xlink:href=\"#mc32d7dc3f1\" x=\"280.06026\" y=\"72.054705\" style=\"stroke: #000000\"/>\n     <use xlink:href=\"#mc32d7dc3f1\" x=\"279.030778\" y=\"71.025224\" style=\"stroke: #000000\"/>\n     <use xlink:href=\"#mc32d7dc3f1\" x=\"279.030778\" y=\"69.995743\" style=\"stroke: #000000\"/>\n     <use xlink:href=\"#mc32d7dc3f1\" x=\"280.06026\" y=\"71.025224\" style=\"stroke: #000000\"/>\n     <use xlink:href=\"#mc32d7dc3f1\" x=\"280.06026\" y=\"69.995743\" style=\"stroke: #000000\"/>\n     <use xlink:href=\"#mc32d7dc3f1\" x=\"281.089742\" y=\"73.084187\" style=\"stroke: #000000\"/>\n     <use xlink:href=\"#mc32d7dc3f1\" x=\"281.089742\" y=\"72.054705\" style=\"stroke: #000000\"/>\n     <use xlink:href=\"#mc32d7dc3f1\" x=\"279.030778\" y=\"68.966262\" style=\"stroke: #000000\"/>\n     <use xlink:href=\"#mc32d7dc3f1\" x=\"279.030778\" y=\"67.936781\" style=\"stroke: #000000\"/>\n     <use xlink:href=\"#mc32d7dc3f1\" x=\"280.06026\" y=\"68.966262\" style=\"stroke: #000000\"/>\n     <use xlink:href=\"#mc32d7dc3f1\" x=\"279.030778\" y=\"66.9073\" style=\"stroke: #000000\"/>\n     <use xlink:href=\"#mc32d7dc3f1\" x=\"265.647513\" y=\"49.406321\" style=\"stroke: #000000\"/>\n     <use xlink:href=\"#mc32d7dc3f1\" x=\"268.735959\" y=\"53.524139\" style=\"stroke: #000000\"/>\n     <use xlink:href=\"#mc32d7dc3f1\" x=\"269.765441\" y=\"54.553594\" style=\"stroke: #000000\"/>\n     <use xlink:href=\"#mc32d7dc3f1\" x=\"269.765441\" y=\"53.524139\" style=\"stroke: #000000\"/>\n     <use xlink:href=\"#mc32d7dc3f1\" x=\"267.706477\" y=\"51.46523\" style=\"stroke: #000000\"/>\n     <use xlink:href=\"#mc32d7dc3f1\" x=\"266.676995\" y=\"50.435776\" style=\"stroke: #000000\"/>\n     <use xlink:href=\"#mc32d7dc3f1\" x=\"266.676995\" y=\"49.406321\" style=\"stroke: #000000\"/>\n     <use xlink:href=\"#mc32d7dc3f1\" x=\"267.706477\" y=\"50.435776\" style=\"stroke: #000000\"/>\n     <use xlink:href=\"#mc32d7dc3f1\" x=\"267.706477\" y=\"49.406321\" style=\"stroke: #000000\"/>\n     <use xlink:href=\"#mc32d7dc3f1\" x=\"268.735959\" y=\"52.494685\" style=\"stroke: #000000\"/>\n     <use xlink:href=\"#mc32d7dc3f1\" x=\"268.735959\" y=\"51.46523\" style=\"stroke: #000000\"/>\n     <use xlink:href=\"#mc32d7dc3f1\" x=\"269.765441\" y=\"52.494685\" style=\"stroke: #000000\"/>\n     <use xlink:href=\"#mc32d7dc3f1\" x=\"269.765441\" y=\"51.46523\" style=\"stroke: #000000\"/>\n     <use xlink:href=\"#mc32d7dc3f1\" x=\"268.735959\" y=\"50.435776\" style=\"stroke: #000000\"/>\n     <use xlink:href=\"#mc32d7dc3f1\" x=\"268.735959\" y=\"49.406321\" style=\"stroke: #000000\"/>\n     <use xlink:href=\"#mc32d7dc3f1\" x=\"269.765441\" y=\"50.435776\" style=\"stroke: #000000\"/>\n     <use xlink:href=\"#mc32d7dc3f1\" x=\"269.765441\" y=\"49.406321\" style=\"stroke: #000000\"/>\n     <use xlink:href=\"#mc32d7dc3f1\" x=\"262.559068\" y=\"45.288504\" style=\"stroke: #000000\"/>\n     <use xlink:href=\"#mc32d7dc3f1\" x=\"263.588549\" y=\"46.317958\" style=\"stroke: #000000\"/>\n     <use xlink:href=\"#mc32d7dc3f1\" x=\"263.588549\" y=\"45.288504\" style=\"stroke: #000000\"/>\n     <use xlink:href=\"#mc32d7dc3f1\" x=\"264.618031\" y=\"47.347412\" style=\"stroke: #000000\"/>\n     <use xlink:href=\"#mc32d7dc3f1\" x=\"265.647513\" y=\"48.376867\" style=\"stroke: #000000\"/>\n     <use xlink:href=\"#mc32d7dc3f1\" x=\"265.647513\" y=\"47.347412\" style=\"stroke: #000000\"/>\n     <use xlink:href=\"#mc32d7dc3f1\" x=\"264.618031\" y=\"46.317958\" style=\"stroke: #000000\"/>\n     <use xlink:href=\"#mc32d7dc3f1\" x=\"264.618031\" y=\"45.288504\" style=\"stroke: #000000\"/>\n     <use xlink:href=\"#mc32d7dc3f1\" x=\"265.647513\" y=\"46.317958\" style=\"stroke: #000000\"/>\n     <use xlink:href=\"#mc32d7dc3f1\" x=\"265.647513\" y=\"45.288504\" style=\"stroke: #000000\"/>\n     <use xlink:href=\"#mc32d7dc3f1\" x=\"262.559068\" y=\"44.259049\" style=\"stroke: #000000\"/>\n     <use xlink:href=\"#mc32d7dc3f1\" x=\"262.559068\" y=\"43.229595\" style=\"stroke: #000000\"/>\n     <use xlink:href=\"#mc32d7dc3f1\" x=\"263.588549\" y=\"44.259049\" style=\"stroke: #000000\"/>\n     <use xlink:href=\"#mc32d7dc3f1\" x=\"263.588549\" y=\"43.229595\" style=\"stroke: #000000\"/>\n     <use xlink:href=\"#mc32d7dc3f1\" x=\"262.559068\" y=\"42.20014\" style=\"stroke: #000000\"/>\n     <use xlink:href=\"#mc32d7dc3f1\" x=\"262.559068\" y=\"41.170686\" style=\"stroke: #000000\"/>\n     <use xlink:href=\"#mc32d7dc3f1\" x=\"263.588549\" y=\"42.20014\" style=\"stroke: #000000\"/>\n     <use xlink:href=\"#mc32d7dc3f1\" x=\"264.618031\" y=\"44.259049\" style=\"stroke: #000000\"/>\n     <use xlink:href=\"#mc32d7dc3f1\" x=\"264.618031\" y=\"43.229595\" style=\"stroke: #000000\"/>\n     <use xlink:href=\"#mc32d7dc3f1\" x=\"265.647513\" y=\"44.259049\" style=\"stroke: #000000\"/>\n     <use xlink:href=\"#mc32d7dc3f1\" x=\"266.676995\" y=\"48.376867\" style=\"stroke: #000000\"/>\n     <use xlink:href=\"#mc32d7dc3f1\" x=\"266.676995\" y=\"47.347412\" style=\"stroke: #000000\"/>\n     <use xlink:href=\"#mc32d7dc3f1\" x=\"267.706477\" y=\"48.376867\" style=\"stroke: #000000\"/>\n     <use xlink:href=\"#mc32d7dc3f1\" x=\"267.706477\" y=\"47.347412\" style=\"stroke: #000000\"/>\n     <use xlink:href=\"#mc32d7dc3f1\" x=\"266.676995\" y=\"46.317958\" style=\"stroke: #000000\"/>\n     <use xlink:href=\"#mc32d7dc3f1\" x=\"268.735959\" y=\"48.376867\" style=\"stroke: #000000\"/>\n     <use xlink:href=\"#mc32d7dc3f1\" x=\"270.794923\" y=\"56.612503\" style=\"stroke: #000000\"/>\n     <use xlink:href=\"#mc32d7dc3f1\" x=\"270.794923\" y=\"55.583048\" style=\"stroke: #000000\"/>\n     <use xlink:href=\"#mc32d7dc3f1\" x=\"271.824405\" y=\"56.612503\" style=\"stroke: #000000\"/>\n     <use xlink:href=\"#mc32d7dc3f1\" x=\"271.824405\" y=\"55.583048\" style=\"stroke: #000000\"/>\n     <use xlink:href=\"#mc32d7dc3f1\" x=\"270.794923\" y=\"54.553594\" style=\"stroke: #000000\"/>\n     <use xlink:href=\"#mc32d7dc3f1\" x=\"270.794923\" y=\"53.524139\" style=\"stroke: #000000\"/>\n     <use xlink:href=\"#mc32d7dc3f1\" x=\"271.824405\" y=\"54.553594\" style=\"stroke: #000000\"/>\n     <use xlink:href=\"#mc32d7dc3f1\" x=\"271.824405\" y=\"53.524139\" style=\"stroke: #000000\"/>\n     <use xlink:href=\"#mc32d7dc3f1\" x=\"272.853887\" y=\"56.612503\" style=\"stroke: #000000\"/>\n     <use xlink:href=\"#mc32d7dc3f1\" x=\"272.853887\" y=\"55.583048\" style=\"stroke: #000000\"/>\n     <use xlink:href=\"#mc32d7dc3f1\" x=\"273.883368\" y=\"56.612503\" style=\"stroke: #000000\"/>\n     <use xlink:href=\"#mc32d7dc3f1\" x=\"273.883368\" y=\"55.583048\" style=\"stroke: #000000\"/>\n     <use xlink:href=\"#mc32d7dc3f1\" x=\"272.853887\" y=\"54.553594\" style=\"stroke: #000000\"/>\n     <use xlink:href=\"#mc32d7dc3f1\" x=\"270.794923\" y=\"52.494685\" style=\"stroke: #000000\"/>\n     <use xlink:href=\"#mc32d7dc3f1\" x=\"270.794923\" y=\"51.46523\" style=\"stroke: #000000\"/>\n     <use xlink:href=\"#mc32d7dc3f1\" x=\"271.824405\" y=\"52.494685\" style=\"stroke: #000000\"/>\n    </g>\n   </g>\n   <g id=\"patch_3\">\n    <path d=\"M 30.162188 273.312 \nL 30.162188 7.2 \n\" style=\"fill: none; stroke: #ffffff; stroke-width: 0.8; stroke-linejoin: miter; stroke-linecap: square\"/>\n   </g>\n   <g id=\"patch_4\">\n    <path d=\"M 30.162188 273.312 \nL 296.274187 273.312 \n\" style=\"fill: none; stroke: #ffffff; stroke-width: 0.8; stroke-linejoin: miter; stroke-linecap: square\"/>\n   </g>\n  </g>\n </g>\n <defs>\n  <clipPath id=\"pd97a7ac792\">\n   <rect x=\"30.162188\" y=\"7.2\" width=\"266.112\" height=\"266.112\"/>\n  </clipPath>\n </defs>\n</svg>\n"
     },
     "metadata": {},
     "output_type": "display_data"
    }
   ],
   "execution_count": 3
  },
  {
   "cell_type": "code",
   "source": [],
   "metadata": {
    "id": "6g3ywzJulnMt",
    "ExecuteTime": {
     "end_time": "2024-09-10T11:05:21.819069Z",
     "start_time": "2024-09-10T11:05:21.815797Z"
    }
   },
   "outputs": [],
   "execution_count": null
  },
  {
   "cell_type": "markdown",
   "source": [
    "# Figure 3.3: Bar plot of news sources"
   ],
   "metadata": {
    "id": "5tNO0r82jwUe"
   }
  },
  {
   "cell_type": "code",
   "source": [
    "# specify the bar heights and labels\n",
    "news_sources = [40,10,85,20]\n",
    "source_labels = ['TV','Newspapers','Internet','Word of mouth']\n",
    "\n",
    "# show the bar plot\n",
    "plt.figure(figsize=(8,3.3))\n",
    "plt.bar(source_labels,news_sources,color=[.2,.2,.2])\n",
    "\n",
    "# make the graph look a bit nicer\n",
    "plt.title('Where do people get their news?',loc='center')\n",
    "plt.ylabel('Percent responding \"yes\"')\n",
    "plt.xlabel('Media type')\n",
    "plt.xticks(rotation=-30)\n",
    "\n",
    "plt.savefig('vis_barplot_news1.png',bbox_inches='tight')\n",
    "plt.show()"
   ],
   "metadata": {
    "id": "9bSa_913iED6",
    "ExecuteTime": {
     "end_time": "2024-09-10T11:05:51.842370Z",
     "start_time": "2024-09-10T11:05:50.986509Z"
    }
   },
   "outputs": [
    {
     "data": {
      "text/plain": [
       "<Figure size 800x330 with 1 Axes>"
      ],
      "image/svg+xml": "<?xml version=\"1.0\" encoding=\"utf-8\" standalone=\"no\"?>\n<!DOCTYPE svg PUBLIC \"-//W3C//DTD SVG 1.1//EN\"\n  \"http://www.w3.org/Graphics/SVG/1.1/DTD/svg11.dtd\">\n<svg xmlns:xlink=\"http://www.w3.org/1999/xlink\" width=\"500.338125pt\" height=\"296.418571pt\" viewBox=\"0 0 500.338125 296.418571\" xmlns=\"http://www.w3.org/2000/svg\" version=\"1.1\">\n <metadata>\n  <rdf:RDF xmlns:dc=\"http://purl.org/dc/elements/1.1/\" xmlns:cc=\"http://creativecommons.org/ns#\" xmlns:rdf=\"http://www.w3.org/1999/02/22-rdf-syntax-ns#\">\n   <cc:Work>\n    <dc:type rdf:resource=\"http://purl.org/dc/dcmitype/StillImage\"/>\n    <dc:date>2024-09-10T19:05:51.601630</dc:date>\n    <dc:format>image/svg+xml</dc:format>\n    <dc:creator>\n     <cc:Agent>\n      <dc:title>Matplotlib v3.8.0, https://matplotlib.org/</dc:title>\n     </cc:Agent>\n    </dc:creator>\n   </cc:Work>\n  </rdf:RDF>\n </metadata>\n <defs>\n  <style type=\"text/css\">*{stroke-linejoin: round; stroke-linecap: butt}</style>\n </defs>\n <g id=\"figure_1\">\n  <g id=\"patch_1\">\n   <path d=\"M 0 296.418571 \nL 500.338125 296.418571 \nL 500.338125 -0 \nL 0 -0 \nz\n\" style=\"fill: #ffffff\"/>\n  </g>\n  <g id=\"axes_1\">\n   <g id=\"patch_2\">\n    <path d=\"M 46.738125 208.381875 \nL 493.138125 208.381875 \nL 493.138125 25.429875 \nL 46.738125 25.429875 \nz\n\" style=\"fill: #eaeaf2\"/>\n   </g>\n   <g id=\"matplotlib.axis_1\">\n    <g id=\"xtick_1\">\n     <g id=\"line2d_1\">\n      <path d=\"M 109.746737 208.381875 \nL 109.746737 25.429875 \n\" clip-path=\"url(#p176db42355)\" style=\"fill: none; stroke: #ffffff; stroke-width: 0.8; stroke-linecap: round\"/>\n     </g>\n     <g id=\"text_1\">\n      <!-- TV -->\n      <g style=\"fill: #262626\" transform=\"translate(100.190801 224.060261) rotate(-330) scale(0.14 -0.14)\">\n       <defs>\n        <path id=\"ArialMT-54\" d=\"M 1659 0 \nL 1659 4041 \nL 150 4041 \nL 150 4581 \nL 3781 4581 \nL 3781 4041 \nL 2266 4041 \nL 2266 0 \nL 1659 0 \nz\n\" transform=\"scale(0.015625)\"/>\n        <path id=\"ArialMT-56\" d=\"M 1803 0 \nL 28 4581 \nL 684 4581 \nL 1875 1253 \nQ 2019 853 2116 503 \nQ 2222 878 2363 1253 \nL 3600 4581 \nL 4219 4581 \nL 2425 0 \nL 1803 0 \nz\n\" transform=\"scale(0.015625)\"/>\n       </defs>\n       <use xlink:href=\"#ArialMT-54\"/>\n       <use xlink:href=\"#ArialMT-56\" x=\"61.083984\"/>\n      </g>\n     </g>\n    </g>\n    <g id=\"xtick_2\">\n     <g id=\"line2d_2\">\n      <path d=\"M 216.540996 208.381875 \nL 216.540996 25.429875 \n\" clip-path=\"url(#p176db42355)\" style=\"fill: none; stroke: #ffffff; stroke-width: 0.8; stroke-linecap: round\"/>\n     </g>\n     <g id=\"text_2\">\n      <!-- Newspapers -->\n      <g style=\"fill: #262626\" transform=\"translate(181.038939 224.060261) rotate(-330) scale(0.14 -0.14)\">\n       <defs>\n        <path id=\"ArialMT-4e\" d=\"M 488 0 \nL 488 4581 \nL 1109 4581 \nL 3516 984 \nL 3516 4581 \nL 4097 4581 \nL 4097 0 \nL 3475 0 \nL 1069 3600 \nL 1069 0 \nL 488 0 \nz\n\" transform=\"scale(0.015625)\"/>\n        <path id=\"ArialMT-65\" d=\"M 2694 1069 \nL 3275 997 \nQ 3138 488 2766 206 \nQ 2394 -75 1816 -75 \nQ 1088 -75 661 373 \nQ 234 822 234 1631 \nQ 234 2469 665 2931 \nQ 1097 3394 1784 3394 \nQ 2450 3394 2872 2941 \nQ 3294 2488 3294 1666 \nQ 3294 1616 3291 1516 \nL 816 1516 \nQ 847 969 1125 678 \nQ 1403 388 1819 388 \nQ 2128 388 2347 550 \nQ 2566 713 2694 1069 \nz\nM 847 1978 \nL 2700 1978 \nQ 2663 2397 2488 2606 \nQ 2219 2931 1791 2931 \nQ 1403 2931 1139 2672 \nQ 875 2413 847 1978 \nz\n\" transform=\"scale(0.015625)\"/>\n        <path id=\"ArialMT-77\" d=\"M 1034 0 \nL 19 3319 \nL 600 3319 \nL 1128 1403 \nL 1325 691 \nQ 1338 744 1497 1375 \nL 2025 3319 \nL 2603 3319 \nL 3100 1394 \nL 3266 759 \nL 3456 1400 \nL 4025 3319 \nL 4572 3319 \nL 3534 0 \nL 2950 0 \nL 2422 1988 \nL 2294 2553 \nL 1622 0 \nL 1034 0 \nz\n\" transform=\"scale(0.015625)\"/>\n        <path id=\"ArialMT-73\" d=\"M 197 991 \nL 753 1078 \nQ 800 744 1014 566 \nQ 1228 388 1613 388 \nQ 2000 388 2187 545 \nQ 2375 703 2375 916 \nQ 2375 1106 2209 1216 \nQ 2094 1291 1634 1406 \nQ 1016 1563 777 1677 \nQ 538 1791 414 1992 \nQ 291 2194 291 2438 \nQ 291 2659 392 2848 \nQ 494 3038 669 3163 \nQ 800 3259 1026 3326 \nQ 1253 3394 1513 3394 \nQ 1903 3394 2198 3281 \nQ 2494 3169 2634 2976 \nQ 2775 2784 2828 2463 \nL 2278 2388 \nQ 2241 2644 2061 2787 \nQ 1881 2931 1553 2931 \nQ 1166 2931 1000 2803 \nQ 834 2675 834 2503 \nQ 834 2394 903 2306 \nQ 972 2216 1119 2156 \nQ 1203 2125 1616 2013 \nQ 2213 1853 2448 1751 \nQ 2684 1650 2818 1456 \nQ 2953 1263 2953 975 \nQ 2953 694 2789 445 \nQ 2625 197 2315 61 \nQ 2006 -75 1616 -75 \nQ 969 -75 630 194 \nQ 291 463 197 991 \nz\n\" transform=\"scale(0.015625)\"/>\n        <path id=\"ArialMT-70\" d=\"M 422 -1272 \nL 422 3319 \nL 934 3319 \nL 934 2888 \nQ 1116 3141 1344 3267 \nQ 1572 3394 1897 3394 \nQ 2322 3394 2647 3175 \nQ 2972 2956 3137 2557 \nQ 3303 2159 3303 1684 \nQ 3303 1175 3120 767 \nQ 2938 359 2589 142 \nQ 2241 -75 1856 -75 \nQ 1575 -75 1351 44 \nQ 1128 163 984 344 \nL 984 -1272 \nL 422 -1272 \nz\nM 931 1641 \nQ 931 1000 1190 694 \nQ 1450 388 1819 388 \nQ 2194 388 2461 705 \nQ 2728 1022 2728 1688 \nQ 2728 2322 2467 2637 \nQ 2206 2953 1844 2953 \nQ 1484 2953 1207 2617 \nQ 931 2281 931 1641 \nz\n\" transform=\"scale(0.015625)\"/>\n        <path id=\"ArialMT-61\" d=\"M 2588 409 \nQ 2275 144 1986 34 \nQ 1697 -75 1366 -75 \nQ 819 -75 525 192 \nQ 231 459 231 875 \nQ 231 1119 342 1320 \nQ 453 1522 633 1644 \nQ 813 1766 1038 1828 \nQ 1203 1872 1538 1913 \nQ 2219 1994 2541 2106 \nQ 2544 2222 2544 2253 \nQ 2544 2597 2384 2738 \nQ 2169 2928 1744 2928 \nQ 1347 2928 1158 2789 \nQ 969 2650 878 2297 \nL 328 2372 \nQ 403 2725 575 2942 \nQ 747 3159 1072 3276 \nQ 1397 3394 1825 3394 \nQ 2250 3394 2515 3294 \nQ 2781 3194 2906 3042 \nQ 3031 2891 3081 2659 \nQ 3109 2516 3109 2141 \nL 3109 1391 \nQ 3109 606 3145 398 \nQ 3181 191 3288 0 \nL 2700 0 \nQ 2613 175 2588 409 \nz\nM 2541 1666 \nQ 2234 1541 1622 1453 \nQ 1275 1403 1131 1340 \nQ 988 1278 909 1158 \nQ 831 1038 831 891 \nQ 831 666 1001 516 \nQ 1172 366 1500 366 \nQ 1825 366 2078 508 \nQ 2331 650 2450 897 \nQ 2541 1088 2541 1459 \nL 2541 1666 \nz\n\" transform=\"scale(0.015625)\"/>\n        <path id=\"ArialMT-72\" d=\"M 416 0 \nL 416 3319 \nL 922 3319 \nL 922 2816 \nQ 1116 3169 1280 3281 \nQ 1444 3394 1641 3394 \nQ 1925 3394 2219 3213 \nL 2025 2691 \nQ 1819 2813 1613 2813 \nQ 1428 2813 1281 2702 \nQ 1134 2591 1072 2394 \nQ 978 2094 978 1738 \nL 978 0 \nL 416 0 \nz\n\" transform=\"scale(0.015625)\"/>\n       </defs>\n       <use xlink:href=\"#ArialMT-4e\"/>\n       <use xlink:href=\"#ArialMT-65\" x=\"72.216797\"/>\n       <use xlink:href=\"#ArialMT-77\" x=\"127.832031\"/>\n       <use xlink:href=\"#ArialMT-73\" x=\"200.048828\"/>\n       <use xlink:href=\"#ArialMT-70\" x=\"250.048828\"/>\n       <use xlink:href=\"#ArialMT-61\" x=\"305.664062\"/>\n       <use xlink:href=\"#ArialMT-70\" x=\"361.279297\"/>\n       <use xlink:href=\"#ArialMT-65\" x=\"416.894531\"/>\n       <use xlink:href=\"#ArialMT-72\" x=\"472.509766\"/>\n       <use xlink:href=\"#ArialMT-73\" x=\"505.810547\"/>\n      </g>\n     </g>\n    </g>\n    <g id=\"xtick_3\">\n     <g id=\"line2d_3\">\n      <path d=\"M 323.335254 208.381875 \nL 323.335254 25.429875 \n\" clip-path=\"url(#p176db42355)\" style=\"fill: none; stroke: #ffffff; stroke-width: 0.8; stroke-linecap: round\"/>\n     </g>\n     <g id=\"text_3\">\n      <!-- Internet -->\n      <g style=\"fill: #262626\" transform=\"translate(300.970126 224.060261) rotate(-330) scale(0.14 -0.14)\">\n       <defs>\n        <path id=\"ArialMT-49\" d=\"M 597 0 \nL 597 4581 \nL 1203 4581 \nL 1203 0 \nL 597 0 \nz\n\" transform=\"scale(0.015625)\"/>\n        <path id=\"ArialMT-6e\" d=\"M 422 0 \nL 422 3319 \nL 928 3319 \nL 928 2847 \nQ 1294 3394 1984 3394 \nQ 2284 3394 2536 3286 \nQ 2788 3178 2913 3003 \nQ 3038 2828 3088 2588 \nQ 3119 2431 3119 2041 \nL 3119 0 \nL 2556 0 \nL 2556 2019 \nQ 2556 2363 2490 2533 \nQ 2425 2703 2258 2804 \nQ 2091 2906 1866 2906 \nQ 1506 2906 1245 2678 \nQ 984 2450 984 1813 \nL 984 0 \nL 422 0 \nz\n\" transform=\"scale(0.015625)\"/>\n        <path id=\"ArialMT-74\" d=\"M 1650 503 \nL 1731 6 \nQ 1494 -44 1306 -44 \nQ 1000 -44 831 53 \nQ 663 150 594 308 \nQ 525 466 525 972 \nL 525 2881 \nL 113 2881 \nL 113 3319 \nL 525 3319 \nL 525 4141 \nL 1084 4478 \nL 1084 3319 \nL 1650 3319 \nL 1650 2881 \nL 1084 2881 \nL 1084 941 \nQ 1084 700 1114 631 \nQ 1144 563 1211 522 \nQ 1278 481 1403 481 \nQ 1497 481 1650 503 \nz\n\" transform=\"scale(0.015625)\"/>\n       </defs>\n       <use xlink:href=\"#ArialMT-49\"/>\n       <use xlink:href=\"#ArialMT-6e\" x=\"27.783203\"/>\n       <use xlink:href=\"#ArialMT-74\" x=\"83.398438\"/>\n       <use xlink:href=\"#ArialMT-65\" x=\"111.181641\"/>\n       <use xlink:href=\"#ArialMT-72\" x=\"166.796875\"/>\n       <use xlink:href=\"#ArialMT-6e\" x=\"200.097656\"/>\n       <use xlink:href=\"#ArialMT-65\" x=\"255.712891\"/>\n       <use xlink:href=\"#ArialMT-74\" x=\"311.328125\"/>\n      </g>\n     </g>\n    </g>\n    <g id=\"xtick_4\">\n     <g id=\"line2d_4\">\n      <path d=\"M 430.129513 208.381875 \nL 430.129513 25.429875 \n\" clip-path=\"url(#p176db42355)\" style=\"fill: none; stroke: #ffffff; stroke-width: 0.8; stroke-linecap: round\"/>\n     </g>\n     <g id=\"text_4\">\n      <!-- Word of mouth -->\n      <g style=\"fill: #262626\" transform=\"translate(388.672313 224.060261) rotate(-330) scale(0.14 -0.14)\">\n       <defs>\n        <path id=\"ArialMT-57\" d=\"M 1294 0 \nL 78 4581 \nL 700 4581 \nL 1397 1578 \nQ 1509 1106 1591 641 \nQ 1766 1375 1797 1488 \nL 2669 4581 \nL 3400 4581 \nL 4056 2263 \nQ 4303 1400 4413 641 \nQ 4500 1075 4641 1638 \nL 5359 4581 \nL 5969 4581 \nL 4713 0 \nL 4128 0 \nL 3163 3491 \nQ 3041 3928 3019 4028 \nQ 2947 3713 2884 3491 \nL 1913 0 \nL 1294 0 \nz\n\" transform=\"scale(0.015625)\"/>\n        <path id=\"ArialMT-6f\" d=\"M 213 1659 \nQ 213 2581 725 3025 \nQ 1153 3394 1769 3394 \nQ 2453 3394 2887 2945 \nQ 3322 2497 3322 1706 \nQ 3322 1066 3130 698 \nQ 2938 331 2570 128 \nQ 2203 -75 1769 -75 \nQ 1072 -75 642 372 \nQ 213 819 213 1659 \nz\nM 791 1659 \nQ 791 1022 1069 705 \nQ 1347 388 1769 388 \nQ 2188 388 2466 706 \nQ 2744 1025 2744 1678 \nQ 2744 2294 2464 2611 \nQ 2184 2928 1769 2928 \nQ 1347 2928 1069 2612 \nQ 791 2297 791 1659 \nz\n\" transform=\"scale(0.015625)\"/>\n        <path id=\"ArialMT-64\" d=\"M 2575 0 \nL 2575 419 \nQ 2259 -75 1647 -75 \nQ 1250 -75 917 144 \nQ 584 363 401 755 \nQ 219 1147 219 1656 \nQ 219 2153 384 2558 \nQ 550 2963 881 3178 \nQ 1213 3394 1622 3394 \nQ 1922 3394 2156 3267 \nQ 2391 3141 2538 2938 \nL 2538 4581 \nL 3097 4581 \nL 3097 0 \nL 2575 0 \nz\nM 797 1656 \nQ 797 1019 1065 703 \nQ 1334 388 1700 388 \nQ 2069 388 2326 689 \nQ 2584 991 2584 1609 \nQ 2584 2291 2321 2609 \nQ 2059 2928 1675 2928 \nQ 1300 2928 1048 2622 \nQ 797 2316 797 1656 \nz\n\" transform=\"scale(0.015625)\"/>\n        <path id=\"ArialMT-20\" transform=\"scale(0.015625)\"/>\n        <path id=\"ArialMT-66\" d=\"M 556 0 \nL 556 2881 \nL 59 2881 \nL 59 3319 \nL 556 3319 \nL 556 3672 \nQ 556 4006 616 4169 \nQ 697 4388 901 4523 \nQ 1106 4659 1475 4659 \nQ 1713 4659 2000 4603 \nL 1916 4113 \nQ 1741 4144 1584 4144 \nQ 1328 4144 1222 4034 \nQ 1116 3925 1116 3625 \nL 1116 3319 \nL 1763 3319 \nL 1763 2881 \nL 1116 2881 \nL 1116 0 \nL 556 0 \nz\n\" transform=\"scale(0.015625)\"/>\n        <path id=\"ArialMT-6d\" d=\"M 422 0 \nL 422 3319 \nL 925 3319 \nL 925 2853 \nQ 1081 3097 1340 3245 \nQ 1600 3394 1931 3394 \nQ 2300 3394 2536 3241 \nQ 2772 3088 2869 2813 \nQ 3263 3394 3894 3394 \nQ 4388 3394 4653 3120 \nQ 4919 2847 4919 2278 \nL 4919 0 \nL 4359 0 \nL 4359 2091 \nQ 4359 2428 4304 2576 \nQ 4250 2725 4106 2815 \nQ 3963 2906 3769 2906 \nQ 3419 2906 3187 2673 \nQ 2956 2441 2956 1928 \nL 2956 0 \nL 2394 0 \nL 2394 2156 \nQ 2394 2531 2256 2718 \nQ 2119 2906 1806 2906 \nQ 1569 2906 1367 2781 \nQ 1166 2656 1075 2415 \nQ 984 2175 984 1722 \nL 984 0 \nL 422 0 \nz\n\" transform=\"scale(0.015625)\"/>\n        <path id=\"ArialMT-75\" d=\"M 2597 0 \nL 2597 488 \nQ 2209 -75 1544 -75 \nQ 1250 -75 995 37 \nQ 741 150 617 320 \nQ 494 491 444 738 \nQ 409 903 409 1263 \nL 409 3319 \nL 972 3319 \nL 972 1478 \nQ 972 1038 1006 884 \nQ 1059 663 1231 536 \nQ 1403 409 1656 409 \nQ 1909 409 2131 539 \nQ 2353 669 2445 892 \nQ 2538 1116 2538 1541 \nL 2538 3319 \nL 3100 3319 \nL 3100 0 \nL 2597 0 \nz\n\" transform=\"scale(0.015625)\"/>\n        <path id=\"ArialMT-68\" d=\"M 422 0 \nL 422 4581 \nL 984 4581 \nL 984 2938 \nQ 1378 3394 1978 3394 \nQ 2347 3394 2619 3248 \nQ 2891 3103 3008 2847 \nQ 3125 2591 3125 2103 \nL 3125 0 \nL 2563 0 \nL 2563 2103 \nQ 2563 2525 2380 2717 \nQ 2197 2909 1863 2909 \nQ 1613 2909 1392 2779 \nQ 1172 2650 1078 2428 \nQ 984 2206 984 1816 \nL 984 0 \nL 422 0 \nz\n\" transform=\"scale(0.015625)\"/>\n       </defs>\n       <use xlink:href=\"#ArialMT-57\"/>\n       <use xlink:href=\"#ArialMT-6f\" x=\"92.634766\"/>\n       <use xlink:href=\"#ArialMT-72\" x=\"148.25\"/>\n       <use xlink:href=\"#ArialMT-64\" x=\"181.550781\"/>\n       <use xlink:href=\"#ArialMT-20\" x=\"237.166016\"/>\n       <use xlink:href=\"#ArialMT-6f\" x=\"264.949219\"/>\n       <use xlink:href=\"#ArialMT-66\" x=\"320.564453\"/>\n       <use xlink:href=\"#ArialMT-20\" x=\"348.347656\"/>\n       <use xlink:href=\"#ArialMT-6d\" x=\"376.130859\"/>\n       <use xlink:href=\"#ArialMT-6f\" x=\"459.431641\"/>\n       <use xlink:href=\"#ArialMT-75\" x=\"515.046875\"/>\n       <use xlink:href=\"#ArialMT-74\" x=\"570.662109\"/>\n       <use xlink:href=\"#ArialMT-68\" x=\"598.445312\"/>\n      </g>\n     </g>\n    </g>\n    <g id=\"text_5\">\n     <!-- Media type -->\n     <g style=\"fill: #262626\" transform=\"translate(235.699375 286.272008) scale(0.14 -0.14)\">\n      <defs>\n       <path id=\"ArialMT-4d\" d=\"M 475 0 \nL 475 4581 \nL 1388 4581 \nL 2472 1338 \nQ 2622 884 2691 659 \nQ 2769 909 2934 1394 \nL 4031 4581 \nL 4847 4581 \nL 4847 0 \nL 4263 0 \nL 4263 3834 \nL 2931 0 \nL 2384 0 \nL 1059 3900 \nL 1059 0 \nL 475 0 \nz\n\" transform=\"scale(0.015625)\"/>\n       <path id=\"ArialMT-69\" d=\"M 425 3934 \nL 425 4581 \nL 988 4581 \nL 988 3934 \nL 425 3934 \nz\nM 425 0 \nL 425 3319 \nL 988 3319 \nL 988 0 \nL 425 0 \nz\n\" transform=\"scale(0.015625)\"/>\n       <path id=\"ArialMT-79\" d=\"M 397 -1278 \nL 334 -750 \nQ 519 -800 656 -800 \nQ 844 -800 956 -737 \nQ 1069 -675 1141 -563 \nQ 1194 -478 1313 -144 \nQ 1328 -97 1363 -6 \nL 103 3319 \nL 709 3319 \nL 1400 1397 \nQ 1534 1031 1641 628 \nQ 1738 1016 1872 1384 \nL 2581 3319 \nL 3144 3319 \nL 1881 -56 \nQ 1678 -603 1566 -809 \nQ 1416 -1088 1222 -1217 \nQ 1028 -1347 759 -1347 \nQ 597 -1347 397 -1278 \nz\n\" transform=\"scale(0.015625)\"/>\n      </defs>\n      <use xlink:href=\"#ArialMT-4d\"/>\n      <use xlink:href=\"#ArialMT-65\" x=\"83.300781\"/>\n      <use xlink:href=\"#ArialMT-64\" x=\"138.916016\"/>\n      <use xlink:href=\"#ArialMT-69\" x=\"194.53125\"/>\n      <use xlink:href=\"#ArialMT-61\" x=\"216.748047\"/>\n      <use xlink:href=\"#ArialMT-20\" x=\"272.363281\"/>\n      <use xlink:href=\"#ArialMT-74\" x=\"300.146484\"/>\n      <use xlink:href=\"#ArialMT-79\" x=\"327.929688\"/>\n      <use xlink:href=\"#ArialMT-70\" x=\"377.929688\"/>\n      <use xlink:href=\"#ArialMT-65\" x=\"433.544922\"/>\n     </g>\n    </g>\n   </g>\n   <g id=\"matplotlib.axis_2\">\n    <g id=\"ytick_1\">\n     <g id=\"line2d_5\">\n      <path d=\"M 46.738125 208.381875 \nL 493.138125 208.381875 \n\" clip-path=\"url(#p176db42355)\" style=\"fill: none; stroke: #ffffff; stroke-width: 0.8; stroke-linecap: round\"/>\n     </g>\n     <g id=\"text_6\">\n      <!-- 0 -->\n      <g style=\"fill: #262626\" transform=\"translate(31.952813 213.392344) scale(0.14 -0.14)\">\n       <defs>\n        <path id=\"ArialMT-30\" d=\"M 266 2259 \nQ 266 3072 433 3567 \nQ 600 4063 929 4331 \nQ 1259 4600 1759 4600 \nQ 2128 4600 2406 4451 \nQ 2684 4303 2865 4023 \nQ 3047 3744 3150 3342 \nQ 3253 2941 3253 2259 \nQ 3253 1453 3087 958 \nQ 2922 463 2592 192 \nQ 2263 -78 1759 -78 \nQ 1097 -78 719 397 \nQ 266 969 266 2259 \nz\nM 844 2259 \nQ 844 1131 1108 757 \nQ 1372 384 1759 384 \nQ 2147 384 2411 759 \nQ 2675 1134 2675 2259 \nQ 2675 3391 2411 3762 \nQ 2147 4134 1753 4134 \nQ 1366 4134 1134 3806 \nQ 844 3388 844 2259 \nz\n\" transform=\"scale(0.015625)\"/>\n       </defs>\n       <use xlink:href=\"#ArialMT-30\"/>\n      </g>\n     </g>\n    </g>\n    <g id=\"ytick_2\">\n     <g id=\"line2d_6\">\n      <path d=\"M 46.738125 167.384228 \nL 493.138125 167.384228 \n\" clip-path=\"url(#p176db42355)\" style=\"fill: none; stroke: #ffffff; stroke-width: 0.8; stroke-linecap: round\"/>\n     </g>\n     <g id=\"text_7\">\n      <!-- 20 -->\n      <g style=\"fill: #262626\" transform=\"translate(24.1675 172.394697) scale(0.14 -0.14)\">\n       <defs>\n        <path id=\"ArialMT-32\" d=\"M 3222 541 \nL 3222 0 \nL 194 0 \nQ 188 203 259 391 \nQ 375 700 629 1000 \nQ 884 1300 1366 1694 \nQ 2113 2306 2375 2664 \nQ 2638 3022 2638 3341 \nQ 2638 3675 2398 3904 \nQ 2159 4134 1775 4134 \nQ 1369 4134 1125 3890 \nQ 881 3647 878 3216 \nL 300 3275 \nQ 359 3922 746 4261 \nQ 1134 4600 1788 4600 \nQ 2447 4600 2831 4234 \nQ 3216 3869 3216 3328 \nQ 3216 3053 3103 2787 \nQ 2991 2522 2730 2228 \nQ 2469 1934 1863 1422 \nQ 1356 997 1212 845 \nQ 1069 694 975 541 \nL 3222 541 \nz\n\" transform=\"scale(0.015625)\"/>\n       </defs>\n       <use xlink:href=\"#ArialMT-32\"/>\n       <use xlink:href=\"#ArialMT-30\" x=\"55.615234\"/>\n      </g>\n     </g>\n    </g>\n    <g id=\"ytick_3\">\n     <g id=\"line2d_7\">\n      <path d=\"M 46.738125 126.386581 \nL 493.138125 126.386581 \n\" clip-path=\"url(#p176db42355)\" style=\"fill: none; stroke: #ffffff; stroke-width: 0.8; stroke-linecap: round\"/>\n     </g>\n     <g id=\"text_8\">\n      <!-- 40 -->\n      <g style=\"fill: #262626\" transform=\"translate(24.1675 131.39705) scale(0.14 -0.14)\">\n       <defs>\n        <path id=\"ArialMT-34\" d=\"M 2069 0 \nL 2069 1097 \nL 81 1097 \nL 81 1613 \nL 2172 4581 \nL 2631 4581 \nL 2631 1613 \nL 3250 1613 \nL 3250 1097 \nL 2631 1097 \nL 2631 0 \nL 2069 0 \nz\nM 2069 1613 \nL 2069 3678 \nL 634 1613 \nL 2069 1613 \nz\n\" transform=\"scale(0.015625)\"/>\n       </defs>\n       <use xlink:href=\"#ArialMT-34\"/>\n       <use xlink:href=\"#ArialMT-30\" x=\"55.615234\"/>\n      </g>\n     </g>\n    </g>\n    <g id=\"ytick_4\">\n     <g id=\"line2d_8\">\n      <path d=\"M 46.738125 85.388934 \nL 493.138125 85.388934 \n\" clip-path=\"url(#p176db42355)\" style=\"fill: none; stroke: #ffffff; stroke-width: 0.8; stroke-linecap: round\"/>\n     </g>\n     <g id=\"text_9\">\n      <!-- 60 -->\n      <g style=\"fill: #262626\" transform=\"translate(24.1675 90.399403) scale(0.14 -0.14)\">\n       <defs>\n        <path id=\"ArialMT-36\" d=\"M 3184 3459 \nL 2625 3416 \nQ 2550 3747 2413 3897 \nQ 2184 4138 1850 4138 \nQ 1581 4138 1378 3988 \nQ 1113 3794 959 3422 \nQ 806 3050 800 2363 \nQ 1003 2672 1297 2822 \nQ 1591 2972 1913 2972 \nQ 2475 2972 2870 2558 \nQ 3266 2144 3266 1488 \nQ 3266 1056 3080 686 \nQ 2894 316 2569 119 \nQ 2244 -78 1831 -78 \nQ 1128 -78 684 439 \nQ 241 956 241 2144 \nQ 241 3472 731 4075 \nQ 1159 4600 1884 4600 \nQ 2425 4600 2770 4297 \nQ 3116 3994 3184 3459 \nz\nM 888 1484 \nQ 888 1194 1011 928 \nQ 1134 663 1356 523 \nQ 1578 384 1822 384 \nQ 2178 384 2434 671 \nQ 2691 959 2691 1453 \nQ 2691 1928 2437 2201 \nQ 2184 2475 1800 2475 \nQ 1419 2475 1153 2201 \nQ 888 1928 888 1484 \nz\n\" transform=\"scale(0.015625)\"/>\n       </defs>\n       <use xlink:href=\"#ArialMT-36\"/>\n       <use xlink:href=\"#ArialMT-30\" x=\"55.615234\"/>\n      </g>\n     </g>\n    </g>\n    <g id=\"ytick_5\">\n     <g id=\"line2d_9\">\n      <path d=\"M 46.738125 44.391287 \nL 493.138125 44.391287 \n\" clip-path=\"url(#p176db42355)\" style=\"fill: none; stroke: #ffffff; stroke-width: 0.8; stroke-linecap: round\"/>\n     </g>\n     <g id=\"text_10\">\n      <!-- 80 -->\n      <g style=\"fill: #262626\" transform=\"translate(24.1675 49.401756) scale(0.14 -0.14)\">\n       <defs>\n        <path id=\"ArialMT-38\" d=\"M 1131 2484 \nQ 781 2613 612 2850 \nQ 444 3088 444 3419 \nQ 444 3919 803 4259 \nQ 1163 4600 1759 4600 \nQ 2359 4600 2725 4251 \nQ 3091 3903 3091 3403 \nQ 3091 3084 2923 2848 \nQ 2756 2613 2416 2484 \nQ 2838 2347 3058 2040 \nQ 3278 1734 3278 1309 \nQ 3278 722 2862 322 \nQ 2447 -78 1769 -78 \nQ 1091 -78 675 323 \nQ 259 725 259 1325 \nQ 259 1772 486 2073 \nQ 713 2375 1131 2484 \nz\nM 1019 3438 \nQ 1019 3113 1228 2906 \nQ 1438 2700 1772 2700 \nQ 2097 2700 2305 2904 \nQ 2513 3109 2513 3406 \nQ 2513 3716 2298 3927 \nQ 2084 4138 1766 4138 \nQ 1444 4138 1231 3931 \nQ 1019 3725 1019 3438 \nz\nM 838 1322 \nQ 838 1081 952 856 \nQ 1066 631 1291 507 \nQ 1516 384 1775 384 \nQ 2178 384 2440 643 \nQ 2703 903 2703 1303 \nQ 2703 1709 2433 1975 \nQ 2163 2241 1756 2241 \nQ 1359 2241 1098 1978 \nQ 838 1716 838 1322 \nz\n\" transform=\"scale(0.015625)\"/>\n       </defs>\n       <use xlink:href=\"#ArialMT-38\"/>\n       <use xlink:href=\"#ArialMT-30\" x=\"55.615234\"/>\n      </g>\n     </g>\n    </g>\n    <g id=\"text_11\">\n     <!-- Percent responding \"yes\" -->\n     <g style=\"fill: #262626\" transform=\"translate(17.220938 195.41525) rotate(-90) scale(0.14 -0.14)\">\n      <defs>\n       <path id=\"ArialMT-50\" d=\"M 494 0 \nL 494 4581 \nL 2222 4581 \nQ 2678 4581 2919 4538 \nQ 3256 4481 3484 4323 \nQ 3713 4166 3852 3881 \nQ 3991 3597 3991 3256 \nQ 3991 2672 3619 2267 \nQ 3247 1863 2275 1863 \nL 1100 1863 \nL 1100 0 \nL 494 0 \nz\nM 1100 2403 \nL 2284 2403 \nQ 2872 2403 3119 2622 \nQ 3366 2841 3366 3238 \nQ 3366 3525 3220 3729 \nQ 3075 3934 2838 4000 \nQ 2684 4041 2272 4041 \nL 1100 4041 \nL 1100 2403 \nz\n\" transform=\"scale(0.015625)\"/>\n       <path id=\"ArialMT-63\" d=\"M 2588 1216 \nL 3141 1144 \nQ 3050 572 2676 248 \nQ 2303 -75 1759 -75 \nQ 1078 -75 664 370 \nQ 250 816 250 1647 \nQ 250 2184 428 2587 \nQ 606 2991 970 3192 \nQ 1334 3394 1763 3394 \nQ 2303 3394 2647 3120 \nQ 2991 2847 3088 2344 \nL 2541 2259 \nQ 2463 2594 2264 2762 \nQ 2066 2931 1784 2931 \nQ 1359 2931 1093 2626 \nQ 828 2322 828 1663 \nQ 828 994 1084 691 \nQ 1341 388 1753 388 \nQ 2084 388 2306 591 \nQ 2528 794 2588 1216 \nz\n\" transform=\"scale(0.015625)\"/>\n       <path id=\"ArialMT-67\" d=\"M 319 -275 \nL 866 -356 \nQ 900 -609 1056 -725 \nQ 1266 -881 1628 -881 \nQ 2019 -881 2231 -725 \nQ 2444 -569 2519 -288 \nQ 2563 -116 2559 434 \nQ 2191 0 1641 0 \nQ 956 0 581 494 \nQ 206 988 206 1678 \nQ 206 2153 378 2554 \nQ 550 2956 876 3175 \nQ 1203 3394 1644 3394 \nQ 2231 3394 2613 2919 \nL 2613 3319 \nL 3131 3319 \nL 3131 450 \nQ 3131 -325 2973 -648 \nQ 2816 -972 2473 -1159 \nQ 2131 -1347 1631 -1347 \nQ 1038 -1347 672 -1080 \nQ 306 -813 319 -275 \nz\nM 784 1719 \nQ 784 1066 1043 766 \nQ 1303 466 1694 466 \nQ 2081 466 2343 764 \nQ 2606 1063 2606 1700 \nQ 2606 2309 2336 2618 \nQ 2066 2928 1684 2928 \nQ 1309 2928 1046 2623 \nQ 784 2319 784 1719 \nz\n\" transform=\"scale(0.015625)\"/>\n       <path id=\"ArialMT-22\" d=\"M 450 2959 \nL 294 3831 \nL 294 4581 \nL 934 4581 \nL 934 3831 \nL 794 2959 \nL 450 2959 \nz\nM 1484 2959 \nL 1331 3831 \nL 1331 4581 \nL 1972 4581 \nL 1972 3831 \nL 1822 2959 \nL 1484 2959 \nz\n\" transform=\"scale(0.015625)\"/>\n      </defs>\n      <use xlink:href=\"#ArialMT-50\"/>\n      <use xlink:href=\"#ArialMT-65\" x=\"66.699219\"/>\n      <use xlink:href=\"#ArialMT-72\" x=\"122.314453\"/>\n      <use xlink:href=\"#ArialMT-63\" x=\"155.615234\"/>\n      <use xlink:href=\"#ArialMT-65\" x=\"205.615234\"/>\n      <use xlink:href=\"#ArialMT-6e\" x=\"261.230469\"/>\n      <use xlink:href=\"#ArialMT-74\" x=\"316.845703\"/>\n      <use xlink:href=\"#ArialMT-20\" x=\"344.628906\"/>\n      <use xlink:href=\"#ArialMT-72\" x=\"372.412109\"/>\n      <use xlink:href=\"#ArialMT-65\" x=\"405.712891\"/>\n      <use xlink:href=\"#ArialMT-73\" x=\"461.328125\"/>\n      <use xlink:href=\"#ArialMT-70\" x=\"511.328125\"/>\n      <use xlink:href=\"#ArialMT-6f\" x=\"566.943359\"/>\n      <use xlink:href=\"#ArialMT-6e\" x=\"622.558594\"/>\n      <use xlink:href=\"#ArialMT-64\" x=\"678.173828\"/>\n      <use xlink:href=\"#ArialMT-69\" x=\"733.789062\"/>\n      <use xlink:href=\"#ArialMT-6e\" x=\"756.005859\"/>\n      <use xlink:href=\"#ArialMT-67\" x=\"811.621094\"/>\n      <use xlink:href=\"#ArialMT-20\" x=\"867.236328\"/>\n      <use xlink:href=\"#ArialMT-22\" x=\"895.019531\"/>\n      <use xlink:href=\"#ArialMT-79\" x=\"930.517578\"/>\n      <use xlink:href=\"#ArialMT-65\" x=\"980.517578\"/>\n      <use xlink:href=\"#ArialMT-73\" x=\"1036.132812\"/>\n      <use xlink:href=\"#ArialMT-22\" x=\"1086.132812\"/>\n     </g>\n    </g>\n   </g>\n   <g id=\"patch_3\">\n    <path d=\"M 67.029034 208.381875 \nL 152.464441 208.381875 \nL 152.464441 126.386581 \nL 67.029034 126.386581 \nz\n\" clip-path=\"url(#p176db42355)\" style=\"fill: #333333; stroke: #ffffff; stroke-linejoin: miter\"/>\n   </g>\n   <g id=\"patch_4\">\n    <path d=\"M 173.823292 208.381875 \nL 259.258699 208.381875 \nL 259.258699 187.883051 \nL 173.823292 187.883051 \nz\n\" clip-path=\"url(#p176db42355)\" style=\"fill: #333333; stroke: #ffffff; stroke-linejoin: miter\"/>\n   </g>\n   <g id=\"patch_5\">\n    <path d=\"M 280.617551 208.381875 \nL 366.052958 208.381875 \nL 366.052958 34.141875 \nL 280.617551 34.141875 \nz\n\" clip-path=\"url(#p176db42355)\" style=\"fill: #333333; stroke: #ffffff; stroke-linejoin: miter\"/>\n   </g>\n   <g id=\"patch_6\">\n    <path d=\"M 387.411809 208.381875 \nL 472.847216 208.381875 \nL 472.847216 167.384228 \nL 387.411809 167.384228 \nz\n\" clip-path=\"url(#p176db42355)\" style=\"fill: #333333; stroke: #ffffff; stroke-linejoin: miter\"/>\n   </g>\n   <g id=\"patch_7\">\n    <path d=\"M 46.738125 208.381875 \nL 46.738125 25.429875 \n\" style=\"fill: none; stroke: #ffffff; stroke-width: 0.8; stroke-linejoin: miter; stroke-linecap: square\"/>\n   </g>\n   <g id=\"patch_8\">\n    <path d=\"M 46.738125 208.381875 \nL 493.138125 208.381875 \n\" style=\"fill: none; stroke: #ffffff; stroke-width: 0.8; stroke-linejoin: miter; stroke-linecap: square\"/>\n   </g>\n   <g id=\"text_12\">\n    <!-- Where do people get their news? -->\n    <g style=\"fill: #262626\" transform=\"translate(146.67075 19.429875) scale(0.168 -0.168)\">\n     <defs>\n      <path id=\"ArialMT-6c\" d=\"M 409 0 \nL 409 4581 \nL 972 4581 \nL 972 0 \nL 409 0 \nz\n\" transform=\"scale(0.015625)\"/>\n      <path id=\"ArialMT-3f\" d=\"M 1475 1128 \nQ 1472 1241 1472 1297 \nQ 1472 1628 1566 1869 \nQ 1634 2050 1788 2234 \nQ 1900 2369 2192 2626 \nQ 2484 2884 2571 3037 \nQ 2659 3191 2659 3372 \nQ 2659 3700 2403 3948 \nQ 2147 4197 1775 4197 \nQ 1416 4197 1175 3972 \nQ 934 3747 859 3269 \nL 281 3338 \nQ 359 3978 745 4318 \nQ 1131 4659 1766 4659 \nQ 2438 4659 2838 4293 \nQ 3238 3928 3238 3409 \nQ 3238 3109 3097 2856 \nQ 2956 2603 2547 2241 \nQ 2272 1997 2187 1881 \nQ 2103 1766 2062 1616 \nQ 2022 1466 2016 1128 \nL 1475 1128 \nz\nM 1441 0 \nL 1441 641 \nL 2081 641 \nL 2081 0 \nL 1441 0 \nz\n\" transform=\"scale(0.015625)\"/>\n     </defs>\n     <use xlink:href=\"#ArialMT-57\"/>\n     <use xlink:href=\"#ArialMT-68\" x=\"94.384766\"/>\n     <use xlink:href=\"#ArialMT-65\" x=\"150\"/>\n     <use xlink:href=\"#ArialMT-72\" x=\"205.615234\"/>\n     <use xlink:href=\"#ArialMT-65\" x=\"238.916016\"/>\n     <use xlink:href=\"#ArialMT-20\" x=\"294.53125\"/>\n     <use xlink:href=\"#ArialMT-64\" x=\"322.314453\"/>\n     <use xlink:href=\"#ArialMT-6f\" x=\"377.929688\"/>\n     <use xlink:href=\"#ArialMT-20\" x=\"433.544922\"/>\n     <use xlink:href=\"#ArialMT-70\" x=\"461.328125\"/>\n     <use xlink:href=\"#ArialMT-65\" x=\"516.943359\"/>\n     <use xlink:href=\"#ArialMT-6f\" x=\"572.558594\"/>\n     <use xlink:href=\"#ArialMT-70\" x=\"628.173828\"/>\n     <use xlink:href=\"#ArialMT-6c\" x=\"683.789062\"/>\n     <use xlink:href=\"#ArialMT-65\" x=\"706.005859\"/>\n     <use xlink:href=\"#ArialMT-20\" x=\"761.621094\"/>\n     <use xlink:href=\"#ArialMT-67\" x=\"789.404297\"/>\n     <use xlink:href=\"#ArialMT-65\" x=\"845.019531\"/>\n     <use xlink:href=\"#ArialMT-74\" x=\"900.634766\"/>\n     <use xlink:href=\"#ArialMT-20\" x=\"928.417969\"/>\n     <use xlink:href=\"#ArialMT-74\" x=\"956.201172\"/>\n     <use xlink:href=\"#ArialMT-68\" x=\"983.984375\"/>\n     <use xlink:href=\"#ArialMT-65\" x=\"1039.599609\"/>\n     <use xlink:href=\"#ArialMT-69\" x=\"1095.214844\"/>\n     <use xlink:href=\"#ArialMT-72\" x=\"1117.431641\"/>\n     <use xlink:href=\"#ArialMT-20\" x=\"1150.732422\"/>\n     <use xlink:href=\"#ArialMT-6e\" x=\"1178.515625\"/>\n     <use xlink:href=\"#ArialMT-65\" x=\"1234.130859\"/>\n     <use xlink:href=\"#ArialMT-77\" x=\"1289.746094\"/>\n     <use xlink:href=\"#ArialMT-73\" x=\"1361.962891\"/>\n     <use xlink:href=\"#ArialMT-3f\" x=\"1411.962891\"/>\n    </g>\n   </g>\n  </g>\n </g>\n <defs>\n  <clipPath id=\"p176db42355\">\n   <rect x=\"46.738125\" y=\"25.429875\" width=\"446.4\" height=\"182.952\"/>\n  </clipPath>\n </defs>\n</svg>\n"
     },
     "metadata": {},
     "output_type": "display_data"
    }
   ],
   "execution_count": 6
  },
  {
   "cell_type": "code",
   "source": [],
   "metadata": {
    "id": "woWJSeM6DuH7"
   },
   "execution_count": null,
   "outputs": []
  },
  {
   "cell_type": "markdown",
   "source": [
    "# Figure 3.4: Margin figure of bar plot"
   ],
   "metadata": {
    "id": "y7ZxkTBXDtbg"
   }
  },
  {
   "cell_type": "code",
   "source": [
    "Y = [1,4,3,9] # bar heights\n",
    "X = [0,1,3,4] # bar locations\n",
    "\n",
    "plt.figure(figsize=(5,2.5))\n",
    "plt.bar(X,Y,color='k')\n",
    "plt.xlabel('X')\n",
    "plt.ylabel('Y')\n",
    "plt.savefig('vis_barplot_basic.png')\n",
    "plt.show()"
   ],
   "metadata": {
    "id": "AtqZvoLODvtB"
   },
   "execution_count": null,
   "outputs": []
  },
  {
   "cell_type": "code",
   "source": [],
   "metadata": {
    "id": "sf3xFxxODtYv"
   },
   "execution_count": null,
   "outputs": []
  },
  {
   "cell_type": "markdown",
   "source": [
    "# Figure 3.5: Grouped bar plots"
   ],
   "metadata": {
    "id": "cPLfIz3rf1zk"
   }
  },
  {
   "cell_type": "code",
   "source": [
    "news_sources = np.array([[12,17,95,35],\n",
    "                         [90,40,50,25]] )\n",
    "agegroups = ['Millennials','Boomers']\n",
    "\n",
    "_,axs = plt.subplots(1,2,figsize=(10,5))\n",
    "\n",
    "axs[0].bar(np.arange(4)-.2,news_sources[0],width=.4,color='k')\n",
    "axs[0].bar(np.arange(4)+.2,news_sources[1],width=.4,color='gray')\n",
    "axs[0].set(xlabel='Media type',ylabel='Percentage responding \"yes\"',xticks=np.arange(4))\n",
    "axs[0].set_xticklabels(source_labels,rotation=-30)\n",
    "axs[0].legend(agegroups)\n",
    "axs[0].set_title(r'$\\bf{A}$)  Grouped by news source')\n",
    "\n",
    "\n",
    "offset = [-.3,-.1,.1,.3]\n",
    "hatches = 'xo-|' # \"hatch\" is the fill shape\n",
    "for i in range(4):\n",
    "  axs[1].bar(np.arange(2)+offset[i],news_sources[:,i],width=.2,\n",
    "             hatch=hatches[i],color=[.8,.8,.8],edgecolor='k')\n",
    "\n",
    "# Note about color: Unless you need grayscale, color is nicer-looking than hatches:\n",
    "# for i in range(4): axs[1].bar(np.arange(2)+offset[i],news_sources[:,i],width=.2)\n",
    "\n",
    "axs[1].set(xlabel='Generation',ylabel='Percentage responding \"yes\"',xticks=np.arange(2))\n",
    "axs[1].set_xticklabels(agegroups)\n",
    "axs[1].legend(source_labels,fontsize=10)\n",
    "axs[1].set_title(r'$\\bf{B}$)  Grouped by generation')\n",
    "\n",
    "\n",
    "plt.tight_layout()\n",
    "plt.savefig('vis_barplot_news2.png')\n",
    "plt.show()"
   ],
   "metadata": {
    "id": "iy5YW0Upu6Qh"
   },
   "execution_count": null,
   "outputs": []
  },
  {
   "cell_type": "code",
   "source": [],
   "metadata": {
    "id": "sjG_MZii-gOj"
   },
   "execution_count": null,
   "outputs": []
  },
  {
   "cell_type": "markdown",
   "source": [
    "# Figure 3.6: Note about bars from matrices"
   ],
   "metadata": {
    "id": "8UX9w-RN-gLo"
   }
  },
  {
   "cell_type": "code",
   "source": [
    "# data are observations (rows) X features (columns)\n",
    "m = [ [2,5,4,3], [1,1,8,6] ]\n",
    "m = [ [10,12,90,35], [85,15,50,10] ]\n",
    "\n",
    "fig,ax = plt.subplots(nrows=2,ncols=2,figsize=(8,8))\n",
    "\n",
    "\n",
    "### show data as an image\n",
    "# conceptualizing the data as <row> groups of <columns>\n",
    "ax[0,0].imshow(m,cmap='gray',vmin=-30,vmax=90)\n",
    "\n",
    "# add numerical labels\n",
    "for i in range(len(m)):\n",
    "  for j in range(len(m[0])):\n",
    "    ax[0,0].text(j,i,m[i][j],fontsize=30\n",
    "                 ,horizontalalignment='center',verticalalignment='center')\n",
    "ax[0,0].set(xticks=[],yticks=[])\n",
    "ax[0,0].set(xlabel='Features',ylabel='Observations')\n",
    "\n",
    "\n",
    "# now other orientation (features X observations)\n",
    "ax[0,1].imshow(np.array(m).T,cmap='gray',vmin=-30,vmax=90)\n",
    "for i in range(len(m)):\n",
    "  for j in range(len(m[0])):\n",
    "    ax[0,1].text(i,j,m[i][j],fontsize=30\n",
    "                 ,horizontalalignment='center',verticalalignment='center')\n",
    "ax[0,1].set(xticks=[],yticks=[])\n",
    "ax[0,1].set_xlabel('Observations')\n",
    "ax[0,1].set_ylabel('Features')\n",
    "\n",
    "\n",
    "\n",
    "\n",
    "#### now for bar plots using pandas dataframe\n",
    "df = pd.DataFrame(m,columns=['A','B','C','D'])\n",
    "h = df.plot(ax=ax[1,0],kind='bar',rot=0)\n",
    "ax[1,0].set_ylim([0,100])\n",
    "\n",
    "# add text labels\n",
    "for p in h.patches:\n",
    "  h.annotate(p.get_height(), [p.get_x()+.06, p.get_height()+1],\n",
    "             horizontalalignment='center',fontsize=12)\n",
    "\n",
    "## add text/number indices to rows/columns\n",
    "for i,l in zip(range(4),'ABCD'):\n",
    "  ax[0,0].text(i,-.6,l,ha='center',fontsize=16)\n",
    "  ax[0,1].text(1.65,i,l,ha='center',fontsize=16)\n",
    "\n",
    "for i in range(2):\n",
    "  ax[0,0].text(3.65,i,str(i),va='center',ha='center',fontsize=16)\n",
    "  ax[0,1].text(i,-.6,str(i),ha='center',fontsize=16)\n",
    "\n",
    "\n",
    "ax[1,0].set_xlabel('Index')\n",
    "\n",
    "h = df.T.plot(ax=ax[1,1],kind='bar',rot=0)\n",
    "ax[1,1].set_ylim([0,100])\n",
    "for p in h.patches:\n",
    "  h.annotate(p.get_height(), [p.get_x()+.12, p.get_height()+1],\n",
    "             horizontalalignment='center',fontsize=12)\n",
    "\n",
    "ax[1,1].set_xlabel('Index')\n",
    "\n",
    "plt.tight_layout()\n",
    "plt.savefig('vis_barplotOrientations.png')\n",
    "plt.show()"
   ],
   "metadata": {
    "id": "GajAmItO-gJI"
   },
   "execution_count": null,
   "outputs": []
  },
  {
   "cell_type": "code",
   "source": [],
   "metadata": {
    "id": "gnzUQLkl-gA2"
   },
   "execution_count": null,
   "outputs": []
  },
  {
   "cell_type": "markdown",
   "source": [
    "# Figure 3.8: Pie chart"
   ],
   "metadata": {
    "id": "jBnKZfYvppiq"
   }
  },
  {
   "cell_type": "code",
   "source": [
    "# data\n",
    "mostNews = [ 15,5,70,10 ]\n",
    "\n",
    "# make the pie chart\n",
    "plt.figure(figsize=(6.3,6.3))\n",
    "plt.pie(mostNews,labels=source_labels,autopct='%.0f%%',\n",
    "        radius=1.2,wedgeprops={'edgecolor':'k'})\n",
    "\n",
    "plt.tight_layout()\n",
    "plt.savefig('vis_pie.png')\n",
    "plt.show()"
   ],
   "metadata": {
    "id": "hIYV2M7ADHhJ"
   },
   "execution_count": null,
   "outputs": []
  },
  {
   "cell_type": "code",
   "source": [],
   "metadata": {
    "id": "8FkndMENDHjp"
   },
   "execution_count": null,
   "outputs": []
  },
  {
   "cell_type": "markdown",
   "source": [
    "# Figure 3.9: Box plot"
   ],
   "metadata": {
    "id": "wTqH9XBupuYH"
   }
  },
  {
   "cell_type": "code",
   "source": [
    "# random data with an outlier\n",
    "data = np.random.randn(100)\n",
    "data[data>2] = 1\n",
    "data[data<-2] = -1\n",
    "data[-1] = 3 # force one outlier\n",
    "\n",
    "\n",
    "\n",
    "plt.figure(figsize=(2,4))\n",
    "\n",
    "# draw the boxplot and make some color adjustments\n",
    "h = plt.boxplot(data,patch_artist=True)\n",
    "h['boxes'][0].set(color='k')\n",
    "h['medians'][0].set(color='w')\n",
    "\n",
    "plt.xlim([.8,1.5])\n",
    "plt.xticks([])\n",
    "plt.ylabel('Data values')\n",
    "\n",
    "plt.tight_layout()\n",
    "plt.savefig('vis_boxplotBasic.png')\n",
    "plt.show()"
   ],
   "metadata": {
    "id": "CYCsZayGDHmB"
   },
   "execution_count": null,
   "outputs": []
  },
  {
   "cell_type": "code",
   "source": [],
   "metadata": {
    "id": "CchkDu2-gTia"
   },
   "execution_count": null,
   "outputs": []
  },
  {
   "cell_type": "markdown",
   "source": [
    "# Figure 3.10: Box plots for distribution characteristics"
   ],
   "metadata": {
    "id": "y2nGgrO9gT1Z"
   }
  },
  {
   "metadata": {},
   "cell_type": "code",
   "outputs": [],
   "execution_count": null,
   "source": ""
  },
  {
   "cell_type": "code",
   "source": [
    "# box plot\n",
    "data = np.hstack( (np.random.normal(loc=100,size=(200,1),scale=10),\n",
    "                   np.random.normal(loc=100,size=(200,1),scale=2) ))\n",
    "\n",
    "# draw the boxplot and make some color adjustments\n",
    "plt.figure(figsize=(3,3))\n",
    "h = plt.boxplot(data,patch_artist=True,widths=.7)\n",
    "for (b,m) in zip(h['boxes'],h['medians']):\n",
    "  b.set(color='k')\n",
    "  m.set(color='w')\n",
    "\n",
    "plt.xlim([.5,2.5])\n",
    "plt.xticks(range(1,3),['A','B'])\n",
    "plt.tight_layout()\n",
    "plt.savefig('vis_boxplotComp.png')\n",
    "plt.show()"
   ],
   "metadata": {
    "id": "nf6DMDG3DHom"
   },
   "execution_count": null,
   "outputs": []
  },
  {
   "cell_type": "code",
   "source": [],
   "metadata": {
    "id": "n9DdHqWZ-f-A"
   },
   "execution_count": null,
   "outputs": []
  },
  {
   "cell_type": "markdown",
   "source": [
    "# Figure 3.11: Histogram"
   ],
   "metadata": {
    "id": "SmCib5Q_qNMh"
   }
  },
  {
   "cell_type": "code",
   "source": [
    "# version 1\n",
    "\n",
    "X = [ 1,2,2,3,3,4,5,5,5,5,6,7,7,7,8,8,9 ]\n",
    "\n",
    "plt.figure(figsize=(8,4))\n",
    "plt.hist(X,bins=len(set(X)),color='gray',edgecolor='k')\n",
    "plt.xticks(np.arange(np.min(X),np.max(X)+1))\n",
    "plt.xlabel('Numerical value')\n",
    "plt.ylabel('Count')\n",
    "\n",
    "plt.tight_layout()\n",
    "plt.savefig('vis_histOfInts1.png')\n",
    "plt.show()"
   ],
   "metadata": {
    "id": "WP9NrLNTgNiv"
   },
   "execution_count": null,
   "outputs": []
  },
  {
   "cell_type": "markdown",
   "source": [
    "# Figure 3.12"
   ],
   "metadata": {
    "id": "B1abWiYigef8"
   }
  },
  {
   "cell_type": "code",
   "source": [
    "# using different boundaries\n",
    "plt.figure(figsize=(8,4))\n",
    "plt.hist(X,bins=np.arange(.5,9.51,step=1),color='gray',edgecolor='k')\n",
    "plt.xticks(np.arange(np.min(X),np.max(X)+1))\n",
    "plt.xlabel('Numerical value')\n",
    "plt.ylabel('Count')\n",
    "\n",
    "plt.tight_layout()\n",
    "plt.savefig('vis_histOfInts2.png')\n",
    "plt.show()"
   ],
   "metadata": {
    "id": "l30Xh0dUgNlc"
   },
   "execution_count": null,
   "outputs": []
  },
  {
   "cell_type": "code",
   "source": [
    "# the table of bin boundaries\n",
    "_,x1 = np.histogram(X,bins=len(set(X)))\n",
    "_,x2 = np.histogram(X,np.arange(.5,9.51,step=1))\n",
    "\n",
    "for i in range(len(x1)-1):\n",
    "  print(f'Bin {i+1}:  [{x1[i]:.1f} , {x1[i+1]:.1f}]   [{x2[i]:.1f} , {x2[i+1]:.1f}]')"
   ],
   "metadata": {
    "id": "aMFSgclngNoB"
   },
   "execution_count": null,
   "outputs": []
  },
  {
   "cell_type": "code",
   "source": [],
   "metadata": {
    "id": "6ZXTJMy5gNqf"
   },
   "execution_count": null,
   "outputs": []
  },
  {
   "cell_type": "markdown",
   "source": [
    "# Figure 3.14: Histogram of mongoose lengths"
   ],
   "metadata": {
    "id": "Vpq9XiQdq__z"
   }
  },
  {
   "cell_type": "code",
   "source": [
    "# distribution of mongooses' lengths\n",
    "mongooses = np.arctanh(np.random.uniform(-.75,.75,size=500))*15+40\n",
    "\n",
    "plt.figure(figsize=(8,4))\n",
    "plt.hist(mongooses,bins=30,color='gray',edgecolor='k')\n",
    "\n",
    "plt.xlabel('Length (cm)')\n",
    "plt.ylabel('Count')\n",
    "plt.title('Lengths of Babylonian mongooses',loc='center')\n",
    "\n",
    "plt.tight_layout()\n",
    "plt.savefig('vis_mongeese.png')\n",
    "plt.show()"
   ],
   "metadata": {
    "id": "jXMmJl_MsZkX"
   },
   "execution_count": null,
   "outputs": []
  },
  {
   "cell_type": "code",
   "source": [],
   "metadata": {
    "id": "s0VFFleLgoND"
   },
   "execution_count": null,
   "outputs": []
  },
  {
   "cell_type": "markdown",
   "source": [
    "# Figure 3.15: Histograms with different bins"
   ],
   "metadata": {
    "id": "3dNW9XCMglm5"
   }
  },
  {
   "cell_type": "code",
   "source": [
    "_,axs = plt.subplots(1,2,figsize=(8,3))\n",
    "\n",
    "axs[0].hist(mongooses,bins=3,color='gray',edgecolor='k')\n",
    "axs[0].set_title(r'$\\bf{A}$)  Histogram with 3 bins')\n",
    "\n",
    "axs[1].hist(mongooses,bins=300,color='gray',edgecolor='k')\n",
    "axs[1].set_title(r'$\\bf{B}$)  With 300 bins')\n",
    "\n",
    "# stylizing\n",
    "for a in axs:\n",
    "  a.set_xlabel('Length (cm)')\n",
    "  a.set_ylabel('Count')\n",
    "\n",
    "plt.tight_layout()\n",
    "plt.savefig('vis_mongeese_binoptions.png')\n",
    "plt.show()"
   ],
   "metadata": {
    "id": "duXc_L9zsZmb"
   },
   "execution_count": null,
   "outputs": []
  },
  {
   "cell_type": "code",
   "source": [],
   "metadata": {
    "id": "pPIGyrCoEGiS"
   },
   "execution_count": null,
   "outputs": []
  },
  {
   "cell_type": "markdown",
   "source": [
    "# Figure 3.16: Distribution showing tails"
   ],
   "metadata": {
    "id": "wbUyhGRK2Trb"
   }
  },
  {
   "cell_type": "code",
   "source": [
    "import scipy.stats as stats\n",
    "# create a Gaussian probability curve\n",
    "x = np.linspace(-4,4,401)\n",
    "gpdf = stats.norm.pdf(x)\n",
    "\n",
    "# the find the indices of the 2.5% and 97.5%\n",
    "lbndi = np.argmin(np.abs(x-stats.norm.ppf(.05)))\n",
    "ubndi = np.argmin(np.abs(x-stats.norm.ppf(1-.05)))\n",
    "\n",
    "\n",
    "# plot the probability function and the vertical lines\n",
    "_,ax = plt.subplots(1,figsize=(5,4))\n",
    "ax.plot(x,gpdf,'k',linewidth=2)\n",
    "ax.set(xlim=x[[0,-1]],ylim=[0,.42],xticks=[],yticks=[],\n",
    "       xlabel='Data value',ylabel='Proportion')\n",
    "\n",
    "\n",
    "\n",
    "\n",
    "# now create patches for the rejected area\n",
    "# Note: fill_between() is usually more convenient (and I use it later); here I show how to add a polygon patch FYI.\n",
    "from matplotlib.patches import Polygon\n",
    "\n",
    "dots = np.zeros((lbndi+2,2))\n",
    "for i in range(lbndi+1):\n",
    "  dots[i,:] = x[i],gpdf[i]\n",
    "dots[-1,:] = x[lbndi],0\n",
    "ax.add_patch(Polygon(dots,facecolor='k',alpha=.4))\n",
    "\n",
    "# repeat for the right lobe\n",
    "dots = np.zeros((len(x)-ubndi+1,2))\n",
    "for i in range(ubndi,len(x)):\n",
    "  dots[i-ubndi,:] = x[i],gpdf[i]\n",
    "dots[-1,:] = x[ubndi],0\n",
    "ax.add_patch(Polygon(dots,facecolor='k',alpha=.4))\n",
    "\n",
    "# annotations\n",
    "tailx = np.argmin(np.abs(x--2.2))\n",
    "ax.annotate('Left tail',xy=(x[tailx],gpdf[tailx]+.01),\n",
    "            xytext=(x[tailx]-1.1,gpdf[tailx]+.08),ha='center',\n",
    "            arrowprops={'color':'k'},weight='bold',size=16)\n",
    "tailx = np.argmin(np.abs(x-2.2))\n",
    "ax.annotate('Right tail',xy=(x[tailx],gpdf[tailx]+.01),\n",
    "            xytext=(x[tailx]+1.1,gpdf[tailx]+.08),ha='center',\n",
    "            arrowprops={'color':'k'},weight='bold',size=16)\n",
    "\n",
    "ax.axis('off')\n",
    "plt.tight_layout()\n",
    "plt.savefig('vis_distribution_tails.png')\n",
    "plt.show()"
   ],
   "metadata": {
    "id": "WGKpxA3DEG10"
   },
   "execution_count": null,
   "outputs": []
  },
  {
   "cell_type": "code",
   "source": [],
   "metadata": {
    "id": "KSgGfpVBsZo9"
   },
   "execution_count": null,
   "outputs": []
  },
  {
   "cell_type": "markdown",
   "source": [
    "# Figure 3.17: Histogram raw counts vs proportion"
   ],
   "metadata": {
    "id": "p7KJ5a1nUOUr"
   }
  },
  {
   "cell_type": "code",
   "source": [
    "data = np.random.rand(200)**2\n",
    "\n",
    "# extract histogram data\n",
    "counts,x = np.histogram(data,bins='fd')\n",
    "binCents = (x[:-1]+x[1:])/2\n",
    "\n",
    "# convert counts to proportion\n",
    "proportion = counts / np.sum(counts)\n",
    "\n",
    "_,axs = plt.subplots(1,2,figsize=(8,4))\n",
    "\n",
    "axs[0].bar(binCents,counts,width=.12,color='gray',edgecolor='k')\n",
    "axs[0].set_title(r'$\\bf{A}$)  Raw counts')\n",
    "axs[0].set_ylabel('Count')\n",
    "\n",
    "axs[1].bar(binCents,proportion,width=.12,color='gray',edgecolor='k')\n",
    "axs[1].set_title(r'$\\bf{B}$)  Proportion')\n",
    "axs[1].set_ylabel('Proportion')\n",
    "\n",
    "plt.tight_layout()\n",
    "plt.savefig('vis_histCountVsProp.png')\n",
    "plt.show()"
   ],
   "metadata": {
    "id": "Jkl073XIUOXo"
   },
   "execution_count": null,
   "outputs": []
  },
  {
   "cell_type": "code",
   "source": [],
   "metadata": {
    "id": "1HR6rHOpUOZ3"
   },
   "execution_count": null,
   "outputs": []
  },
  {
   "cell_type": "markdown",
   "source": [
    "# Figure 3.19: The mongooses experiment"
   ],
   "metadata": {
    "id": "0Ps2wS7psZrW"
   }
  },
  {
   "cell_type": "code",
   "source": [
    "mongooses_africa = np.arctanh(np.random.uniform(size=100)*1.5-.75)*12+37\n",
    "mongooses_asia = np.arctanh(np.random.uniform(size=500)*1.5-.75)*15+42\n",
    "\n",
    "# create common bin boundaries across both datasets\n",
    "alldata = np.concatenate((mongooses_africa,mongooses_asia))\n",
    "binbounds = np.linspace(np.min(alldata),np.max(alldata),30)\n",
    "\n",
    "_,axs = plt.subplots(2,2,figsize=(8,6))\n",
    "\n",
    "# top two panels show raw histograms\n",
    "axs[0,0].hist(mongooses_africa,bins=binbounds,color='gray',edgecolor='k')\n",
    "axs[0,0].set_xlim([binbounds[0]-1,binbounds[-1]+1])\n",
    "axs[0,0].set_ylim([0,30]) # ylim hard-coded based on N and bins\n",
    "axs[0,0].set_title(r'$\\bf{A}$)  Counts: African mons')\n",
    "\n",
    "axs[0,1].hist(mongooses_asia,bins=binbounds,color='gray',edgecolor='k')\n",
    "axs[0,1].set_xlim([binbounds[0]-1,binbounds[-1]+1])\n",
    "axs[0,1].set_ylim([0,30])\n",
    "axs[0,1].set_title(r'$\\bf{B}$)  Counts: Asian mons')\n",
    "\n",
    "# bottom row for proportion\n",
    "axs[1,0].hist(mongooses_africa,bins=binbounds,density=True,\n",
    "              color='gray',edgecolor='k')\n",
    "axs[1,0].set_xlim([binbounds[0]-1,binbounds[-1]+1])\n",
    "axs[1,0].set_ylim([0,.1])\n",
    "axs[1,0].set_title(r'$\\bf{C}$)  Proportion: African mons')\n",
    "\n",
    "axs[1,1].hist(mongooses_asia,bins=binbounds,density=True,\n",
    "              color='gray',edgecolor='k')\n",
    "axs[1,1].set_xlim([binbounds[0]-1,binbounds[-1]+1])\n",
    "axs[1,1].set_ylim([0,.1])\n",
    "axs[1,1].set_title(r'$\\bf{D}$)  Proportion: Asian mons')\n",
    "\n",
    "plt.tight_layout()\n",
    "plt.savefig('vis_mongeese_rawProp.png')\n",
    "plt.show()"
   ],
   "metadata": {
    "id": "q1f7E3g-8pjn"
   },
   "execution_count": null,
   "outputs": []
  },
  {
   "cell_type": "code",
   "source": [],
   "metadata": {
    "id": "JFcx0aVJ989M"
   },
   "execution_count": null,
   "outputs": []
  },
  {
   "cell_type": "markdown",
   "source": [
    "# Figure 3.21: Violin plot from histogram"
   ],
   "metadata": {
    "id": "XGk3GO9A8pnE"
   }
  },
  {
   "cell_type": "code",
   "source": [
    "# the data\n",
    "x1 = np.random.randn(100)-.5\n",
    "x2 = np.random.randn(100)+.5\n",
    "X = np.concatenate((x1,x2))\n",
    "\n",
    "_,axs = plt.subplots(1,4,figsize=(14,4))\n",
    "\n",
    "# regular histogram\n",
    "axs[0].hist(X,bins='fd',color='gray',edgecolor='k')\n",
    "axs[0].set_title(r'$\\bf{A}$)  Step 1: histogram')\n",
    "axs[0].set_ylim([0,40])\n",
    "axs[0].set_xlabel('Data value')\n",
    "axs[0].set_ylabel('Count')\n",
    "\n",
    "# smooth interpolation of histogram\n",
    "y,x = np.histogram(X,bins='fd')\n",
    "x = (x[:-1]+x[1:])/2\n",
    "\n",
    "from scipy import interpolate\n",
    "interpF = interpolate.interp1d(x,y,kind='cubic')\n",
    "xx = np.linspace(x[0],x[-1],100)\n",
    "yy = interpF(xx)\n",
    "\n",
    "\n",
    "axs[1].plot(xx,yy,'k')\n",
    "axs[1].set_xlabel('Data value')\n",
    "axs[1].set_ylabel('Count')\n",
    "axs[1].set_ylim([0,40])\n",
    "axs[1].set_title(r'$\\bf{B}$)  Step 2: interpolate')\n",
    "\n",
    "\n",
    "# now for the violin plot (as a dataframe to use seaborn)\n",
    "df = pd.DataFrame(X)\n",
    "sns.violinplot(data=df,palette='gray',ax=axs[2])\n",
    "sns.stripplot(data=df,ax=axs[2],palette='dark:#b2b2b2')\n",
    "axs[2].set_xlabel('Count (norm.)')\n",
    "axs[2].set_ylabel('Data value')\n",
    "axs[2].set_title(r'$\\bf{C}$)  Step 3: rotate/mirror')\n",
    "\n",
    "\n",
    "\n",
    "\n",
    "# NOTE: The code below is actually a solution to Exercise 7, so don't inspect this code\n",
    "#       too carefully if you want the challenge of solving it yourself :)\n",
    "df = pd.DataFrame(np.vstack((x1,x2)).T,columns = ['x1','x2'])\n",
    "df_all = pd.DataFrame( pd.concat((df['x1'],df['x2']),axis=0),columns=['y'])\n",
    "df_all['distr'] = 'x2'\n",
    "df_all['distr'][:len(df)] = 'x1' # note: you can safely ignore the warning that this line produces\n",
    "df_all[''] = ' '\n",
    "sns.violinplot(data=df_all,x='',y='y',palette='gray',ax=axs[3],split=True,hue='distr')\n",
    "axs[3].legend_.remove()\n",
    "axs[3].set(xlim=[-.75,.75],ylabel='Data value')\n",
    "axs[3].set_title(r'$\\bf{D}$)  Asymmetric violin')\n",
    "\n",
    "\n",
    "plt.tight_layout()\n",
    "plt.savefig('vis_makeAviolin.png')\n",
    "plt.show()"
   ],
   "metadata": {
    "id": "umv40iAZ8pqA"
   },
   "execution_count": null,
   "outputs": []
  },
  {
   "cell_type": "code",
   "source": [],
   "metadata": {
    "id": "MuNOojnDsZwA"
   },
   "execution_count": null,
   "outputs": []
  },
  {
   "cell_type": "markdown",
   "source": [
    "# Figure 3.22: Linear vs logarithmic plot"
   ],
   "metadata": {
    "id": "MWyOslJ6gNtI"
   }
  },
  {
   "cell_type": "code",
   "source": [
    "# simple data... just a line!\n",
    "y = np.linspace(1,10**4)\n",
    "\n",
    "# create a figure\n",
    "_,axs = plt.subplots(1,3,figsize=(12,3.5))\n",
    "\n",
    "# visualization\n",
    "for i in range(3):\n",
    "\n",
    "  # plot the line (same data in all plots!)\n",
    "  axs[i].plot(y,'k',linewidth=2)\n",
    "\n",
    "  # adjust the axes for the log plots\n",
    "  if i>0:\n",
    "    axs[i].set_yscale('log')\n",
    "    t = r'$\\bf{' + ['B','C'][i-1] + '}$)  Log scaling'\n",
    "    axs[i].set_title(t)\n",
    "    axs[i].set_ylabel('Spacing by multiplication')\n",
    "\n",
    "\n",
    "\n",
    "# log scaling is in scientific notation by default;\n",
    "# here I change it to scalar format.\n",
    "from matplotlib.ticker import ScalarFormatter\n",
    "axs[1].yaxis.set_major_formatter(ScalarFormatter())\n",
    "\n",
    "# labels\n",
    "axs[0].set_title(r'$\\bf{A}$)  Linear scaling')\n",
    "axs[0].set_ylabel('Spacing by addition')\n",
    "\n",
    "\n",
    "plt.tight_layout()\n",
    "plt.savefig('vis_linVlog_line.png')\n",
    "plt.show()"
   ],
   "metadata": {
    "id": "tKDjqfjbb80C"
   },
   "execution_count": null,
   "outputs": []
  },
  {
   "cell_type": "code",
   "source": [],
   "metadata": {
    "id": "QOLp__aN8ps0"
   },
   "execution_count": null,
   "outputs": []
  },
  {
   "cell_type": "markdown",
   "source": [
    "# Figure 3.24: Radial plots"
   ],
   "metadata": {
    "id": "Xj3VX-M9xw73"
   }
  },
  {
   "cell_type": "code",
   "source": [
    "# data (from https://www.timeanddate.com/weather/%403841798/climate)\n",
    "tempC = [ 26,25,23,19,15,11,11,13,16,19,22,25 ]\n",
    "months = [ 'Jan','Feb','Mar','Apr','May','Jun','Jul','Aug','Sep','Oct','Nov','Dec' ]\n",
    "\n",
    "# angles for plotting\n",
    "theta = np.linspace(0,2*np.pi,len(months)+1)\n",
    "\n",
    "# repeat first data point so the line wraps around\n",
    "tempC.append(tempC[0])\n",
    "\n",
    "\n",
    "## draw the data\n",
    "ax = plt.subplot(111,polar=True)\n",
    "ax.plot(theta,tempC,'ko-')\n",
    "ax.fill(theta,tempC,'k',alpha=.1)\n",
    "\n",
    "# make the plot look nicer\n",
    "ax.set_xticks(theta[:-1])\n",
    "ax.set_xticklabels(months)\n",
    "ax.set_yticks([10,20,30])\n",
    "ax.set_ylim([0,30])\n",
    "ax.set_title('High temps ($^{\\circ}$C) near Patagonia',y=1.15,loc='center')\n",
    "\n",
    "\n",
    "plt.tight_layout()\n",
    "plt.savefig('vis_radialGood.png')\n",
    "plt.show()"
   ],
   "metadata": {
    "id": "nNg0DuRPxyM2"
   },
   "execution_count": null,
   "outputs": []
  },
  {
   "cell_type": "code",
   "source": [],
   "metadata": {
    "id": "P7CjOyRTi0U7"
   },
   "execution_count": null,
   "outputs": []
  },
  {
   "cell_type": "markdown",
   "source": [
    "# Figure 3.25: When not to use a radial plot"
   ],
   "metadata": {
    "id": "PUrytCEeiz-s"
   }
  },
  {
   "cell_type": "code",
   "source": [
    "# fake data\n",
    "data = {\n",
    "    'Horror' : 8 ,\n",
    "    'Romcom' : 1 ,\n",
    "    'Scifi'  : 9 ,\n",
    "    'Action' : 7 ,\n",
    "    'Anime'  : 3 ,\n",
    "    'Docu'   : 6\n",
    "}\n",
    "\n",
    "# angles for plotting\n",
    "theta = np.linspace(0,2*np.pi,len(data)+1)\n",
    "\n",
    "# repeat first data point so the line wraps around\n",
    "ratings = list(data.values())\n",
    "ratings.append(ratings[0])\n",
    "\n",
    "## draw the data\n",
    "ax = plt.subplot(111,polar=True)\n",
    "ax.plot(theta,ratings,'ko-')\n",
    "ax.fill(theta,ratings,'k',alpha=.1)\n",
    "\n",
    "# make the plot look nicer\n",
    "ax.set_xticks(theta[:-1])\n",
    "ax.set_xticklabels(data.keys())\n",
    "ax.set_yticks([5,10])\n",
    "ax.set_ylim([0,10])\n",
    "ax.set_title('Movie genre preferences',y=1.1,loc='center')\n",
    "\n",
    "\n",
    "plt.tight_layout()\n",
    "plt.savefig('vis_radialBad.png')\n",
    "plt.show()"
   ],
   "metadata": {
    "id": "hSMgq8HKxw5N"
   },
   "execution_count": null,
   "outputs": []
  },
  {
   "cell_type": "code",
   "source": [],
   "metadata": {
    "id": "vNRjofj6-f7a"
   },
   "execution_count": null,
   "outputs": []
  },
  {
   "cell_type": "markdown",
   "source": [
    "# Exercise 1"
   ],
   "metadata": {
    "id": "U_8TZTpI-f4o"
   }
  },
  {
   "cell_type": "code",
   "source": [
    "# grouped bar plots both ways using pandas\n",
    "df = pd.DataFrame( np.reshape(np.arange(12),(4,3)),\n",
    "                   columns=['A','B','C'] )\n",
    "df.T"
   ],
   "metadata": {
    "id": "o__bqFfb-iCE"
   },
   "execution_count": null,
   "outputs": []
  },
  {
   "cell_type": "code",
   "source": [
    "fig,axs = plt.subplots(1,2,figsize=(12,5))\n",
    "\n",
    "df.plot(kind='bar',ax=axs[0],title='Grouping by columns',\n",
    "        xlabel='Category',ylabel='Value',rot=0)\n",
    "\n",
    "df.T.plot(kind='bar',ax=axs[1],title='Grouping by rows',\n",
    "        xlabel='Category',ylabel='Value',rot=0)\n",
    "plt.show()"
   ],
   "metadata": {
    "id": "EdickYaU-iEO"
   },
   "execution_count": null,
   "outputs": []
  },
  {
   "cell_type": "code",
   "source": [],
   "metadata": {
    "id": "geiodppx-iGN"
   },
   "execution_count": null,
   "outputs": []
  },
  {
   "cell_type": "markdown",
   "source": [
    "# Exercise 2 (Figure 3.7)"
   ],
   "metadata": {
    "id": "vKwHiBaP-f1u"
   }
  },
  {
   "cell_type": "code",
   "execution_count": null,
   "metadata": {
    "id": "6IgOgUtIGFwR"
   },
   "outputs": [],
   "source": [
    "## create data for the bar plot\n",
    "\n",
    "# data sizes\n",
    "m = 30 # rows\n",
    "n =  6 # columns\n",
    "\n",
    "# generate data\n",
    "data = np.zeros((m,n))\n",
    "\n",
    "for i in range(n):\n",
    "  # You can implement the equation directly based on mean=0 and std=1\n",
    "  data[:,i] = 30*np.random.randn(m) * (2*i/(n-1)-1)**2 + (i+1)**2\n",
    "\n",
    "  # or you can specify mu and sigma as parameters\n",
    "  # data[:,i] = np.random.normal(loc=(i+1)**2, scale=30*(2*i/(n-1)-1)**2, size=m)"
   ]
  },
  {
   "cell_type": "code",
   "execution_count": null,
   "metadata": {
    "id": "GUwco_74GFwR"
   },
   "outputs": [],
   "source": [
    "# show the bars!\n",
    "\n",
    "fig,ax = plt.subplots(1,3,figsize=(10,3))\n",
    "\n",
    "# 'naked' bars\n",
    "ax[0].bar(range(n),np.mean(data,axis=0),color='k')\n",
    "ax[0].set_xticks(range(n))\n",
    "ax[0].set_title(r'$\\bf{A}$)  Bar plot')\n",
    "\n",
    "# just the error bars\n",
    "ax[1].errorbar(range(n),np.mean(data,axis=0),np.std(data,axis=0,ddof=1),\n",
    "               marker='.',linestyle='',color='k')\n",
    "ax[1].set_xticks(range(n))\n",
    "ax[1].set_title(r'$\\bf{B}$)  Error plot')\n",
    "\n",
    "# both\n",
    "ax[2].bar(range(n),np.mean(data,axis=0),color='gray')\n",
    "ax[2].set_xticks(range(n))\n",
    "ax[2].errorbar(range(n),np.mean(data,axis=0),np.std(data,axis=0,ddof=1),marker='.',linestyle='',color='k')\n",
    "ax[2].set_title(r'$\\bf{C}$)  Error bar plot')\n",
    "\n",
    "plt.tight_layout()\n",
    "plt.savefig('vis_errorbar.png')\n",
    "plt.show()"
   ]
  },
  {
   "cell_type": "code",
   "source": [],
   "metadata": {
    "id": "oXP5VaoDrA6V"
   },
   "execution_count": null,
   "outputs": []
  },
  {
   "cell_type": "markdown",
   "source": [
    "# Exercise 3"
   ],
   "metadata": {
    "id": "Q9rbQJf7rA80"
   }
  },
  {
   "cell_type": "code",
   "source": [
    "# A pie chart is appropriate here because the data\n",
    "# can be converted to proportion (although they are\n",
    "# not given as proportion, so transformation is needed).\n",
    "\n",
    "# data and labels, specified in a dictionary\n",
    "d = {\n",
    "    'Chocolate': 24,\n",
    "     'Vanilla' : 16,\n",
    "  'Strawberry' :  7,\n",
    "   'Pistachio' : 16\n",
    "   }\n",
    "\n",
    "\n",
    "# note that plt.pie() automatically computes proportion\n",
    "plt.pie(d.values(), labels=d.keys(),\n",
    "        explode=[0,.1,0,.15],autopct='%.1f%%',radius=1.2 )\n",
    "\n",
    "# you can also do it manually:\n",
    "# x = list( d.values() )\n",
    "# x = x/np.sum(x)\n",
    "# plt.pie(x, labels=d.keys() )\n",
    "\n",
    "plt.savefig('vis_ex_pie.png')\n",
    "plt.show()"
   ],
   "metadata": {
    "id": "d25370_zJAnj"
   },
   "execution_count": null,
   "outputs": []
  },
  {
   "cell_type": "code",
   "source": [],
   "metadata": {
    "id": "j2I9dYPj-fzD"
   },
   "execution_count": null,
   "outputs": []
  },
  {
   "cell_type": "markdown",
   "source": [
    "# Exercise 4"
   ],
   "metadata": {
    "id": "pTld_T4xd8Kl"
   }
  },
  {
   "cell_type": "code",
   "source": [
    "data = np.random.gamma(2,2,size=500)\n",
    "\n",
    "# raw histogram values\n",
    "y,x = np.histogram(data,bins=40)\n",
    "x = (x[:-1]+x[1:])/2\n",
    "\n",
    "# normalize to percent\n",
    "yp = (100*y) / np.sum(y)\n",
    "\n",
    "_,axs = plt.subplots(1,2,figsize=(10,5))\n",
    "\n",
    "axs[0].plot(x,y,linewidth=3,color='k')\n",
    "axs[0].set_title(r'$\\bf{A}$)  Counts (sum=%g)' %np.sum(y))\n",
    "axs[0].set_ylabel('Counts')\n",
    "axs[0].set_xlabel('Data values')\n",
    "axs[0].set_xlim(x[[0,-1]])\n",
    "\n",
    "\n",
    "axs[1].plot(x,yp,linewidth=3,color='k')\n",
    "axs[1].set_title(r'$\\bf{B}$)  Percentage (sum=%g)' %np.sum(yp))\n",
    "axs[1].set_ylabel('Percentage')\n",
    "axs[1].set_xlabel('Data values')\n",
    "axs[1].set_xlim(x[[0,-1]])\n",
    "\n",
    "plt.savefig('vis_ex_histCountPerc.png')\n",
    "plt.tight_layout()\n",
    "plt.show()"
   ],
   "metadata": {
    "id": "GhryzhQSp23k"
   },
   "execution_count": null,
   "outputs": []
  },
  {
   "cell_type": "code",
   "source": [],
   "metadata": {
    "id": "2zaXypnhp26Q"
   },
   "execution_count": null,
   "outputs": []
  },
  {
   "cell_type": "markdown",
   "source": [
    "# Exercise 5"
   ],
   "metadata": {
    "id": "4Cl8I3y0-fv7"
   }
  },
  {
   "cell_type": "code",
   "source": [
    "# parameters\n",
    "N = 200 # sample sizes\n",
    "k = 30 # number of bins\n",
    "\n",
    "# create the data\n",
    "d1 = np.random.randn(N) + 2\n",
    "d2 = np.exp( np.random.randn(N) )\n",
    "\n",
    "# define the bins\n",
    "alldata = np.hstack((d1,d2))\n",
    "bins = np.linspace(np.min(alldata),np.max(alldata),k+1)\n",
    "\n",
    "# get histogram values using numpy\n",
    "y1,x1 = np.histogram(d1,bins=bins)\n",
    "y2,x2 = np.histogram(d2,bins=bins)\n",
    "xx = (x1[:-1]+x1[1:])/2\n",
    "\n",
    "\n",
    "### now for plotting\n",
    "_,axs = plt.subplots(1,2,figsize=(10,3))\n",
    "\n",
    "# draw the histograms using matplotlib\n",
    "axs[0].hist(d1,bins=bins,label='Gaussian',alpha=.5,color=(0,0,0))\n",
    "axs[0].hist(d2,bins=bins,label='Exponential',alpha=.5,color=(.6,.6,.6))\n",
    "axs[0].set_title(r'$\\bf{A}$) Histograms using bars')\n",
    "\n",
    "# now draw lines\n",
    "axs[1].plot(xx,y1,linewidth=3,label='Gaussian',color=(0,0,0))\n",
    "axs[1].plot(xx,y2,linewidth=3,label='Exponential',color=(.6,.6,.6))\n",
    "axs[1].set_title(r'$\\bf{B}$) Histograms using lines')\n",
    "\n",
    "for a in axs:\n",
    "  a.set_xlabel('Data value')\n",
    "  a.set_ylabel('Count')\n",
    "  a.legend()\n",
    "\n",
    "\n",
    "plt.tight_layout()\n",
    "plt.savefig('vis_ex_histBarsLines.png')\n",
    "plt.show()"
   ],
   "metadata": {
    "id": "SSe4Mi7nR2n9"
   },
   "execution_count": null,
   "outputs": []
  },
  {
   "cell_type": "code",
   "source": [],
   "metadata": {
    "id": "orEpPWq4R2q5"
   },
   "execution_count": null,
   "outputs": []
  },
  {
   "cell_type": "markdown",
   "source": [
    "# Exercise 6"
   ],
   "metadata": {
    "id": "8gv2sNCGR2tw"
   }
  },
  {
   "cell_type": "code",
   "source": [
    "x = np.linspace(0,6,1001)\n",
    "\n",
    "# plot same function in both axes\n",
    "_,axs = plt.subplots(1,2,figsize=(10,4))\n",
    "for i,a in enumerate(axs):\n",
    "  a.plot(x,x, linewidth=2, label='$y=x$', color=[0,0,0])\n",
    "  a.plot(x,np.exp(x), '--', linewidth=2, label='$y=e^x$', color=[.7,.7,.7])\n",
    "  a.legend()\n",
    "  a.set_title([r'$\\bf{A}$)',r'$\\bf{B}$)'][i] + '  ' + ['Linear','Logarithmic'][i] + ' y-axis scale')\n",
    "  a.set_xlim([np.min(x),np.max(x)])\n",
    "\n",
    "\n",
    "# axis-specific adjustments\n",
    "axs[0].set_ylim([0,100])\n",
    "axs[1].set_yscale('log')\n",
    "\n",
    "# save and display\n",
    "plt.tight_layout()\n",
    "plt.savefig('vis_ex_linlog.png')\n",
    "plt.show()"
   ],
   "metadata": {
    "id": "0EwbMEXsR2wo"
   },
   "execution_count": null,
   "outputs": []
  },
  {
   "cell_type": "code",
   "source": [
    "### Comment about using -x instead of x:\n",
    "# The left plot (linear scale) shows the expected result.\n",
    "# The right plot (log scale) is missing the linear function.\n",
    "#   This happens because the log of a negative number does not exist in the real numbers.\n",
    "#   Therefore, logarithmic y-axis scaling is valid only for positive-valued data.\n",
    "#"
   ],
   "metadata": {
    "id": "KYEDltipR2zl"
   },
   "execution_count": null,
   "outputs": []
  },
  {
   "cell_type": "code",
   "source": [],
   "metadata": {
    "id": "GQ1XrnpfR22X"
   },
   "execution_count": null,
   "outputs": []
  },
  {
   "cell_type": "markdown",
   "source": [
    "# Exercise 7"
   ],
   "metadata": {
    "id": "ozLiJ-Y8R25Q"
   }
  },
  {
   "cell_type": "code",
   "source": [
    "# create data\n",
    "\n",
    "df = pd.DataFrame(np.hstack((np.random.randn(123,1),np.random.rand(123,1))),\n",
    "                  columns = ['norm','unif'])\n",
    "\n",
    "_,axs = plt.subplots(1,2,figsize=(9,5))\n",
    "sns.violinplot(data=df,palette='gray',ax=axs[0])\n",
    "sns.stripplot(data=df,ax=axs[0],palette='dark:w')\n",
    "axs[0].set(xlabel='Distribution type',ylabel='Data value',ylim=[-3.5,3.5])\n",
    "axs[0].set_title(r'$\\bf{A}$) Two symmetric violin plots')\n",
    "\n",
    "# need to combine the columns into one\n",
    "df_all = pd.DataFrame( pd.concat((df['norm'],df['unif']),axis=0),columns=['y'])\n",
    "# and create a separate column to indicate the distribution type\n",
    "df_all['distr'] = 'unif'\n",
    "df_all['distr'][:len(df)] = 'norm' # note: you can safely ignore the warning that this line produces\n",
    "df_all[''] = ' '\n",
    "\n",
    "# now we can create a split violin plot\n",
    "sns.violinplot(data=df_all,x='',y='y',palette='gray',\n",
    "               ax=axs[1],split=True,hue='distr')\n",
    "axs[1].set(xlim=[-.5,.5],ylabel='Data value',ylim=[-3.5,3.5])\n",
    "axs[1].set_title(r'$\\bf{B}$) One asymmetric violin plot')\n",
    "\n",
    "plt.tight_layout()\n",
    "plt.savefig('vis_ex7.png')\n",
    "plt.show()"
   ],
   "metadata": {
    "id": "Eqe5e-Fld8B9"
   },
   "execution_count": null,
   "outputs": []
  },
  {
   "cell_type": "code",
   "source": [],
   "metadata": {
    "id": "u9sCCnuod8H_"
   },
   "execution_count": null,
   "outputs": []
  },
  {
   "cell_type": "markdown",
   "source": [
    "# Exercise 8"
   ],
   "metadata": {
    "id": "b5fiTJ7-p287"
   }
  },
  {
   "cell_type": "code",
   "source": [
    "# data (from https://www.timeanddate.com/weather/%403841798/climate)\n",
    "tempC = [ 26,25,23,19,15,11,11,13,16,19,22,25 ]\n",
    "months = [ 'Jan','Feb','Mar','Apr','May','Jun','Jul','Aug','Sep','Oct','Nov','Dec' ]\n",
    "\n",
    "# import to pandas\n",
    "df = pd.DataFrame(data=list(zip(tempC,months)),columns=['Temp','Month'])\n",
    "\n",
    "# import plotly\n",
    "import plotly.express as px\n",
    "\n",
    "# plotly! (this produces a basic radial plot; you can explore line_polar() for more customizations)\n",
    "fig = px.line_polar(df,r='Temp',theta='Month',line_close=True)\n",
    "fig.show()\n",
    "\n",
    "# Note: If you get a warning message about pandas.concat, this is coming from inside the line_polar function.\n",
    "#       I'll update the code if this ends up breaking. For now, ignore the warning."
   ],
   "metadata": {
    "id": "-oPChOhEp2_i"
   },
   "execution_count": null,
   "outputs": []
  },
  {
   "cell_type": "code",
   "source": [],
   "metadata": {
    "id": "OerQoNt7DJee"
   },
   "execution_count": null,
   "outputs": []
  }
 ]
}
